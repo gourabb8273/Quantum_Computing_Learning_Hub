{
  "nbformat": 4,
  "nbformat_minor": 0,
  "metadata": {
    "colab": {
      "provenance": []
    },
    "kernelspec": {
      "name": "python3",
      "display_name": "Python 3"
    },
    "language_info": {
      "name": "python"
    }
  },
  "cells": [
    {
      "cell_type": "code",
      "execution_count": null,
      "metadata": {
        "id": "YNMTaED1z07X"
      },
      "outputs": [],
      "source": [
        "### Install Qiskit and relevant packages, if needed\n",
        "### IMPORTANT: Make sure you are on 3.10 > python < 3.12\n",
        "%pip install -q qiskit[visualization]==1.0.2\n",
        "%pip install -q qiskit-ibm-runtime\n",
        "%pip install -q qiskit-aer\n",
        "%pip install -q graphviz\n",
        "%pip install -q qiskit-serverless -U\n",
        "%pip install -q qiskit-transpiler-service -U\n",
        "!pip install -q qiskit_algorithms\n",
        "!pip install -q qiskit_machine_learning"
      ]
    },
    {
      "cell_type": "code",
      "source": [
        "# Import all in one cell\n",
        "\n",
        "import numpy as np\n",
        "import pandas as pd\n",
        "import matplotlib.pyplot as plt\n",
        "from scipy.optimize import minimize\n",
        "\n",
        "from qiskit import QuantumCircuit\n",
        "from qiskit.quantum_info import SparsePauliOp\n",
        "from qiskit.circuit.library import RealAmplitudes,ZZFeatureMap\n",
        "from qiskit.transpiler.preset_passmanagers import generate_preset_pass_manager\n",
        "from qiskit.transpiler import InstructionProperties\n",
        "from qiskit.visualization import plot_distribution\n",
        "from qiskit.providers.fake_provider import GenericBackendV2\n",
        "from qiskit.primitives import StatevectorEstimator\n",
        "from qiskit_algorithms.optimizers import SPSA, COBYLA, L_BFGS_B, POWELL\n",
        "from qiskit.primitives import Sampler, Estimator\n",
        "from qiskit_machine_learning.algorithms import VQC\n",
        "from qiskit_aer import AerSimulator\n",
        "\n",
        "from qiskit_aer import AerSimulator\n",
        "from qiskit_ibm_runtime import (\n",
        "    QiskitRuntimeService,\n",
        "    EstimatorV2 as Estimator,\n",
        "    SamplerV2 as Sampler,\n",
        "    EstimatorOptions\n",
        ")"
      ],
      "metadata": {
        "id": "_7xBPVmM5NhF"
      },
      "execution_count": 209,
      "outputs": []
    },
    {
      "cell_type": "code",
      "source": [
        "df = pd.read_csv('Credit card data sample3.csv')\n",
        "# df = pd.read_csv('credit card .csv')\n",
        "df.shape"
      ],
      "metadata": {
        "id": "hpEwBV_05PZf",
        "colab": {
          "base_uri": "https://localhost:8080/"
        },
        "outputId": "15d49c52-5e8d-434c-82cc-b4e2846b3283"
      },
      "execution_count": 215,
      "outputs": [
        {
          "output_type": "execute_result",
          "data": {
            "text/plain": [
              "(348, 31)"
            ]
          },
          "metadata": {},
          "execution_count": 215
        }
      ]
    },
    {
      "cell_type": "code",
      "source": [
        "df = df.head(100)"
      ],
      "metadata": {
        "id": "PMUyspPc5Xpy"
      },
      "execution_count": 216,
      "outputs": []
    },
    {
      "cell_type": "code",
      "source": [
        "df"
      ],
      "metadata": {
        "colab": {
          "base_uri": "https://localhost:8080/",
          "height": 444
        },
        "id": "sUr7bX1a5ZO-",
        "outputId": "ee73e828-0972-495b-f52b-2609f2e9bd74"
      },
      "execution_count": 212,
      "outputs": [
        {
          "output_type": "execute_result",
          "data": {
            "text/plain": [
              "      Time        V1        V2        V3        V4        V5        V6  \\\n",
              "0      406 -2.312227  1.951992 -1.609851  3.997906 -0.522188 -1.426545   \n",
              "1      472 -3.043541 -3.157307  1.088463  2.288644  1.359805 -1.064823   \n",
              "2     4462 -2.303350  1.759247 -0.359745  2.330243 -0.821628 -0.075788   \n",
              "3     6986 -4.397974  1.358367 -2.592844  2.679787 -1.128131 -1.706536   \n",
              "4     7519  1.234235  3.019740 -4.304597  4.732795  3.624201 -1.357746   \n",
              "..     ...       ...       ...       ...       ...       ...       ...   \n",
              "95  171933  2.219537 -0.522871 -1.420302 -0.924451 -0.337605 -1.415039   \n",
              "96  171933 -0.452822  1.650038 -2.385554 -0.602103  1.057404 -0.157200   \n",
              "97  171934 -0.181557  0.845111  0.217360 -0.586057  0.752814 -1.164822   \n",
              "98  171934 -0.347149  1.109492 -0.972439 -0.867137  1.479382  1.163589   \n",
              "99  171934  1.969801  0.093578 -1.785392  0.588342  0.127227 -1.532185   \n",
              "\n",
              "          V7        V8        V9  ...       V21       V22       V23       V24  \\\n",
              "0  -2.537387  1.391657 -2.770089  ...  0.517232 -0.035049 -0.465211  0.320198   \n",
              "1   0.325574 -0.067794 -0.270953  ...  0.661696  0.435477  1.375966 -0.293803   \n",
              "2   0.562320 -0.399147 -0.238253  ... -0.294166 -0.932391  0.172726 -0.087330   \n",
              "3  -3.496197 -0.248778 -0.247768  ...  0.573574  0.176968 -0.436207 -0.053502   \n",
              "4   1.713445 -0.496358 -1.282858  ... -0.379068 -0.704181 -0.656805 -1.632653   \n",
              "..       ...       ...       ...  ...       ...       ...       ...       ...   \n",
              "95 -0.050859 -0.498773 -0.843595  ...  0.065885  0.188144  0.196979 -0.057347   \n",
              "96  0.021579 -2.398417 -1.068964  ... -1.049429  0.958276  0.089853  0.139759   \n",
              "97  1.230336 -0.383399  0.422314  ... -0.293692 -0.425263 -0.169772 -0.068895   \n",
              "98  0.275864  0.910857 -0.529666  ... -0.177324 -0.391248  0.180529 -0.820955   \n",
              "99  0.339243 -0.408832  0.582091  ...  0.217424  0.703766 -0.060156 -0.024162   \n",
              "\n",
              "         V25       V26       V27       V28  Amount  Class  \n",
              "0   0.044519  0.177840  0.261145 -0.143276    0.00      1  \n",
              "1   0.279798 -0.145362 -0.252773  0.035764  529.00      1  \n",
              "2  -0.156114 -0.542628  0.039566 -0.153029  239.93      1  \n",
              "3   0.252405 -0.657488 -0.827136  0.849573   59.00      1  \n",
              "4   1.488901  0.566797 -0.010016  0.146793    1.00      1  \n",
              "..       ...       ...       ...       ...     ...    ...  \n",
              "95 -0.039596 -0.310990 -0.039283 -0.060392   17.99      0  \n",
              "96 -0.400229  0.509021 -0.112678  0.050756   42.81      0  \n",
              "97  0.261617 -0.097574  0.062056 -0.153896   30.00      0  \n",
              "98 -0.601291  0.213928  0.149762 -0.002573    1.79      0  \n",
              "99  0.235588 -0.108693 -0.009555 -0.021006   48.00      0  \n",
              "\n",
              "[100 rows x 31 columns]"
            ],
            "text/html": [
              "\n",
              "  <div id=\"df-41b2d1c1-7dfb-4f24-a17a-5f23cf4437a0\" class=\"colab-df-container\">\n",
              "    <div>\n",
              "<style scoped>\n",
              "    .dataframe tbody tr th:only-of-type {\n",
              "        vertical-align: middle;\n",
              "    }\n",
              "\n",
              "    .dataframe tbody tr th {\n",
              "        vertical-align: top;\n",
              "    }\n",
              "\n",
              "    .dataframe thead th {\n",
              "        text-align: right;\n",
              "    }\n",
              "</style>\n",
              "<table border=\"1\" class=\"dataframe\">\n",
              "  <thead>\n",
              "    <tr style=\"text-align: right;\">\n",
              "      <th></th>\n",
              "      <th>Time</th>\n",
              "      <th>V1</th>\n",
              "      <th>V2</th>\n",
              "      <th>V3</th>\n",
              "      <th>V4</th>\n",
              "      <th>V5</th>\n",
              "      <th>V6</th>\n",
              "      <th>V7</th>\n",
              "      <th>V8</th>\n",
              "      <th>V9</th>\n",
              "      <th>...</th>\n",
              "      <th>V21</th>\n",
              "      <th>V22</th>\n",
              "      <th>V23</th>\n",
              "      <th>V24</th>\n",
              "      <th>V25</th>\n",
              "      <th>V26</th>\n",
              "      <th>V27</th>\n",
              "      <th>V28</th>\n",
              "      <th>Amount</th>\n",
              "      <th>Class</th>\n",
              "    </tr>\n",
              "  </thead>\n",
              "  <tbody>\n",
              "    <tr>\n",
              "      <th>0</th>\n",
              "      <td>406</td>\n",
              "      <td>-2.312227</td>\n",
              "      <td>1.951992</td>\n",
              "      <td>-1.609851</td>\n",
              "      <td>3.997906</td>\n",
              "      <td>-0.522188</td>\n",
              "      <td>-1.426545</td>\n",
              "      <td>-2.537387</td>\n",
              "      <td>1.391657</td>\n",
              "      <td>-2.770089</td>\n",
              "      <td>...</td>\n",
              "      <td>0.517232</td>\n",
              "      <td>-0.035049</td>\n",
              "      <td>-0.465211</td>\n",
              "      <td>0.320198</td>\n",
              "      <td>0.044519</td>\n",
              "      <td>0.177840</td>\n",
              "      <td>0.261145</td>\n",
              "      <td>-0.143276</td>\n",
              "      <td>0.00</td>\n",
              "      <td>1</td>\n",
              "    </tr>\n",
              "    <tr>\n",
              "      <th>1</th>\n",
              "      <td>472</td>\n",
              "      <td>-3.043541</td>\n",
              "      <td>-3.157307</td>\n",
              "      <td>1.088463</td>\n",
              "      <td>2.288644</td>\n",
              "      <td>1.359805</td>\n",
              "      <td>-1.064823</td>\n",
              "      <td>0.325574</td>\n",
              "      <td>-0.067794</td>\n",
              "      <td>-0.270953</td>\n",
              "      <td>...</td>\n",
              "      <td>0.661696</td>\n",
              "      <td>0.435477</td>\n",
              "      <td>1.375966</td>\n",
              "      <td>-0.293803</td>\n",
              "      <td>0.279798</td>\n",
              "      <td>-0.145362</td>\n",
              "      <td>-0.252773</td>\n",
              "      <td>0.035764</td>\n",
              "      <td>529.00</td>\n",
              "      <td>1</td>\n",
              "    </tr>\n",
              "    <tr>\n",
              "      <th>2</th>\n",
              "      <td>4462</td>\n",
              "      <td>-2.303350</td>\n",
              "      <td>1.759247</td>\n",
              "      <td>-0.359745</td>\n",
              "      <td>2.330243</td>\n",
              "      <td>-0.821628</td>\n",
              "      <td>-0.075788</td>\n",
              "      <td>0.562320</td>\n",
              "      <td>-0.399147</td>\n",
              "      <td>-0.238253</td>\n",
              "      <td>...</td>\n",
              "      <td>-0.294166</td>\n",
              "      <td>-0.932391</td>\n",
              "      <td>0.172726</td>\n",
              "      <td>-0.087330</td>\n",
              "      <td>-0.156114</td>\n",
              "      <td>-0.542628</td>\n",
              "      <td>0.039566</td>\n",
              "      <td>-0.153029</td>\n",
              "      <td>239.93</td>\n",
              "      <td>1</td>\n",
              "    </tr>\n",
              "    <tr>\n",
              "      <th>3</th>\n",
              "      <td>6986</td>\n",
              "      <td>-4.397974</td>\n",
              "      <td>1.358367</td>\n",
              "      <td>-2.592844</td>\n",
              "      <td>2.679787</td>\n",
              "      <td>-1.128131</td>\n",
              "      <td>-1.706536</td>\n",
              "      <td>-3.496197</td>\n",
              "      <td>-0.248778</td>\n",
              "      <td>-0.247768</td>\n",
              "      <td>...</td>\n",
              "      <td>0.573574</td>\n",
              "      <td>0.176968</td>\n",
              "      <td>-0.436207</td>\n",
              "      <td>-0.053502</td>\n",
              "      <td>0.252405</td>\n",
              "      <td>-0.657488</td>\n",
              "      <td>-0.827136</td>\n",
              "      <td>0.849573</td>\n",
              "      <td>59.00</td>\n",
              "      <td>1</td>\n",
              "    </tr>\n",
              "    <tr>\n",
              "      <th>4</th>\n",
              "      <td>7519</td>\n",
              "      <td>1.234235</td>\n",
              "      <td>3.019740</td>\n",
              "      <td>-4.304597</td>\n",
              "      <td>4.732795</td>\n",
              "      <td>3.624201</td>\n",
              "      <td>-1.357746</td>\n",
              "      <td>1.713445</td>\n",
              "      <td>-0.496358</td>\n",
              "      <td>-1.282858</td>\n",
              "      <td>...</td>\n",
              "      <td>-0.379068</td>\n",
              "      <td>-0.704181</td>\n",
              "      <td>-0.656805</td>\n",
              "      <td>-1.632653</td>\n",
              "      <td>1.488901</td>\n",
              "      <td>0.566797</td>\n",
              "      <td>-0.010016</td>\n",
              "      <td>0.146793</td>\n",
              "      <td>1.00</td>\n",
              "      <td>1</td>\n",
              "    </tr>\n",
              "    <tr>\n",
              "      <th>...</th>\n",
              "      <td>...</td>\n",
              "      <td>...</td>\n",
              "      <td>...</td>\n",
              "      <td>...</td>\n",
              "      <td>...</td>\n",
              "      <td>...</td>\n",
              "      <td>...</td>\n",
              "      <td>...</td>\n",
              "      <td>...</td>\n",
              "      <td>...</td>\n",
              "      <td>...</td>\n",
              "      <td>...</td>\n",
              "      <td>...</td>\n",
              "      <td>...</td>\n",
              "      <td>...</td>\n",
              "      <td>...</td>\n",
              "      <td>...</td>\n",
              "      <td>...</td>\n",
              "      <td>...</td>\n",
              "      <td>...</td>\n",
              "      <td>...</td>\n",
              "    </tr>\n",
              "    <tr>\n",
              "      <th>95</th>\n",
              "      <td>171933</td>\n",
              "      <td>2.219537</td>\n",
              "      <td>-0.522871</td>\n",
              "      <td>-1.420302</td>\n",
              "      <td>-0.924451</td>\n",
              "      <td>-0.337605</td>\n",
              "      <td>-1.415039</td>\n",
              "      <td>-0.050859</td>\n",
              "      <td>-0.498773</td>\n",
              "      <td>-0.843595</td>\n",
              "      <td>...</td>\n",
              "      <td>0.065885</td>\n",
              "      <td>0.188144</td>\n",
              "      <td>0.196979</td>\n",
              "      <td>-0.057347</td>\n",
              "      <td>-0.039596</td>\n",
              "      <td>-0.310990</td>\n",
              "      <td>-0.039283</td>\n",
              "      <td>-0.060392</td>\n",
              "      <td>17.99</td>\n",
              "      <td>0</td>\n",
              "    </tr>\n",
              "    <tr>\n",
              "      <th>96</th>\n",
              "      <td>171933</td>\n",
              "      <td>-0.452822</td>\n",
              "      <td>1.650038</td>\n",
              "      <td>-2.385554</td>\n",
              "      <td>-0.602103</td>\n",
              "      <td>1.057404</td>\n",
              "      <td>-0.157200</td>\n",
              "      <td>0.021579</td>\n",
              "      <td>-2.398417</td>\n",
              "      <td>-1.068964</td>\n",
              "      <td>...</td>\n",
              "      <td>-1.049429</td>\n",
              "      <td>0.958276</td>\n",
              "      <td>0.089853</td>\n",
              "      <td>0.139759</td>\n",
              "      <td>-0.400229</td>\n",
              "      <td>0.509021</td>\n",
              "      <td>-0.112678</td>\n",
              "      <td>0.050756</td>\n",
              "      <td>42.81</td>\n",
              "      <td>0</td>\n",
              "    </tr>\n",
              "    <tr>\n",
              "      <th>97</th>\n",
              "      <td>171934</td>\n",
              "      <td>-0.181557</td>\n",
              "      <td>0.845111</td>\n",
              "      <td>0.217360</td>\n",
              "      <td>-0.586057</td>\n",
              "      <td>0.752814</td>\n",
              "      <td>-1.164822</td>\n",
              "      <td>1.230336</td>\n",
              "      <td>-0.383399</td>\n",
              "      <td>0.422314</td>\n",
              "      <td>...</td>\n",
              "      <td>-0.293692</td>\n",
              "      <td>-0.425263</td>\n",
              "      <td>-0.169772</td>\n",
              "      <td>-0.068895</td>\n",
              "      <td>0.261617</td>\n",
              "      <td>-0.097574</td>\n",
              "      <td>0.062056</td>\n",
              "      <td>-0.153896</td>\n",
              "      <td>30.00</td>\n",
              "      <td>0</td>\n",
              "    </tr>\n",
              "    <tr>\n",
              "      <th>98</th>\n",
              "      <td>171934</td>\n",
              "      <td>-0.347149</td>\n",
              "      <td>1.109492</td>\n",
              "      <td>-0.972439</td>\n",
              "      <td>-0.867137</td>\n",
              "      <td>1.479382</td>\n",
              "      <td>1.163589</td>\n",
              "      <td>0.275864</td>\n",
              "      <td>0.910857</td>\n",
              "      <td>-0.529666</td>\n",
              "      <td>...</td>\n",
              "      <td>-0.177324</td>\n",
              "      <td>-0.391248</td>\n",
              "      <td>0.180529</td>\n",
              "      <td>-0.820955</td>\n",
              "      <td>-0.601291</td>\n",
              "      <td>0.213928</td>\n",
              "      <td>0.149762</td>\n",
              "      <td>-0.002573</td>\n",
              "      <td>1.79</td>\n",
              "      <td>0</td>\n",
              "    </tr>\n",
              "    <tr>\n",
              "      <th>99</th>\n",
              "      <td>171934</td>\n",
              "      <td>1.969801</td>\n",
              "      <td>0.093578</td>\n",
              "      <td>-1.785392</td>\n",
              "      <td>0.588342</td>\n",
              "      <td>0.127227</td>\n",
              "      <td>-1.532185</td>\n",
              "      <td>0.339243</td>\n",
              "      <td>-0.408832</td>\n",
              "      <td>0.582091</td>\n",
              "      <td>...</td>\n",
              "      <td>0.217424</td>\n",
              "      <td>0.703766</td>\n",
              "      <td>-0.060156</td>\n",
              "      <td>-0.024162</td>\n",
              "      <td>0.235588</td>\n",
              "      <td>-0.108693</td>\n",
              "      <td>-0.009555</td>\n",
              "      <td>-0.021006</td>\n",
              "      <td>48.00</td>\n",
              "      <td>0</td>\n",
              "    </tr>\n",
              "  </tbody>\n",
              "</table>\n",
              "<p>100 rows × 31 columns</p>\n",
              "</div>\n",
              "    <div class=\"colab-df-buttons\">\n",
              "\n",
              "  <div class=\"colab-df-container\">\n",
              "    <button class=\"colab-df-convert\" onclick=\"convertToInteractive('df-41b2d1c1-7dfb-4f24-a17a-5f23cf4437a0')\"\n",
              "            title=\"Convert this dataframe to an interactive table.\"\n",
              "            style=\"display:none;\">\n",
              "\n",
              "  <svg xmlns=\"http://www.w3.org/2000/svg\" height=\"24px\" viewBox=\"0 -960 960 960\">\n",
              "    <path d=\"M120-120v-720h720v720H120Zm60-500h600v-160H180v160Zm220 220h160v-160H400v160Zm0 220h160v-160H400v160ZM180-400h160v-160H180v160Zm440 0h160v-160H620v160ZM180-180h160v-160H180v160Zm440 0h160v-160H620v160Z\"/>\n",
              "  </svg>\n",
              "    </button>\n",
              "\n",
              "  <style>\n",
              "    .colab-df-container {\n",
              "      display:flex;\n",
              "      gap: 12px;\n",
              "    }\n",
              "\n",
              "    .colab-df-convert {\n",
              "      background-color: #E8F0FE;\n",
              "      border: none;\n",
              "      border-radius: 50%;\n",
              "      cursor: pointer;\n",
              "      display: none;\n",
              "      fill: #1967D2;\n",
              "      height: 32px;\n",
              "      padding: 0 0 0 0;\n",
              "      width: 32px;\n",
              "    }\n",
              "\n",
              "    .colab-df-convert:hover {\n",
              "      background-color: #E2EBFA;\n",
              "      box-shadow: 0px 1px 2px rgba(60, 64, 67, 0.3), 0px 1px 3px 1px rgba(60, 64, 67, 0.15);\n",
              "      fill: #174EA6;\n",
              "    }\n",
              "\n",
              "    .colab-df-buttons div {\n",
              "      margin-bottom: 4px;\n",
              "    }\n",
              "\n",
              "    [theme=dark] .colab-df-convert {\n",
              "      background-color: #3B4455;\n",
              "      fill: #D2E3FC;\n",
              "    }\n",
              "\n",
              "    [theme=dark] .colab-df-convert:hover {\n",
              "      background-color: #434B5C;\n",
              "      box-shadow: 0px 1px 3px 1px rgba(0, 0, 0, 0.15);\n",
              "      filter: drop-shadow(0px 1px 2px rgba(0, 0, 0, 0.3));\n",
              "      fill: #FFFFFF;\n",
              "    }\n",
              "  </style>\n",
              "\n",
              "    <script>\n",
              "      const buttonEl =\n",
              "        document.querySelector('#df-41b2d1c1-7dfb-4f24-a17a-5f23cf4437a0 button.colab-df-convert');\n",
              "      buttonEl.style.display =\n",
              "        google.colab.kernel.accessAllowed ? 'block' : 'none';\n",
              "\n",
              "      async function convertToInteractive(key) {\n",
              "        const element = document.querySelector('#df-41b2d1c1-7dfb-4f24-a17a-5f23cf4437a0');\n",
              "        const dataTable =\n",
              "          await google.colab.kernel.invokeFunction('convertToInteractive',\n",
              "                                                    [key], {});\n",
              "        if (!dataTable) return;\n",
              "\n",
              "        const docLinkHtml = 'Like what you see? Visit the ' +\n",
              "          '<a target=\"_blank\" href=https://colab.research.google.com/notebooks/data_table.ipynb>data table notebook</a>'\n",
              "          + ' to learn more about interactive tables.';\n",
              "        element.innerHTML = '';\n",
              "        dataTable['output_type'] = 'display_data';\n",
              "        await google.colab.output.renderOutput(dataTable, element);\n",
              "        const docLink = document.createElement('div');\n",
              "        docLink.innerHTML = docLinkHtml;\n",
              "        element.appendChild(docLink);\n",
              "      }\n",
              "    </script>\n",
              "  </div>\n",
              "\n",
              "\n",
              "<div id=\"df-a79ed4bf-e9c3-4f81-a30c-4ea8fe70a04e\">\n",
              "  <button class=\"colab-df-quickchart\" onclick=\"quickchart('df-a79ed4bf-e9c3-4f81-a30c-4ea8fe70a04e')\"\n",
              "            title=\"Suggest charts\"\n",
              "            style=\"display:none;\">\n",
              "\n",
              "<svg xmlns=\"http://www.w3.org/2000/svg\" height=\"24px\"viewBox=\"0 0 24 24\"\n",
              "     width=\"24px\">\n",
              "    <g>\n",
              "        <path d=\"M19 3H5c-1.1 0-2 .9-2 2v14c0 1.1.9 2 2 2h14c1.1 0 2-.9 2-2V5c0-1.1-.9-2-2-2zM9 17H7v-7h2v7zm4 0h-2V7h2v10zm4 0h-2v-4h2v4z\"/>\n",
              "    </g>\n",
              "</svg>\n",
              "  </button>\n",
              "\n",
              "<style>\n",
              "  .colab-df-quickchart {\n",
              "      --bg-color: #E8F0FE;\n",
              "      --fill-color: #1967D2;\n",
              "      --hover-bg-color: #E2EBFA;\n",
              "      --hover-fill-color: #174EA6;\n",
              "      --disabled-fill-color: #AAA;\n",
              "      --disabled-bg-color: #DDD;\n",
              "  }\n",
              "\n",
              "  [theme=dark] .colab-df-quickchart {\n",
              "      --bg-color: #3B4455;\n",
              "      --fill-color: #D2E3FC;\n",
              "      --hover-bg-color: #434B5C;\n",
              "      --hover-fill-color: #FFFFFF;\n",
              "      --disabled-bg-color: #3B4455;\n",
              "      --disabled-fill-color: #666;\n",
              "  }\n",
              "\n",
              "  .colab-df-quickchart {\n",
              "    background-color: var(--bg-color);\n",
              "    border: none;\n",
              "    border-radius: 50%;\n",
              "    cursor: pointer;\n",
              "    display: none;\n",
              "    fill: var(--fill-color);\n",
              "    height: 32px;\n",
              "    padding: 0;\n",
              "    width: 32px;\n",
              "  }\n",
              "\n",
              "  .colab-df-quickchart:hover {\n",
              "    background-color: var(--hover-bg-color);\n",
              "    box-shadow: 0 1px 2px rgba(60, 64, 67, 0.3), 0 1px 3px 1px rgba(60, 64, 67, 0.15);\n",
              "    fill: var(--button-hover-fill-color);\n",
              "  }\n",
              "\n",
              "  .colab-df-quickchart-complete:disabled,\n",
              "  .colab-df-quickchart-complete:disabled:hover {\n",
              "    background-color: var(--disabled-bg-color);\n",
              "    fill: var(--disabled-fill-color);\n",
              "    box-shadow: none;\n",
              "  }\n",
              "\n",
              "  .colab-df-spinner {\n",
              "    border: 2px solid var(--fill-color);\n",
              "    border-color: transparent;\n",
              "    border-bottom-color: var(--fill-color);\n",
              "    animation:\n",
              "      spin 1s steps(1) infinite;\n",
              "  }\n",
              "\n",
              "  @keyframes spin {\n",
              "    0% {\n",
              "      border-color: transparent;\n",
              "      border-bottom-color: var(--fill-color);\n",
              "      border-left-color: var(--fill-color);\n",
              "    }\n",
              "    20% {\n",
              "      border-color: transparent;\n",
              "      border-left-color: var(--fill-color);\n",
              "      border-top-color: var(--fill-color);\n",
              "    }\n",
              "    30% {\n",
              "      border-color: transparent;\n",
              "      border-left-color: var(--fill-color);\n",
              "      border-top-color: var(--fill-color);\n",
              "      border-right-color: var(--fill-color);\n",
              "    }\n",
              "    40% {\n",
              "      border-color: transparent;\n",
              "      border-right-color: var(--fill-color);\n",
              "      border-top-color: var(--fill-color);\n",
              "    }\n",
              "    60% {\n",
              "      border-color: transparent;\n",
              "      border-right-color: var(--fill-color);\n",
              "    }\n",
              "    80% {\n",
              "      border-color: transparent;\n",
              "      border-right-color: var(--fill-color);\n",
              "      border-bottom-color: var(--fill-color);\n",
              "    }\n",
              "    90% {\n",
              "      border-color: transparent;\n",
              "      border-bottom-color: var(--fill-color);\n",
              "    }\n",
              "  }\n",
              "</style>\n",
              "\n",
              "  <script>\n",
              "    async function quickchart(key) {\n",
              "      const quickchartButtonEl =\n",
              "        document.querySelector('#' + key + ' button');\n",
              "      quickchartButtonEl.disabled = true;  // To prevent multiple clicks.\n",
              "      quickchartButtonEl.classList.add('colab-df-spinner');\n",
              "      try {\n",
              "        const charts = await google.colab.kernel.invokeFunction(\n",
              "            'suggestCharts', [key], {});\n",
              "      } catch (error) {\n",
              "        console.error('Error during call to suggestCharts:', error);\n",
              "      }\n",
              "      quickchartButtonEl.classList.remove('colab-df-spinner');\n",
              "      quickchartButtonEl.classList.add('colab-df-quickchart-complete');\n",
              "    }\n",
              "    (() => {\n",
              "      let quickchartButtonEl =\n",
              "        document.querySelector('#df-a79ed4bf-e9c3-4f81-a30c-4ea8fe70a04e button');\n",
              "      quickchartButtonEl.style.display =\n",
              "        google.colab.kernel.accessAllowed ? 'block' : 'none';\n",
              "    })();\n",
              "  </script>\n",
              "</div>\n",
              "\n",
              "  <div id=\"id_8e3c0f74-0911-4d78-81f5-81d2f50c76ae\">\n",
              "    <style>\n",
              "      .colab-df-generate {\n",
              "        background-color: #E8F0FE;\n",
              "        border: none;\n",
              "        border-radius: 50%;\n",
              "        cursor: pointer;\n",
              "        display: none;\n",
              "        fill: #1967D2;\n",
              "        height: 32px;\n",
              "        padding: 0 0 0 0;\n",
              "        width: 32px;\n",
              "      }\n",
              "\n",
              "      .colab-df-generate:hover {\n",
              "        background-color: #E2EBFA;\n",
              "        box-shadow: 0px 1px 2px rgba(60, 64, 67, 0.3), 0px 1px 3px 1px rgba(60, 64, 67, 0.15);\n",
              "        fill: #174EA6;\n",
              "      }\n",
              "\n",
              "      [theme=dark] .colab-df-generate {\n",
              "        background-color: #3B4455;\n",
              "        fill: #D2E3FC;\n",
              "      }\n",
              "\n",
              "      [theme=dark] .colab-df-generate:hover {\n",
              "        background-color: #434B5C;\n",
              "        box-shadow: 0px 1px 3px 1px rgba(0, 0, 0, 0.15);\n",
              "        filter: drop-shadow(0px 1px 2px rgba(0, 0, 0, 0.3));\n",
              "        fill: #FFFFFF;\n",
              "      }\n",
              "    </style>\n",
              "    <button class=\"colab-df-generate\" onclick=\"generateWithVariable('df')\"\n",
              "            title=\"Generate code using this dataframe.\"\n",
              "            style=\"display:none;\">\n",
              "\n",
              "  <svg xmlns=\"http://www.w3.org/2000/svg\" height=\"24px\"viewBox=\"0 0 24 24\"\n",
              "       width=\"24px\">\n",
              "    <path d=\"M7,19H8.4L18.45,9,17,7.55,7,17.6ZM5,21V16.75L18.45,3.32a2,2,0,0,1,2.83,0l1.4,1.43a1.91,1.91,0,0,1,.58,1.4,1.91,1.91,0,0,1-.58,1.4L9.25,21ZM18.45,9,17,7.55Zm-12,3A5.31,5.31,0,0,0,4.9,8.1,5.31,5.31,0,0,0,1,6.5,5.31,5.31,0,0,0,4.9,4.9,5.31,5.31,0,0,0,6.5,1,5.31,5.31,0,0,0,8.1,4.9,5.31,5.31,0,0,0,12,6.5,5.46,5.46,0,0,0,6.5,12Z\"/>\n",
              "  </svg>\n",
              "    </button>\n",
              "    <script>\n",
              "      (() => {\n",
              "      const buttonEl =\n",
              "        document.querySelector('#id_8e3c0f74-0911-4d78-81f5-81d2f50c76ae button.colab-df-generate');\n",
              "      buttonEl.style.display =\n",
              "        google.colab.kernel.accessAllowed ? 'block' : 'none';\n",
              "\n",
              "      buttonEl.onclick = () => {\n",
              "        google.colab.notebook.generateWithVariable('df');\n",
              "      }\n",
              "      })();\n",
              "    </script>\n",
              "  </div>\n",
              "\n",
              "    </div>\n",
              "  </div>\n"
            ],
            "application/vnd.google.colaboratory.intrinsic+json": {
              "type": "dataframe",
              "variable_name": "df"
            }
          },
          "metadata": {},
          "execution_count": 212
        }
      ]
    },
    {
      "cell_type": "code",
      "source": [
        "df = df.drop(columns=['Time'])\n",
        "df = df.iloc[:, -6:]  # Selecting last 5 columns\n",
        "df.head(10)"
      ],
      "metadata": {
        "colab": {
          "base_uri": "https://localhost:8080/",
          "height": 363
        },
        "id": "eXyBbipq5fSe",
        "outputId": "726edd85-459f-4394-de76-70a1420fc08e"
      },
      "execution_count": 217,
      "outputs": [
        {
          "output_type": "execute_result",
          "data": {
            "text/plain": [
              "        V25       V26       V27       V28  Amount  Class\n",
              "0  0.044519  0.177840  0.261145 -0.143276    0.00      1\n",
              "1  0.279798 -0.145362 -0.252773  0.035764  529.00      1\n",
              "2 -0.156114 -0.542628  0.039566 -0.153029  239.93      1\n",
              "3  0.252405 -0.657488 -0.827136  0.849573   59.00      1\n",
              "4  1.488901  0.566797 -0.010016  0.146793    1.00      1\n",
              "5  1.488481  0.507963  0.735822  0.513574    1.00      1\n",
              "6  1.605056  0.540675  0.737040  0.496699    1.00      1\n",
              "7  0.128539 -0.189115  0.133558 -0.021053  149.62      0\n",
              "8  0.167170  0.125895 -0.008983  0.014724    2.69      0\n",
              "9 -0.327642 -0.139097 -0.055353 -0.059752  378.66      0"
            ],
            "text/html": [
              "\n",
              "  <div id=\"df-f977aea2-b175-46e0-8d56-396a239b4343\" class=\"colab-df-container\">\n",
              "    <div>\n",
              "<style scoped>\n",
              "    .dataframe tbody tr th:only-of-type {\n",
              "        vertical-align: middle;\n",
              "    }\n",
              "\n",
              "    .dataframe tbody tr th {\n",
              "        vertical-align: top;\n",
              "    }\n",
              "\n",
              "    .dataframe thead th {\n",
              "        text-align: right;\n",
              "    }\n",
              "</style>\n",
              "<table border=\"1\" class=\"dataframe\">\n",
              "  <thead>\n",
              "    <tr style=\"text-align: right;\">\n",
              "      <th></th>\n",
              "      <th>V25</th>\n",
              "      <th>V26</th>\n",
              "      <th>V27</th>\n",
              "      <th>V28</th>\n",
              "      <th>Amount</th>\n",
              "      <th>Class</th>\n",
              "    </tr>\n",
              "  </thead>\n",
              "  <tbody>\n",
              "    <tr>\n",
              "      <th>0</th>\n",
              "      <td>0.044519</td>\n",
              "      <td>0.177840</td>\n",
              "      <td>0.261145</td>\n",
              "      <td>-0.143276</td>\n",
              "      <td>0.00</td>\n",
              "      <td>1</td>\n",
              "    </tr>\n",
              "    <tr>\n",
              "      <th>1</th>\n",
              "      <td>0.279798</td>\n",
              "      <td>-0.145362</td>\n",
              "      <td>-0.252773</td>\n",
              "      <td>0.035764</td>\n",
              "      <td>529.00</td>\n",
              "      <td>1</td>\n",
              "    </tr>\n",
              "    <tr>\n",
              "      <th>2</th>\n",
              "      <td>-0.156114</td>\n",
              "      <td>-0.542628</td>\n",
              "      <td>0.039566</td>\n",
              "      <td>-0.153029</td>\n",
              "      <td>239.93</td>\n",
              "      <td>1</td>\n",
              "    </tr>\n",
              "    <tr>\n",
              "      <th>3</th>\n",
              "      <td>0.252405</td>\n",
              "      <td>-0.657488</td>\n",
              "      <td>-0.827136</td>\n",
              "      <td>0.849573</td>\n",
              "      <td>59.00</td>\n",
              "      <td>1</td>\n",
              "    </tr>\n",
              "    <tr>\n",
              "      <th>4</th>\n",
              "      <td>1.488901</td>\n",
              "      <td>0.566797</td>\n",
              "      <td>-0.010016</td>\n",
              "      <td>0.146793</td>\n",
              "      <td>1.00</td>\n",
              "      <td>1</td>\n",
              "    </tr>\n",
              "    <tr>\n",
              "      <th>5</th>\n",
              "      <td>1.488481</td>\n",
              "      <td>0.507963</td>\n",
              "      <td>0.735822</td>\n",
              "      <td>0.513574</td>\n",
              "      <td>1.00</td>\n",
              "      <td>1</td>\n",
              "    </tr>\n",
              "    <tr>\n",
              "      <th>6</th>\n",
              "      <td>1.605056</td>\n",
              "      <td>0.540675</td>\n",
              "      <td>0.737040</td>\n",
              "      <td>0.496699</td>\n",
              "      <td>1.00</td>\n",
              "      <td>1</td>\n",
              "    </tr>\n",
              "    <tr>\n",
              "      <th>7</th>\n",
              "      <td>0.128539</td>\n",
              "      <td>-0.189115</td>\n",
              "      <td>0.133558</td>\n",
              "      <td>-0.021053</td>\n",
              "      <td>149.62</td>\n",
              "      <td>0</td>\n",
              "    </tr>\n",
              "    <tr>\n",
              "      <th>8</th>\n",
              "      <td>0.167170</td>\n",
              "      <td>0.125895</td>\n",
              "      <td>-0.008983</td>\n",
              "      <td>0.014724</td>\n",
              "      <td>2.69</td>\n",
              "      <td>0</td>\n",
              "    </tr>\n",
              "    <tr>\n",
              "      <th>9</th>\n",
              "      <td>-0.327642</td>\n",
              "      <td>-0.139097</td>\n",
              "      <td>-0.055353</td>\n",
              "      <td>-0.059752</td>\n",
              "      <td>378.66</td>\n",
              "      <td>0</td>\n",
              "    </tr>\n",
              "  </tbody>\n",
              "</table>\n",
              "</div>\n",
              "    <div class=\"colab-df-buttons\">\n",
              "\n",
              "  <div class=\"colab-df-container\">\n",
              "    <button class=\"colab-df-convert\" onclick=\"convertToInteractive('df-f977aea2-b175-46e0-8d56-396a239b4343')\"\n",
              "            title=\"Convert this dataframe to an interactive table.\"\n",
              "            style=\"display:none;\">\n",
              "\n",
              "  <svg xmlns=\"http://www.w3.org/2000/svg\" height=\"24px\" viewBox=\"0 -960 960 960\">\n",
              "    <path d=\"M120-120v-720h720v720H120Zm60-500h600v-160H180v160Zm220 220h160v-160H400v160Zm0 220h160v-160H400v160ZM180-400h160v-160H180v160Zm440 0h160v-160H620v160ZM180-180h160v-160H180v160Zm440 0h160v-160H620v160Z\"/>\n",
              "  </svg>\n",
              "    </button>\n",
              "\n",
              "  <style>\n",
              "    .colab-df-container {\n",
              "      display:flex;\n",
              "      gap: 12px;\n",
              "    }\n",
              "\n",
              "    .colab-df-convert {\n",
              "      background-color: #E8F0FE;\n",
              "      border: none;\n",
              "      border-radius: 50%;\n",
              "      cursor: pointer;\n",
              "      display: none;\n",
              "      fill: #1967D2;\n",
              "      height: 32px;\n",
              "      padding: 0 0 0 0;\n",
              "      width: 32px;\n",
              "    }\n",
              "\n",
              "    .colab-df-convert:hover {\n",
              "      background-color: #E2EBFA;\n",
              "      box-shadow: 0px 1px 2px rgba(60, 64, 67, 0.3), 0px 1px 3px 1px rgba(60, 64, 67, 0.15);\n",
              "      fill: #174EA6;\n",
              "    }\n",
              "\n",
              "    .colab-df-buttons div {\n",
              "      margin-bottom: 4px;\n",
              "    }\n",
              "\n",
              "    [theme=dark] .colab-df-convert {\n",
              "      background-color: #3B4455;\n",
              "      fill: #D2E3FC;\n",
              "    }\n",
              "\n",
              "    [theme=dark] .colab-df-convert:hover {\n",
              "      background-color: #434B5C;\n",
              "      box-shadow: 0px 1px 3px 1px rgba(0, 0, 0, 0.15);\n",
              "      filter: drop-shadow(0px 1px 2px rgba(0, 0, 0, 0.3));\n",
              "      fill: #FFFFFF;\n",
              "    }\n",
              "  </style>\n",
              "\n",
              "    <script>\n",
              "      const buttonEl =\n",
              "        document.querySelector('#df-f977aea2-b175-46e0-8d56-396a239b4343 button.colab-df-convert');\n",
              "      buttonEl.style.display =\n",
              "        google.colab.kernel.accessAllowed ? 'block' : 'none';\n",
              "\n",
              "      async function convertToInteractive(key) {\n",
              "        const element = document.querySelector('#df-f977aea2-b175-46e0-8d56-396a239b4343');\n",
              "        const dataTable =\n",
              "          await google.colab.kernel.invokeFunction('convertToInteractive',\n",
              "                                                    [key], {});\n",
              "        if (!dataTable) return;\n",
              "\n",
              "        const docLinkHtml = 'Like what you see? Visit the ' +\n",
              "          '<a target=\"_blank\" href=https://colab.research.google.com/notebooks/data_table.ipynb>data table notebook</a>'\n",
              "          + ' to learn more about interactive tables.';\n",
              "        element.innerHTML = '';\n",
              "        dataTable['output_type'] = 'display_data';\n",
              "        await google.colab.output.renderOutput(dataTable, element);\n",
              "        const docLink = document.createElement('div');\n",
              "        docLink.innerHTML = docLinkHtml;\n",
              "        element.appendChild(docLink);\n",
              "      }\n",
              "    </script>\n",
              "  </div>\n",
              "\n",
              "\n",
              "<div id=\"df-ac04ecfb-0651-4b18-a22d-7a640b7cca90\">\n",
              "  <button class=\"colab-df-quickchart\" onclick=\"quickchart('df-ac04ecfb-0651-4b18-a22d-7a640b7cca90')\"\n",
              "            title=\"Suggest charts\"\n",
              "            style=\"display:none;\">\n",
              "\n",
              "<svg xmlns=\"http://www.w3.org/2000/svg\" height=\"24px\"viewBox=\"0 0 24 24\"\n",
              "     width=\"24px\">\n",
              "    <g>\n",
              "        <path d=\"M19 3H5c-1.1 0-2 .9-2 2v14c0 1.1.9 2 2 2h14c1.1 0 2-.9 2-2V5c0-1.1-.9-2-2-2zM9 17H7v-7h2v7zm4 0h-2V7h2v10zm4 0h-2v-4h2v4z\"/>\n",
              "    </g>\n",
              "</svg>\n",
              "  </button>\n",
              "\n",
              "<style>\n",
              "  .colab-df-quickchart {\n",
              "      --bg-color: #E8F0FE;\n",
              "      --fill-color: #1967D2;\n",
              "      --hover-bg-color: #E2EBFA;\n",
              "      --hover-fill-color: #174EA6;\n",
              "      --disabled-fill-color: #AAA;\n",
              "      --disabled-bg-color: #DDD;\n",
              "  }\n",
              "\n",
              "  [theme=dark] .colab-df-quickchart {\n",
              "      --bg-color: #3B4455;\n",
              "      --fill-color: #D2E3FC;\n",
              "      --hover-bg-color: #434B5C;\n",
              "      --hover-fill-color: #FFFFFF;\n",
              "      --disabled-bg-color: #3B4455;\n",
              "      --disabled-fill-color: #666;\n",
              "  }\n",
              "\n",
              "  .colab-df-quickchart {\n",
              "    background-color: var(--bg-color);\n",
              "    border: none;\n",
              "    border-radius: 50%;\n",
              "    cursor: pointer;\n",
              "    display: none;\n",
              "    fill: var(--fill-color);\n",
              "    height: 32px;\n",
              "    padding: 0;\n",
              "    width: 32px;\n",
              "  }\n",
              "\n",
              "  .colab-df-quickchart:hover {\n",
              "    background-color: var(--hover-bg-color);\n",
              "    box-shadow: 0 1px 2px rgba(60, 64, 67, 0.3), 0 1px 3px 1px rgba(60, 64, 67, 0.15);\n",
              "    fill: var(--button-hover-fill-color);\n",
              "  }\n",
              "\n",
              "  .colab-df-quickchart-complete:disabled,\n",
              "  .colab-df-quickchart-complete:disabled:hover {\n",
              "    background-color: var(--disabled-bg-color);\n",
              "    fill: var(--disabled-fill-color);\n",
              "    box-shadow: none;\n",
              "  }\n",
              "\n",
              "  .colab-df-spinner {\n",
              "    border: 2px solid var(--fill-color);\n",
              "    border-color: transparent;\n",
              "    border-bottom-color: var(--fill-color);\n",
              "    animation:\n",
              "      spin 1s steps(1) infinite;\n",
              "  }\n",
              "\n",
              "  @keyframes spin {\n",
              "    0% {\n",
              "      border-color: transparent;\n",
              "      border-bottom-color: var(--fill-color);\n",
              "      border-left-color: var(--fill-color);\n",
              "    }\n",
              "    20% {\n",
              "      border-color: transparent;\n",
              "      border-left-color: var(--fill-color);\n",
              "      border-top-color: var(--fill-color);\n",
              "    }\n",
              "    30% {\n",
              "      border-color: transparent;\n",
              "      border-left-color: var(--fill-color);\n",
              "      border-top-color: var(--fill-color);\n",
              "      border-right-color: var(--fill-color);\n",
              "    }\n",
              "    40% {\n",
              "      border-color: transparent;\n",
              "      border-right-color: var(--fill-color);\n",
              "      border-top-color: var(--fill-color);\n",
              "    }\n",
              "    60% {\n",
              "      border-color: transparent;\n",
              "      border-right-color: var(--fill-color);\n",
              "    }\n",
              "    80% {\n",
              "      border-color: transparent;\n",
              "      border-right-color: var(--fill-color);\n",
              "      border-bottom-color: var(--fill-color);\n",
              "    }\n",
              "    90% {\n",
              "      border-color: transparent;\n",
              "      border-bottom-color: var(--fill-color);\n",
              "    }\n",
              "  }\n",
              "</style>\n",
              "\n",
              "  <script>\n",
              "    async function quickchart(key) {\n",
              "      const quickchartButtonEl =\n",
              "        document.querySelector('#' + key + ' button');\n",
              "      quickchartButtonEl.disabled = true;  // To prevent multiple clicks.\n",
              "      quickchartButtonEl.classList.add('colab-df-spinner');\n",
              "      try {\n",
              "        const charts = await google.colab.kernel.invokeFunction(\n",
              "            'suggestCharts', [key], {});\n",
              "      } catch (error) {\n",
              "        console.error('Error during call to suggestCharts:', error);\n",
              "      }\n",
              "      quickchartButtonEl.classList.remove('colab-df-spinner');\n",
              "      quickchartButtonEl.classList.add('colab-df-quickchart-complete');\n",
              "    }\n",
              "    (() => {\n",
              "      let quickchartButtonEl =\n",
              "        document.querySelector('#df-ac04ecfb-0651-4b18-a22d-7a640b7cca90 button');\n",
              "      quickchartButtonEl.style.display =\n",
              "        google.colab.kernel.accessAllowed ? 'block' : 'none';\n",
              "    })();\n",
              "  </script>\n",
              "</div>\n",
              "\n",
              "    </div>\n",
              "  </div>\n"
            ],
            "application/vnd.google.colaboratory.intrinsic+json": {
              "type": "dataframe",
              "variable_name": "df",
              "summary": "{\n  \"name\": \"df\",\n  \"rows\": 100,\n  \"fields\": [\n    {\n      \"column\": \"V25\",\n      \"properties\": {\n        \"dtype\": \"number\",\n        \"std\": 0.4877524458461413,\n        \"min\": -1.279093712,\n        \"max\": 1.60505555,\n        \"num_unique_values\": 94,\n        \"samples\": [\n          0.215792485,\n          0.389868676,\n          0.65669918\n        ],\n        \"semantic_type\": \"\",\n        \"description\": \"\"\n      }\n    },\n    {\n      \"column\": \"V26\",\n      \"properties\": {\n        \"dtype\": \"number\",\n        \"std\": 0.4308561445274755,\n        \"min\": -1.123534337,\n        \"max\": 1.076462618,\n        \"num_unique_values\": 94,\n        \"samples\": [\n          -0.453651012,\n          0.055750296,\n          0.200867802\n        ],\n        \"semantic_type\": \"\",\n        \"description\": \"\"\n      }\n    },\n    {\n      \"column\": \"V27\",\n      \"properties\": {\n        \"dtype\": \"number\",\n        \"std\": 0.543304587569983,\n        \"min\": -1.684186049,\n        \"max\": 2.153918658,\n        \"num_unique_values\": 94,\n        \"samples\": [\n          0.349191043,\n          0.394681955,\n          -0.088993678\n        ],\n        \"semantic_type\": \"\",\n        \"description\": \"\"\n      }\n    },\n    {\n      \"column\": \"V28\",\n      \"properties\": {\n        \"dtype\": \"number\",\n        \"std\": 0.3591880012543135,\n        \"min\": -1.115936803,\n        \"max\": 1.239757307,\n        \"num_unique_values\": 94,\n        \"samples\": [\n          0.198862268,\n          0.298820726,\n          0.339813926\n        ],\n        \"semantic_type\": \"\",\n        \"description\": \"\"\n      }\n    },\n    {\n      \"column\": \"Amount\",\n      \"properties\": {\n        \"dtype\": \"number\",\n        \"std\": 212.9488086056735,\n        \"min\": 0.0,\n        \"max\": 1402.16,\n        \"num_unique_values\": 76,\n        \"samples\": [\n          1.0,\n          16.48,\n          3.67\n        ],\n        \"semantic_type\": \"\",\n        \"description\": \"\"\n      }\n    },\n    {\n      \"column\": \"Class\",\n      \"properties\": {\n        \"dtype\": \"number\",\n        \"std\": 0,\n        \"min\": 0,\n        \"max\": 1,\n        \"num_unique_values\": 2,\n        \"samples\": [\n          0,\n          1\n        ],\n        \"semantic_type\": \"\",\n        \"description\": \"\"\n      }\n    }\n  ]\n}"
            }
          },
          "metadata": {},
          "execution_count": 217
        }
      ]
    },
    {
      "cell_type": "code",
      "source": [
        "# Get the labels in array\n",
        "labels = df['Class'].values\n",
        "labels"
      ],
      "metadata": {
        "colab": {
          "base_uri": "https://localhost:8080/"
        },
        "id": "yd2S-SV__mfF",
        "outputId": "ef59bf98-db77-4bef-caa6-c1d6c458e3ba"
      },
      "execution_count": 218,
      "outputs": [
        {
          "output_type": "execute_result",
          "data": {
            "text/plain": [
              "array([1, 1, 1, 1, 1, 1, 1, 0, 0, 0, 0, 0, 0, 0, 0, 0, 0, 0, 0, 0, 0, 0,\n",
              "       1, 1, 1, 1, 1, 1, 1, 1, 1, 1, 1, 1, 1, 1, 1, 1, 1, 1, 1, 1, 1, 1,\n",
              "       1, 1, 1, 1, 1, 1, 1, 1, 1, 1, 1, 1, 1, 1, 0, 0, 0, 0, 0, 0, 0, 0,\n",
              "       0, 0, 0, 0, 0, 0, 0, 0, 0, 0, 0, 0, 0, 0, 0, 0, 0, 0, 0, 0, 0, 0,\n",
              "       0, 0, 0, 0, 0, 0, 0, 0, 0, 0, 0, 0])"
            ]
          },
          "metadata": {},
          "execution_count": 218
        }
      ]
    },
    {
      "cell_type": "code",
      "source": [
        "# Get all the coefficient in array of array [[],[],[].....]\n",
        "credit_card_PCA = df.drop(columns=['Class'])\n",
        "coefficients=[]\n",
        "for index, row in credit_card_PCA.iterrows():\n",
        "    credit_coefficients = [complex(row[key]) for key in row.keys()]\n",
        "    # print(bird_coefficients)\n",
        "    # Add coefficients to the list of lists\n",
        "    coefficients.append(credit_coefficients)\n",
        "print(len(coefficients[0]))\n",
        "print(coefficients)"
      ],
      "metadata": {
        "colab": {
          "base_uri": "https://localhost:8080/"
        },
        "id": "Ahl_tuxs__pL",
        "outputId": "30cfac6f-0c0b-4b7d-a78c-a9a40f2fbe97"
      },
      "execution_count": 219,
      "outputs": [
        {
          "output_type": "stream",
          "name": "stdout",
          "text": [
            "5\n",
            "[[(0.044519167+0j), (0.177839798+0j), (0.261145003+0j), (-0.143275875+0j), 0j], [(0.279798032+0j), (-0.145361715+0j), (-0.252773123+0j), (0.035764225+0j), (529+0j)], [(-0.156114265+0j), (-0.542627889+0j), (0.039565989+0j), (-0.153028797+0j), (239.93+0j)], [(0.252405262+0j), (-0.657487755+0j), (-0.827135715+0j), (0.84957338+0j), (59+0j)], [(1.488901448+0j), (0.566797273+0j), (-0.010016223+0j), (0.146792735+0j), (1+0j)], [(1.48848121+0j), (0.507962678+0j), (0.735821636+0j), (0.513573741+0j), (1+0j)], [(1.60505555+0j), (0.540675396+0j), (0.737040382+0j), (0.496699108+0j), (1+0j)], [(0.128539358+0j), (-0.189114844+0j), (0.133558377+0j), (-0.021053053+0j), (149.62+0j)], [(0.167170404+0j), (0.125894532+0j), (-0.008983099+0j), (0.014724169+0j), (2.69+0j)], [(-0.327641834+0j), (-0.139096572+0j), (-0.055352794+0j), (-0.059751841+0j), (378.66+0j)], [(0.647376035+0j), (-0.221928844+0j), (0.062722849+0j), (0.061457629+0j), (123.5+0j)], [(-0.206009588+0j), (0.502292224+0j), (0.21942223+0j), (0.215153147+0j), (69.99+0j)], [(-0.232793817+0j), (0.105914779+0j), (0.253844225+0j), (0.081080257+0j), (3.67+0j)], [(0.72482458+0j), (-0.33708206+0j), (0.016368379+0j), (0.030041191+0j), (41.88+0j)], [(0.559639137+0j), (-0.280158166+0j), (0.042335258+0j), (0.0288223+0j), (16+0j)], [(-0.183891335+0j), (-0.277464019+0j), (0.182687486+0j), (0.152664645+0j), (33+0j)], [(0.294638015+0j), (-0.395069505+0j), (0.081461117+0j), (0.024220349+0j), (12.99+0j)], [(0.50913569+0j), (0.288857834+0j), (-0.022704982+0j), (0.011836231+0j), (17.28+0j)], [(0.565007313+0j), (-0.337718126+0j), (0.029057402+0j), (0.004452631+0j), (4.45+0j)], [(0.098815701+0j), (-0.552903603+0j), (-0.073288084+0j), (0.023307045+0j), (6.14+0j)], [(0.098815701+0j), (-0.552903603+0j), (-0.073288084+0j), (0.023307045+0j), (6.14+0j)], [(0.098116606+0j), (-0.553470969+0j), (-0.078305502+0j), (0.025427378+0j), (1.77+0j)], [(-0.477799683+0j), (0.991739678+0j), (-0.952553959+0j), (-0.390363998+0j), (19.04+0j)], [(0.389868676+0j), (0.055750296+0j), (0.394681955+0j), (0.298820726+0j), (6.62+0j)], [(-0.062258889+0j), (-0.052714413+0j), (0.322854005+0j), (0.135267637+0j), (180+0j)], [(0.664877857+0j), (-0.309312434+0j), (0.099941947+0j), (0.122988312+0j), (1+0j)], [(-0.710186945+0j), (-0.366422677+0j), (-1.48676592+0j), (0.677664105+0j), (1.1+0j)], [(-0.335869335+0j), (0.441044176+0j), (1.52061262+0j), (-1.115936803+0j), (1402.16+0j)], [(-0.07068116+0j), (-0.033354644+0j), (-0.061962422+0j), (-0.062686532+0j), (290.18+0j)], [(0.145881914+0j), (0.665087661+0j), (-1.684186049+0j), (0.310195463+0j), (294.9+0j)], [(0.263203123+0j), (-0.10887693+0j), (1.269566355+0j), (0.939407363+0j), (1+0j)], [(0.263203123+0j), (-0.10887693+0j), (1.269566355+0j), (0.939407363+0j), (1+0j)], [(0.263203123+0j), (-0.10887693+0j), (1.269566355+0j), (0.939407363+0j), (1+0j)], [(0.263203123+0j), (-0.10887693+0j), (1.269566355+0j), (0.939407363+0j), (1+0j)], [(0.263203123+0j), (-0.10887693+0j), (1.269566355+0j), (0.939407363+0j), (1+0j)], [(0.263203123+0j), (-0.10887693+0j), (1.269566355+0j), (0.939407363+0j), (1+0j)], [(0.527257981+0j), (-0.322606503+0j), (0.080805437+0j), (0.035427182+0j), (19.59+0j)], [(0.668374321+0j), (-0.352393243+0j), (0.071992769+0j), (0.11368437+0j), (1+0j)], [(0.60643364+0j), (-0.315433462+0j), (0.768290751+0j), (0.459623328+0j), (227.3+0j)], [(0.808783093+0j), (0.117362633+0j), (0.589594903+0j), (0.309064074+0j), (3.79+0j)], [(0.040870854+0j), (0.825813553+0j), (0.414482272+0j), (0.267265082+0j), (318.11+0j)], [(0.538591374+0j), (-0.193528512+0j), (0.258194101+0j), (0.247269214+0j), (824.83+0j)], [(0.40092428+0j), (0.286281379+0j), (0.135214946+0j), (0.257314769+0j), (0.76+0j)], [(0.04997034+0j), (-0.257099838+0j), (0.859281566+0j), (0.225924186+0j), (426.4+0j)], [(-0.144967422+0j), (-0.251743982+0j), (1.249413674+0j), (-0.131524644+0j), (238.9+0j)], [(-0.600742166+0j), (-0.180331288+0j), (0.026762226+0j), (-0.358335321+0j), (45.03+0j)], [(0.215792485+0j), (-0.453651012+0j), (0.349191043+0j), (0.198862268+0j), (16.48+0j)], [(-0.468937929+0j), (-0.278337987+0j), (0.625922215+0j), (0.395573378+0j), (76.94+0j)], [(-1.279093712+0j), (-1.123534337+0j), (-0.630976513+0j), (0.326839204+0j), (311.28+0j)], [(0.454797818+0j), (-0.505032216+0j), (-0.039455969+0j), (-0.006357582+0j), (30.14+0j)], [(0.004716015+0j), (0.219145838+0j), (-0.058257308+0j), (0.158047989+0j), (29.95+0j)], [(-0.506901096+0j), (-0.371741093+0j), (0.615256964+0j), (0.803162842+0j), (124.53+0j)], [(0.084734825+0j), (-0.197431471+0j), (0.328671522+0j), (0.835394921+0j), (99.85+0j)], [(0.324757896+0j), (-0.18076913+0j), (0.177810383+0j), (0.661555356+0j), (99.9+0j)], [(0.15923423+0j), (-0.377790861+0j), (-0.213561786+0j), (0.459528918+0j), (219.8+0j)], [(0.057424928+0j), (-0.265838484+0j), (-0.514636936+0j), (0.388590269+0j), (254.76+0j)], [(0.69751406+0j), (-0.312544723+0j), (0.106247471+0j), (0.125059863+0j), (1+0j)], [(0.634572811+0j), (-0.306311023+0j), (0.094086818+0j), (0.121064728+0j), (1+0j)], [(-0.089633463+0j), (0.066053636+0j), (0.107787401+0j), (0.024675576+0j), (11.39+0j)], [(0.467222718+0j), (0.262577155+0j), (-0.023834435+0j), (0.020520859+0j), (40.83+0j)], [(-0.176941784+0j), (-0.156161346+0j), (0.01163128+0j), (0.116359292+0j), (85.25+0j)], [(0.65669918+0j), (0.200867802+0j), (-0.088993678+0j), (0.339813926+0j), (881.13+0j)], [(-0.397704638+0j), (0.637140781+0j), (0.234872284+0j), (0.021378793+0j), 0j], [(0.130464202+0j), (0.104224546+0j), (-0.014328741+0j), (0.008025591+0j), (9.99+0j)], [(-0.365679974+0j), (0.963301373+0j), (-0.045545223+0j), (0.110528209+0j), (45.38+0j)], [(-0.650607852+0j), (-0.530175348+0j), (-0.042295761+0j), (-0.490801709+0j), (17.99+0j)], [(-0.183674161+0j), (0.001701353+0j), (-0.065969405+0j), (-0.620859689+0j), (16+0j)], [(0.310074723+0j), (1.076462618+0j), (-0.173558408+0j), (0.065210028+0j), (510.22+0j)], [(0.616220732+0j), (-0.354056706+0j), (0.032491644+0j), (0.030264168+0j), (1+0j)], [(0.555655582+0j), (-0.288129534+0j), (-0.089499998+0j), (0.095583938+0j), (575.33+0j)], [(0.645499684+0j), (-0.334233719+0j), (0.044270938+0j), (0.015850494+0j), (10+0j)], [(-0.335150323+0j), (-0.680062118+0j), (-0.286108769+0j), (-0.298699176+0j), (12.99+0j)], [(0.147695933+0j), (-0.544985958+0j), (0.274527786+0j), (0.28055474+0j), (9.99+0j)], [(-0.012086274+0j), (0.080317898+0j), (0.54010667+0j), (0.034934173+0j), (8.93+0j)], [(0.164650365+0j), (1.06943713+0j), (0.027739802+0j), (0.026680276+0j), (29.95+0j)], [(0.12123541+0j), (-0.204961889+0j), (-0.292247194+0j), (-0.058995507+0j), (27.7+0j)], [(0.608577595+0j), (-0.33838167+0j), (-0.352131899+0j), (-0.422725982+0j), (82.29+0j)], [(-0.53515806+0j), (-0.684143186+0j), (-0.422542032+0j), (0.047078038+0j), (64.04+0j)], [(0.850054899+0j), (-0.311685063+0j), (0.037536213+0j), (0.05061751+0j), (1+0j)], [(-0.590713382+0j), (-0.482998413+0j), (0.137717309+0j), (-0.334914691+0j), (1.55+0j)], [(0.25597448+0j), (0.0222133+0j), (0.048714448+0j), (0.027056733+0j), (15.19+0j)], [(-0.49112106+0j), (0.244971998+0j), (0.07482909+0j), (-0.069923636+0j), (0.01+0j)], [(0.289248688+0j), (0.87180308+0j), (-0.066883865+0j), (0.012986379+0j), 0j], [(0.460852497+0j), (-0.003403139+0j), (0.020448698+0j), (0.092993878+0j), (411.88+0j)], [(0.129934943+0j), (0.387227991+0j), (-0.016423479+0j), (0.034254727+0j), (52.4+0j)], [(0.57409203+0j), (-0.250481687+0j), (0.05751707+0j), (0.006986077+0j), (15+0j)], [(1.565249907+0j), (0.301473313+0j), (2.153918658+0j), (1.239757307+0j), (8.94+0j)], [(0.255002434+0j), (-0.092805576+0j), (-0.019884201+0j), (-0.060270593+0j), (1+0j)], [(-0.0868165+0j), (-0.110566909+0j), (0.211823331+0j), (0.154326981+0j), (43.96+0j)], [(0.487831094+0j), (0.547769949+0j), (-0.09355359+0j), (0.024076968+0j), (17.25+0j)], [(-0.034600543+0j), (-0.101957746+0j), (0.272159853+0j), (0.076555895+0j), (72+0j)], [(0.2413675+0j), (-0.109887845+0j), (-0.033327007+0j), (-0.01493133+0j), (164.5+0j)], [(-0.193406473+0j), (0.575856875+0j), (0.226575968+0j), (0.1848084+0j), (2.16+0j)], [(0.274399045+0j), (0.944911601+0j), (-0.05216724+0j), (0.007005356+0j), (35.9+0j)], [(-0.341848716+0j), (-0.092348624+0j), (0.105372218+0j), (0.158455905+0j), (9.99+0j)], [(-0.039596073+0j), (-0.310990469+0j), (-0.039282955+0j), (-0.060391874+0j), (17.99+0j)], [(-0.400228792+0j), (0.509021181+0j), (-0.112677883+0j), (0.050755654+0j), (42.81+0j)], [(0.261616512+0j), (-0.097574369+0j), (0.06205557+0j), (-0.15389612+0j), (30+0j)], [(-0.601290919+0j), (0.21392785+0j), (0.149761816+0j), (-0.002572879+0j), (1.79+0j)], [(0.235588293+0j), (-0.108693024+0j), (-0.009555307+0j), (-0.021005516+0j), (48+0j)]]\n"
          ]
        }
      ]
    },
    {
      "cell_type": "code",
      "source": [
        "print(coefficients)\n",
        "print(labels)"
      ],
      "metadata": {
        "colab": {
          "base_uri": "https://localhost:8080/"
        },
        "id": "AxwL0utJAeWq",
        "outputId": "2d3e24d8-25dc-49dd-ff68-a532a15e12e9"
      },
      "execution_count": 220,
      "outputs": [
        {
          "output_type": "stream",
          "name": "stdout",
          "text": [
            "[[(0.044519167+0j), (0.177839798+0j), (0.261145003+0j), (-0.143275875+0j), 0j], [(0.279798032+0j), (-0.145361715+0j), (-0.252773123+0j), (0.035764225+0j), (529+0j)], [(-0.156114265+0j), (-0.542627889+0j), (0.039565989+0j), (-0.153028797+0j), (239.93+0j)], [(0.252405262+0j), (-0.657487755+0j), (-0.827135715+0j), (0.84957338+0j), (59+0j)], [(1.488901448+0j), (0.566797273+0j), (-0.010016223+0j), (0.146792735+0j), (1+0j)], [(1.48848121+0j), (0.507962678+0j), (0.735821636+0j), (0.513573741+0j), (1+0j)], [(1.60505555+0j), (0.540675396+0j), (0.737040382+0j), (0.496699108+0j), (1+0j)], [(0.128539358+0j), (-0.189114844+0j), (0.133558377+0j), (-0.021053053+0j), (149.62+0j)], [(0.167170404+0j), (0.125894532+0j), (-0.008983099+0j), (0.014724169+0j), (2.69+0j)], [(-0.327641834+0j), (-0.139096572+0j), (-0.055352794+0j), (-0.059751841+0j), (378.66+0j)], [(0.647376035+0j), (-0.221928844+0j), (0.062722849+0j), (0.061457629+0j), (123.5+0j)], [(-0.206009588+0j), (0.502292224+0j), (0.21942223+0j), (0.215153147+0j), (69.99+0j)], [(-0.232793817+0j), (0.105914779+0j), (0.253844225+0j), (0.081080257+0j), (3.67+0j)], [(0.72482458+0j), (-0.33708206+0j), (0.016368379+0j), (0.030041191+0j), (41.88+0j)], [(0.559639137+0j), (-0.280158166+0j), (0.042335258+0j), (0.0288223+0j), (16+0j)], [(-0.183891335+0j), (-0.277464019+0j), (0.182687486+0j), (0.152664645+0j), (33+0j)], [(0.294638015+0j), (-0.395069505+0j), (0.081461117+0j), (0.024220349+0j), (12.99+0j)], [(0.50913569+0j), (0.288857834+0j), (-0.022704982+0j), (0.011836231+0j), (17.28+0j)], [(0.565007313+0j), (-0.337718126+0j), (0.029057402+0j), (0.004452631+0j), (4.45+0j)], [(0.098815701+0j), (-0.552903603+0j), (-0.073288084+0j), (0.023307045+0j), (6.14+0j)], [(0.098815701+0j), (-0.552903603+0j), (-0.073288084+0j), (0.023307045+0j), (6.14+0j)], [(0.098116606+0j), (-0.553470969+0j), (-0.078305502+0j), (0.025427378+0j), (1.77+0j)], [(-0.477799683+0j), (0.991739678+0j), (-0.952553959+0j), (-0.390363998+0j), (19.04+0j)], [(0.389868676+0j), (0.055750296+0j), (0.394681955+0j), (0.298820726+0j), (6.62+0j)], [(-0.062258889+0j), (-0.052714413+0j), (0.322854005+0j), (0.135267637+0j), (180+0j)], [(0.664877857+0j), (-0.309312434+0j), (0.099941947+0j), (0.122988312+0j), (1+0j)], [(-0.710186945+0j), (-0.366422677+0j), (-1.48676592+0j), (0.677664105+0j), (1.1+0j)], [(-0.335869335+0j), (0.441044176+0j), (1.52061262+0j), (-1.115936803+0j), (1402.16+0j)], [(-0.07068116+0j), (-0.033354644+0j), (-0.061962422+0j), (-0.062686532+0j), (290.18+0j)], [(0.145881914+0j), (0.665087661+0j), (-1.684186049+0j), (0.310195463+0j), (294.9+0j)], [(0.263203123+0j), (-0.10887693+0j), (1.269566355+0j), (0.939407363+0j), (1+0j)], [(0.263203123+0j), (-0.10887693+0j), (1.269566355+0j), (0.939407363+0j), (1+0j)], [(0.263203123+0j), (-0.10887693+0j), (1.269566355+0j), (0.939407363+0j), (1+0j)], [(0.263203123+0j), (-0.10887693+0j), (1.269566355+0j), (0.939407363+0j), (1+0j)], [(0.263203123+0j), (-0.10887693+0j), (1.269566355+0j), (0.939407363+0j), (1+0j)], [(0.263203123+0j), (-0.10887693+0j), (1.269566355+0j), (0.939407363+0j), (1+0j)], [(0.527257981+0j), (-0.322606503+0j), (0.080805437+0j), (0.035427182+0j), (19.59+0j)], [(0.668374321+0j), (-0.352393243+0j), (0.071992769+0j), (0.11368437+0j), (1+0j)], [(0.60643364+0j), (-0.315433462+0j), (0.768290751+0j), (0.459623328+0j), (227.3+0j)], [(0.808783093+0j), (0.117362633+0j), (0.589594903+0j), (0.309064074+0j), (3.79+0j)], [(0.040870854+0j), (0.825813553+0j), (0.414482272+0j), (0.267265082+0j), (318.11+0j)], [(0.538591374+0j), (-0.193528512+0j), (0.258194101+0j), (0.247269214+0j), (824.83+0j)], [(0.40092428+0j), (0.286281379+0j), (0.135214946+0j), (0.257314769+0j), (0.76+0j)], [(0.04997034+0j), (-0.257099838+0j), (0.859281566+0j), (0.225924186+0j), (426.4+0j)], [(-0.144967422+0j), (-0.251743982+0j), (1.249413674+0j), (-0.131524644+0j), (238.9+0j)], [(-0.600742166+0j), (-0.180331288+0j), (0.026762226+0j), (-0.358335321+0j), (45.03+0j)], [(0.215792485+0j), (-0.453651012+0j), (0.349191043+0j), (0.198862268+0j), (16.48+0j)], [(-0.468937929+0j), (-0.278337987+0j), (0.625922215+0j), (0.395573378+0j), (76.94+0j)], [(-1.279093712+0j), (-1.123534337+0j), (-0.630976513+0j), (0.326839204+0j), (311.28+0j)], [(0.454797818+0j), (-0.505032216+0j), (-0.039455969+0j), (-0.006357582+0j), (30.14+0j)], [(0.004716015+0j), (0.219145838+0j), (-0.058257308+0j), (0.158047989+0j), (29.95+0j)], [(-0.506901096+0j), (-0.371741093+0j), (0.615256964+0j), (0.803162842+0j), (124.53+0j)], [(0.084734825+0j), (-0.197431471+0j), (0.328671522+0j), (0.835394921+0j), (99.85+0j)], [(0.324757896+0j), (-0.18076913+0j), (0.177810383+0j), (0.661555356+0j), (99.9+0j)], [(0.15923423+0j), (-0.377790861+0j), (-0.213561786+0j), (0.459528918+0j), (219.8+0j)], [(0.057424928+0j), (-0.265838484+0j), (-0.514636936+0j), (0.388590269+0j), (254.76+0j)], [(0.69751406+0j), (-0.312544723+0j), (0.106247471+0j), (0.125059863+0j), (1+0j)], [(0.634572811+0j), (-0.306311023+0j), (0.094086818+0j), (0.121064728+0j), (1+0j)], [(-0.089633463+0j), (0.066053636+0j), (0.107787401+0j), (0.024675576+0j), (11.39+0j)], [(0.467222718+0j), (0.262577155+0j), (-0.023834435+0j), (0.020520859+0j), (40.83+0j)], [(-0.176941784+0j), (-0.156161346+0j), (0.01163128+0j), (0.116359292+0j), (85.25+0j)], [(0.65669918+0j), (0.200867802+0j), (-0.088993678+0j), (0.339813926+0j), (881.13+0j)], [(-0.397704638+0j), (0.637140781+0j), (0.234872284+0j), (0.021378793+0j), 0j], [(0.130464202+0j), (0.104224546+0j), (-0.014328741+0j), (0.008025591+0j), (9.99+0j)], [(-0.365679974+0j), (0.963301373+0j), (-0.045545223+0j), (0.110528209+0j), (45.38+0j)], [(-0.650607852+0j), (-0.530175348+0j), (-0.042295761+0j), (-0.490801709+0j), (17.99+0j)], [(-0.183674161+0j), (0.001701353+0j), (-0.065969405+0j), (-0.620859689+0j), (16+0j)], [(0.310074723+0j), (1.076462618+0j), (-0.173558408+0j), (0.065210028+0j), (510.22+0j)], [(0.616220732+0j), (-0.354056706+0j), (0.032491644+0j), (0.030264168+0j), (1+0j)], [(0.555655582+0j), (-0.288129534+0j), (-0.089499998+0j), (0.095583938+0j), (575.33+0j)], [(0.645499684+0j), (-0.334233719+0j), (0.044270938+0j), (0.015850494+0j), (10+0j)], [(-0.335150323+0j), (-0.680062118+0j), (-0.286108769+0j), (-0.298699176+0j), (12.99+0j)], [(0.147695933+0j), (-0.544985958+0j), (0.274527786+0j), (0.28055474+0j), (9.99+0j)], [(-0.012086274+0j), (0.080317898+0j), (0.54010667+0j), (0.034934173+0j), (8.93+0j)], [(0.164650365+0j), (1.06943713+0j), (0.027739802+0j), (0.026680276+0j), (29.95+0j)], [(0.12123541+0j), (-0.204961889+0j), (-0.292247194+0j), (-0.058995507+0j), (27.7+0j)], [(0.608577595+0j), (-0.33838167+0j), (-0.352131899+0j), (-0.422725982+0j), (82.29+0j)], [(-0.53515806+0j), (-0.684143186+0j), (-0.422542032+0j), (0.047078038+0j), (64.04+0j)], [(0.850054899+0j), (-0.311685063+0j), (0.037536213+0j), (0.05061751+0j), (1+0j)], [(-0.590713382+0j), (-0.482998413+0j), (0.137717309+0j), (-0.334914691+0j), (1.55+0j)], [(0.25597448+0j), (0.0222133+0j), (0.048714448+0j), (0.027056733+0j), (15.19+0j)], [(-0.49112106+0j), (0.244971998+0j), (0.07482909+0j), (-0.069923636+0j), (0.01+0j)], [(0.289248688+0j), (0.87180308+0j), (-0.066883865+0j), (0.012986379+0j), 0j], [(0.460852497+0j), (-0.003403139+0j), (0.020448698+0j), (0.092993878+0j), (411.88+0j)], [(0.129934943+0j), (0.387227991+0j), (-0.016423479+0j), (0.034254727+0j), (52.4+0j)], [(0.57409203+0j), (-0.250481687+0j), (0.05751707+0j), (0.006986077+0j), (15+0j)], [(1.565249907+0j), (0.301473313+0j), (2.153918658+0j), (1.239757307+0j), (8.94+0j)], [(0.255002434+0j), (-0.092805576+0j), (-0.019884201+0j), (-0.060270593+0j), (1+0j)], [(-0.0868165+0j), (-0.110566909+0j), (0.211823331+0j), (0.154326981+0j), (43.96+0j)], [(0.487831094+0j), (0.547769949+0j), (-0.09355359+0j), (0.024076968+0j), (17.25+0j)], [(-0.034600543+0j), (-0.101957746+0j), (0.272159853+0j), (0.076555895+0j), (72+0j)], [(0.2413675+0j), (-0.109887845+0j), (-0.033327007+0j), (-0.01493133+0j), (164.5+0j)], [(-0.193406473+0j), (0.575856875+0j), (0.226575968+0j), (0.1848084+0j), (2.16+0j)], [(0.274399045+0j), (0.944911601+0j), (-0.05216724+0j), (0.007005356+0j), (35.9+0j)], [(-0.341848716+0j), (-0.092348624+0j), (0.105372218+0j), (0.158455905+0j), (9.99+0j)], [(-0.039596073+0j), (-0.310990469+0j), (-0.039282955+0j), (-0.060391874+0j), (17.99+0j)], [(-0.400228792+0j), (0.509021181+0j), (-0.112677883+0j), (0.050755654+0j), (42.81+0j)], [(0.261616512+0j), (-0.097574369+0j), (0.06205557+0j), (-0.15389612+0j), (30+0j)], [(-0.601290919+0j), (0.21392785+0j), (0.149761816+0j), (-0.002572879+0j), (1.79+0j)], [(0.235588293+0j), (-0.108693024+0j), (-0.009555307+0j), (-0.021005516+0j), (48+0j)]]\n",
            "[1 1 1 1 1 1 1 0 0 0 0 0 0 0 0 0 0 0 0 0 0 0 1 1 1 1 1 1 1 1 1 1 1 1 1 1 1\n",
            " 1 1 1 1 1 1 1 1 1 1 1 1 1 1 1 1 1 1 1 1 1 0 0 0 0 0 0 0 0 0 0 0 0 0 0 0 0\n",
            " 0 0 0 0 0 0 0 0 0 0 0 0 0 0 0 0 0 0 0 0 0 0 0 0 0 0]\n"
          ]
        }
      ]
    },
    {
      "cell_type": "code",
      "source": [
        "# Since we have total 29 fields coefficient so in amplitude encoding we can take the qubit num accordingly\n",
        "import math\n",
        "num_qubits = math.ceil(math.log2(len(coefficients[0])))\n",
        "num_qubits =5"
      ],
      "metadata": {
        "id": "9bP6gdvSBr0-"
      },
      "execution_count": 221,
      "outputs": []
    },
    {
      "cell_type": "code",
      "source": [
        "feature_map = ZZFeatureMap(feature_dimension=5)\n",
        "feature_map"
      ],
      "metadata": {
        "colab": {
          "base_uri": "https://localhost:8080/"
        },
        "id": "ttPmm5XkIUqo",
        "outputId": "8f76023e-3efa-4892-acea-6da250310f41"
      },
      "execution_count": 222,
      "outputs": [
        {
          "output_type": "execute_result",
          "data": {
            "text/plain": [
              "<qiskit.circuit.library.data_preparation.zz_feature_map.ZZFeatureMap at 0x7a6fe81f8ca0>"
            ]
          },
          "metadata": {},
          "execution_count": 222
        }
      ]
    },
    {
      "cell_type": "code",
      "source": [
        "ansatz = RealAmplitudes(num_qubits, entanglement='linear', reps=2, insert_barriers=True)\n",
        "qc = QuantumCircuit(num_qubits)  # create a circuit and append the RY variational form\n",
        "qc.compose(ansatz, inplace=True)\n",
        "qc.draw(\"mpl\")"
      ],
      "metadata": {
        "colab": {
          "base_uri": "https://localhost:8080/",
          "height": 384
        },
        "id": "T06PjJvdFy8P",
        "outputId": "d2a75894-f678-4fc0-9715-c20453ead1b4"
      },
      "execution_count": 223,
      "outputs": [
        {
          "output_type": "execute_result",
          "data": {
            "text/plain": [
              "<Figure size 789.163x451.5 with 1 Axes>"
            ],
            "image/png": "[encoded data removed]"
          },
          "metadata": {},
          "execution_count": 223
        }
      ]
    },
    {
      "cell_type": "code",
      "source": [
        "# from sklearn.model_selection import train_test_split\n",
        "features = df.drop(columns=['Class'])  # Features (dropping 'label' column)\n",
        "labels = df['Class']  # Target variable\n",
        "\n",
        "# # Split the data into training and testing sets\n",
        "# X_train, X_test, y_train, y_test = train_test_split(X, y, test_size=0.3, random_state=42)\n",
        "\n",
        "# # Display the shapes of the resulting datasets\n",
        "# print(\"X_train shape:\", X_train)\n",
        "# print(\"X_test shape:\", X_test)\n",
        "# print(\"y_train shape:\", y_train)\n",
        "# print(\"y_test shape:\", y_test)\n",
        "\n",
        "\n",
        "from sklearn.model_selection import train_test_split\n",
        "from qiskit_algorithms.utils import algorithm_globals\n",
        "\n",
        "algorithm_globals.random_seed = 123\n",
        "train_features, test_features, train_labels, test_labels = train_test_split(\n",
        "    features, labels, train_size=0.8, random_state=algorithm_globals.random_seed\n",
        ")\n",
        "print(\"X_train shape:\", train_features.shape)\n",
        "print(\"X_test shape:\", test_features.shape)\n",
        "print(\"y_train shape:\", train_labels.shape)\n",
        "print(\"y_test shape:\", test_labels.shape)"
      ],
      "metadata": {
        "colab": {
          "base_uri": "https://localhost:8080/"
        },
        "id": "v739j7zKJtYU",
        "outputId": "fe38ded8-a848-4ae6-918a-a7c9c5336bf7"
      },
      "execution_count": 224,
      "outputs": [
        {
          "output_type": "stream",
          "name": "stdout",
          "text": [
            "X_train shape: (80, 5)\n",
            "X_test shape: (20, 5)\n",
            "y_train shape: (80,)\n",
            "y_test shape: (20,)\n"
          ]
        }
      ]
    },
    {
      "cell_type": "code",
      "source": [
        "from qiskit.primitives import Sampler, Estimator\n",
        "\n",
        "sampler = Sampler()\n",
        "estimator=Estimator()"
      ],
      "metadata": {
        "id": "g35NVGpjOHqf"
      },
      "execution_count": 225,
      "outputs": []
    },
    {
      "cell_type": "code",
      "source": [
        "backendSimulator = AerSimulator(method='statevector')"
      ],
      "metadata": {
        "id": "jLOViBKOXcrD"
      },
      "execution_count": 226,
      "outputs": []
    },
    {
      "cell_type": "code",
      "source": [
        "# Ensure train_labels is a 1D numpy array\n",
        "if isinstance(train_labels, pd.Series):\n",
        "    train_labels = train_labels.values\n",
        "elif isinstance(train_labels, pd.DataFrame):\n",
        "    train_labels = train_labels.squeeze().values  # Convert DataFrame to 1D array\n"
      ],
      "metadata": {
        "id": "lhVhRop5bE8d"
      },
      "execution_count": 227,
      "outputs": []
    },
    {
      "cell_type": "code",
      "source": [
        "\n",
        "# Define the observable\n",
        "obs = SparsePauliOp(\"ZZZZZ\")\n",
        "\n",
        "# Define the estimator and pass manager\n",
        "estimator = StatevectorEstimator() #To train we use StatevectorEstimator to get the exact simulation\n",
        "pm = generate_preset_pass_manager(backend=AerSimulator(), optimization_level=3, seed_transpiler=0)\n",
        "# from qiskit import QuantumCircuit, transpile\n",
        "# from qiskit.circuit.library import ZZFeatureMap\n",
        "\n",
        "# Example: ZZFeatureMap as a feature map\n",
        "feature_map = ZZFeatureMap(num_qubits, reps=2)"
      ],
      "metadata": {
        "id": "roOJNa06N1jd"
      },
      "execution_count": 228,
      "outputs": []
    },
    {
      "cell_type": "code",
      "source": [
        "# Choose a real backend\n",
        "from qiskit_ibm_runtime import SamplerV2 as Sampler, Session, Options, QiskitRuntimeService\n",
        "QiskitRuntimeService.save_account(\n",
        "    channel=\"ibm_quantum\",\n",
        "    token=\"16d6dd47657b972c1547b10fb7844fd1a407cc047430da104bd28a29a7394da2ea55115ecfcd09ba4e930ff8372156429ecf693000068b161a776b05b93c191b\",\n",
        "    set_as_default=True,\n",
        "    overwrite=True,\n",
        ")\n",
        "\n",
        "# Load saved credentials\n",
        "service = QiskitRuntimeService()\n",
        "print(service.backends())\n",
        "print(\"Available Backend\", service.backends())\n",
        "backend = service.least_busy()\n",
        "print(\"least busy backend\",backend.name)\n",
        "\n",
        "print(\n",
        "    f\"Name: {backend.name}\\n\"\n",
        "    f\"Version: {backend.version}\\n\"\n",
        "    f\"No. of qubits: {backend.num_qubits}\\n\"\n",
        ")\n",
        "backend.status()\n",
        "# backend = service.backend(\"ibm_osaka\")\n",
        "\n",
        "# Define a fake backend with the same properties as the real backend\n",
        "# fake_backend = AerSimulator.from_backend(backend)"
      ],
      "metadata": {
        "colab": {
          "base_uri": "https://localhost:8080/",
          "height": 228
        },
        "id": "kintP4IPkvIv",
        "outputId": "83a7c554-64b7-4c92-8021-1f1ad910db0b"
      },
      "execution_count": 236,
      "outputs": [
        {
          "output_type": "stream",
          "name": "stdout",
          "text": [
            "[<IBMBackend('ibm_brisbane')>, <IBMBackend('ibm_kyoto')>, <IBMBackend('ibm_osaka')>, <IBMBackend('ibm_sherbrooke')>]\n",
            "Available Backend [<IBMBackend('ibm_brisbane')>, <IBMBackend('ibm_kyoto')>, <IBMBackend('ibm_osaka')>, <IBMBackend('ibm_sherbrooke')>]\n",
            "least busy backend ibm_kyoto\n",
            "Name: ibm_kyoto\n",
            "Version: 2\n",
            "No. of qubits: 127\n",
            "\n"
          ]
        },
        {
          "output_type": "execute_result",
          "data": {
            "text/plain": [
              "<qiskit.providers.models.backendstatus.BackendStatus at 0x7a6fe2388fa0>"
            ],
            "text/html": [
              "<pre>&lt;qiskit.providers.models.backendstatus.BackendStatus object at 0x7a6fe2388fa0&gt;</pre><b>name</b>: ibm_kyoto<br/><b>version</b>: , <b>pending jobs</b>: 7<br/><b>status</b>: active<br/>"
            ]
          },
          "metadata": {},
          "execution_count": 236
        }
      ]
    },
    {
      "cell_type": "code",
      "source": [
        "def cost_func(params, list_coefficients, list_labels, ansatz, obs, estimator, pm, callback_dict):\n",
        "\n",
        "    \"\"\"Return cost function for optimization\"\"\"\n",
        "\n",
        "    cost = 0\n",
        "    for amplitudes, label in zip(list_coefficients, list_labels):\n",
        "        qc = QuantumCircuit(num_qubits)\n",
        "        # Amplitude embedding\n",
        "        qc.append(feature_map, range(num_qubits))\n",
        "        # Compose initial state + ansatz\n",
        "        classifier = qc.compose(ansatz)\n",
        "        # Transpile classifier\n",
        "        transpiled_classifier = pm.run(classifier)\n",
        "        # Transpile observable\n",
        "        transpiled_obs = obs.apply_layout(layout=transpiled_classifier.layout)\n",
        "        # Run estimator\n",
        "        pub = (transpiled_classifier, transpiled_obs, params)\n",
        "        job = estimator.run([pub])\n",
        "        # Get result\n",
        "        result = job.result()[0].data.evs\n",
        "        # Compute cost function (cumulative)\n",
        "        cost += np.abs(result - label)\n",
        "\n",
        "    callback_dict[\"iters\"] += 1\n",
        "    callback_dict[\"prev_vector\"] = params\n",
        "    callback_dict[\"cost_history\"].append(cost)\n",
        "\n",
        "    # Print the iterations to screen on a single line\n",
        "    print(\n",
        "        \"Iters. done: {} [Current cost: {}]\".format(callback_dict[\"iters\"], cost),\n",
        "        end=\"\\r\",\n",
        "        flush=True,\n",
        "    )\n",
        "\n",
        "    return cost\n"
      ],
      "metadata": {
        "id": "E4yESUcqPMaR"
      },
      "execution_count": 230,
      "outputs": []
    },
    {
      "cell_type": "code",
      "source": [
        "ansatz.decompose().draw('mpl')"
      ],
      "metadata": {
        "colab": {
          "base_uri": "https://localhost:8080/",
          "height": 327
        },
        "id": "3ODfxoPjUf-P",
        "outputId": "762a9825-0386-4b97-8bf0-12a8621d67f2"
      },
      "execution_count": 231,
      "outputs": [
        {
          "output_type": "execute_result",
          "data": {
            "text/plain": [
              "<Figure size 1374.44x451.5 with 1 Axes>"
            ],
            "image/png": "[encoded data removed]"
          },
          "metadata": {},
          "execution_count": 231
        }
      ]
    },
    {
      "cell_type": "code",
      "source": [
        "cost_history_list = []\n",
        "res_list = []\n",
        "num_iterations=5\n",
        "from qiskit.circuit import Parameter\n",
        "\n",
        "def count_parameters(circuit):\n",
        "    \"\"\"Count the number of unique parameters in a QuantumCircuit.\"\"\"\n",
        "    parameters = set()\n",
        "    for param in circuit.parameters:\n",
        "        if isinstance(param, Parameter):\n",
        "            parameters.add(str(param))\n",
        "    return len(parameters)\n",
        "\n",
        "# Initialize the session\n",
        "with Session(service=service, backend=backend) as session:\n",
        "    # estimator = Estimator(session=session)\n",
        "    cost_history_list = []\n",
        "    res_list = []\n",
        "    num_iterations = 5\n",
        "\n",
        "    num_parameters = count_parameters(ansatz)\n",
        "    num_parameters = 20\n",
        "\n",
        "    # Perform iterations\n",
        "    for iteration in range(num_iterations):\n",
        "        print(f\"\\nIteration {iteration + 1}:\")\n",
        "\n",
        "        # Generate initial parameters for this iteration\n",
        "        params_0 = np.random.uniform(low=-np.pi, high=np.pi, size=num_parameters)\n",
        "\n",
        "        # Ensure params_0 has exactly 20 elements\n",
        "        assert len(params_0) == num_parameters, f\"Expected {num_parameters} elements in params_0, got {len(params_0)}.\"\n",
        "\n",
        "        # Initialize a callback dictionary\n",
        "        callback_dict = {\n",
        "            \"prev_vector\": None,\n",
        "            \"iters\": 0,\n",
        "            \"cost_history\": [],\n",
        "        }\n",
        "\n",
        "        # Minimize the cost function using scipy\n",
        "        res = minimize(\n",
        "            cost_func,\n",
        "            params_0,\n",
        "            args=(coefficients, labels, ansatz, obs, estimator, pm, callback_dict),\n",
        "            method='cobyla',\n",
        "            options={'maxiter': 10}\n",
        "        )\n",
        "\n",
        "        # Print the results after convergence\n",
        "        print(res)\n",
        "\n",
        "        # Save the results from different runs\n",
        "        res_list.append(res)\n",
        "        cost_history_list.append(callback_dict[\"cost_history\"])\n",
        "\n",
        "    # Display the results of all iterations\n",
        "    for i, res in enumerate(res_list):\n",
        "        print(f\"\\nResults of iteration {i + 1}:\")\n",
        "        print(res)\n",
        "        print(f\"Cost history: {cost_history_list[i]}\")\n",
        "\n",
        "    session.close()\n",
        "# num_parameters = count_parameters(ansatz)\n",
        "# num_parameters=20\n",
        "# # Perform iterations\n",
        "# for iteration in range(num_iterations):\n",
        "#     print(f\"\\nIteration {iteration + 1}:\")\n",
        "\n",
        "#     # Generate initial parameters for this iteration\n",
        "#     params_0 = np.random.uniform(low=-np.pi, high=np.pi, size=num_parameters)\n",
        "\n",
        "#     # Ensure params_0 has exactly 15 elements\n",
        "#     assert len(params_0) == num_parameters, f\"Expected {num_parameters} elements in params_0, got {len(params_0)}.\"\n",
        "#     # Initialize a callback dictionary\n",
        "#     callback_dict = {\n",
        "#         \"prev_vector\": None,\n",
        "#         \"iters\": 0,\n",
        "#         \"cost_history\": [],\n",
        "#     }\n",
        "\n",
        "#     # Minimize the cost function using scipy\n",
        "#     res = minimize(\n",
        "#         cost_func,\n",
        "#         params_0,\n",
        "#         args=(coefficients, labels, ansatz, obs, estimator, pm, callback_dict),\n",
        "#         method='cobyla',\n",
        "#         options={'maxiter': 10}\n",
        "#     )\n",
        "\n",
        "#     # Print the results after convergence\n",
        "#     print(res)\n",
        "\n",
        "#     # Save the results from different runs\n",
        "#     res_list.append(res)\n",
        "#     cost_history_list.append(callback_dict[\"cost_history\"])\n",
        "\n",
        "# # Display the results of all iterations\n",
        "# for i, res in enumerate(res_list):\n",
        "#     print(f\"\\nResults of iteration {i + 1}:\")\n",
        "#     print(res)\n",
        "#     print(f\"Cost history: {cost_history_list[i]}\")"
      ],
      "metadata": {
        "colab": {
          "base_uri": "https://localhost:8080/"
        },
        "id": "mbmg77VJczdH",
        "outputId": "6d70792f-2323-40f1-e227-b3620e269c6e"
      },
      "execution_count": 47,
      "outputs": [
        {
          "output_type": "stream",
          "name": "stdout",
          "text": [
            "\n",
            "Iteration 1:\n",
            " message: Maximum number of function evaluations has been exceeded.\n",
            " success: False\n",
            "  status: 2\n",
            "     fun: 43.06110162441181\n",
            "       x: [-1.018e+00 -2.055e+00 ...  2.075e+00  2.014e+00]\n",
            "    nfev: 10\n",
            "   maxcv: 0.0\n",
            "\n",
            "Iteration 2:\n",
            " message: Maximum number of function evaluations has been exceeded.\n",
            " success: False\n",
            "  status: 2\n",
            "     fun: 43.41005544579921\n",
            "       x: [ 2.021e+00  2.369e+00 ... -7.958e-01  1.735e+00]\n",
            "    nfev: 10\n",
            "   maxcv: 0.0\n",
            "\n",
            "Iteration 3:\n",
            " message: Maximum number of function evaluations has been exceeded.\n",
            " success: False\n",
            "  status: 2\n",
            "     fun: 43.496355021471004\n",
            "       x: [-5.693e-01  2.823e+00 ... -3.035e+00 -2.605e+00]\n",
            "    nfev: 10\n",
            "   maxcv: 0.0\n",
            "\n",
            "Iteration 4:\n",
            " message: Maximum number of function evaluations has been exceeded.\n",
            " success: False\n",
            "  status: 2\n",
            "     fun: 43.90267984131074\n",
            "       x: [ 2.928e-01 -5.586e-01 ...  1.051e+00  9.814e-01]\n",
            "    nfev: 10\n",
            "   maxcv: 0.0\n",
            "\n",
            "Iteration 5:\n",
            " message: Maximum number of function evaluations has been exceeded.\n",
            " success: False\n",
            "  status: 2\n",
            "     fun: 43.00517238843379\n",
            "       x: [ 2.233e+00 -1.397e+00 ...  4.422e-01  1.110e+00]\n",
            "    nfev: 10\n",
            "   maxcv: 0.0\n",
            "\n",
            "Results of iteration 1:\n",
            " message: Maximum number of function evaluations has been exceeded.\n",
            " success: False\n",
            "  status: 2\n",
            "     fun: 43.06110162441181\n",
            "       x: [-1.018e+00 -2.055e+00 ...  2.075e+00  2.014e+00]\n",
            "    nfev: 10\n",
            "   maxcv: 0.0\n",
            "Cost history: [63.812164373714374, 59.60830376195871, 77.22241986013681, 44.60158852006644, 44.733950082470585, 43.708282970568725, 43.37213193718057, 49.582259361154996, 43.06110162441181, 43.08661466632152]\n",
            "\n",
            "Results of iteration 2:\n",
            " message: Maximum number of function evaluations has been exceeded.\n",
            " success: False\n",
            "  status: 2\n",
            "     fun: 43.41005544579921\n",
            "       x: [ 2.021e+00  2.369e+00 ... -7.958e-01  1.735e+00]\n",
            "    nfev: 10\n",
            "   maxcv: 0.0\n",
            "Cost history: [62.68750749391801, 51.26269897160193, 43.41005544579921, 44.00656271439719, 66.8238224584188, 46.524367798452616, 51.10553778900532, 56.375568709317676, 52.96122917680807, 49.82346478033239]\n",
            "\n",
            "Results of iteration 3:\n",
            " message: Maximum number of function evaluations has been exceeded.\n",
            " success: False\n",
            "  status: 2\n",
            "     fun: 43.496355021471004\n",
            "       x: [-5.693e-01  2.823e+00 ... -3.035e+00 -2.605e+00]\n",
            "    nfev: 10\n",
            "   maxcv: 0.0\n",
            "Cost history: [50.035636290343916, 44.280329444642575, 51.710848308581426, 46.105309949881416, 43.496355021471004, 48.79266541661026, 45.69390928450845, 44.42579441756976, 43.946042737371, 44.34641135056163]\n",
            "\n",
            "Results of iteration 4:\n",
            " message: Maximum number of function evaluations has been exceeded.\n",
            " success: False\n",
            "  status: 2\n",
            "     fun: 43.90267984131074\n",
            "       x: [ 2.928e-01 -5.586e-01 ...  1.051e+00  9.814e-01]\n",
            "    nfev: 10\n",
            "   maxcv: 0.0\n",
            "Cost history: [45.528233517285955, 54.744945303386395, 59.92302221541468, 49.07212761419192, 53.545849969230304, 56.01651541049869, 43.90267984131074, 45.04789865827333, 55.3947008100198, 44.98521974569588]\n",
            "\n",
            "Results of iteration 5:\n",
            " message: Maximum number of function evaluations has been exceeded.\n",
            " success: False\n",
            "  status: 2\n",
            "     fun: 43.00517238843379\n",
            "       x: [ 2.233e+00 -1.397e+00 ...  4.422e-01  1.110e+00]\n",
            "    nfev: 10\n",
            "   maxcv: 0.0\n",
            "Cost history: [43.9276649131251, 44.53528490543839, 54.95532838183472, 61.88102985772648, 45.896562514989746, 43.29275863388431, 43.00517238843379, 44.421566894487505, 44.850404176779215, 59.361913985781435]\n"
          ]
        }
      ]
    },
    {
      "cell_type": "code",
      "source": [
        "coefficients= coefficients[0:2]\n",
        "labels=labels[0:2]"
      ],
      "metadata": {
        "id": "xVyf_Q7kTbcn"
      },
      "execution_count": 234,
      "outputs": []
    },
    {
      "cell_type": "code",
      "source": [
        "from qiskit import QuantumCircuit\n",
        "from qiskit.circuit import Parameter\n",
        "from qiskit_ibm_runtime import Session, Options, QiskitRuntimeService, EstimatorV2\n",
        "from qiskit.transpiler import PassManager, preset_passmanagers\n",
        "from qiskit.primitives import BackendEstimator\n",
        "from scipy.optimize import minimize\n",
        "import numpy as np\n",
        "RR=''\n",
        "def cost_func(params, list_coefficients, list_labels, ansatz, obs, estimator, pm, callback_dict):\n",
        "    \"\"\"Return cost function for optimization\"\"\"\n",
        "    cost = 0\n",
        "    for amplitudes, label in zip(list_coefficients, list_labels):\n",
        "        qc = QuantumCircuit(num_qubits)\n",
        "        # Amplitude embedding\n",
        "        qc.append(feature_map, range(num_qubits))\n",
        "        # Compose initial state + ansatz\n",
        "        classifier = qc.compose(ansatz)\n",
        "        # Transpile classifier\n",
        "        transpiled_classifier = pm.run(classifier)\n",
        "        # Transpile observable\n",
        "        transpiled_obs = obs.apply_layout(layout=transpiled_classifier.layout)\n",
        "        # Run estimator\n",
        "        job = estimator.run([(transpiled_classifier, transpiled_obs, [params])])\n",
        "        # estimator.run(circuits=[transpiled_classifier], observables=[transpiled_obs], parameter_values=[params])\n",
        "        # result = job.result().values[0]\n",
        "        result= job.result()[0].data.evs\n",
        "        print(job.result)\n",
        "        print(job.result())\n",
        "        print(job.result()[0])\n",
        "        print(job.result()[0].data)\n",
        "        print(job.result()[0].data.evs)\n",
        "        print(\"===\")\n",
        "        # print(result.optimal_paraneters.values())\n",
        "        RR = job\n",
        "\n",
        "        # Wait for job to complete\n",
        "        # while job.status() not in [JobStatus.DONE, JobStatus.CANCELLED, JobStatus.ERROR]:\n",
        "        #     continue\n",
        "\n",
        "        # Get result\n",
        "        # result = job.result().values[0]\n",
        "        # Compute cost function (cumulative)\n",
        "        cost += np.abs(result - label)\n",
        "        print(\"cossst\",cost)\n",
        "\n",
        "    callback_dict[\"iters\"] += 1\n",
        "    callback_dict[\"prev_vector\"] = params\n",
        "    callback_dict[\"cost_history\"].append(cost)\n",
        "\n",
        "    # Print the iterations to screen on a single line\n",
        "    print(\n",
        "        \"Iters. done: {} [Current cost: {}]\".format(callback_dict[\"iters\"], cost),\n",
        "        end=\"\\r\",\n",
        "        flush=True,\n",
        "    )\n",
        "    print(\"callback_dict\",callback_dict)\n",
        "    print(\"cost\",cost)\n",
        "    return cost\n",
        "\n",
        "def count_parameters(circuit):\n",
        "    \"\"\"Count the number of unique parameters in a QuantumCircuit.\"\"\"\n",
        "    parameters = set()\n",
        "    for param in circuit.parameters:\n",
        "        if isinstance(param, Parameter):\n",
        "            parameters.add(str(param))\n",
        "    return len(parameters)\n",
        "\n",
        "# Define your quantum service and backend\n",
        "# service = QiskitRuntimeService(channel=\"ibm_quantum\", token=\"YOUR_TOKEN_HERE\")\n",
        "# backend = service.get_backend(\"ibm_kyiv\")\n",
        "\n",
        "# Prepare the pass manager\n",
        "pm = preset_passmanagers.generate_preset_pass_manager(optimization_level=1, backend=backend)\n",
        "\n",
        "# Define your options\n",
        "options = Options()\n",
        "options.execution.shots = 1024\n",
        "options.execution.init_qubits = True\n",
        "\n",
        "# Initialize your cost history list and result list\n",
        "cost_history_list = []\n",
        "res_list = []\n",
        "num_iterations = 1\n",
        "\n",
        "# Count the number of parameters in your ansatz\n",
        "num_parameters = count_parameters(ansatz) + 5\n",
        "\n",
        "# Initialize the session\n",
        "with Session(service=service, backend=backend) as session:\n",
        "    estimator = EstimatorV2(session=session)\n",
        "\n",
        "    # Perform iterations\n",
        "    for iteration in range(num_iterations):\n",
        "        print(f\"\\nIteration {iteration + 1}:\")\n",
        "\n",
        "        # Generate initial parameters for this iteration\n",
        "        params_0 = np.random.uniform(low=-np.pi, high=np.pi, size=num_parameters)\n",
        "\n",
        "        # Ensure params_0 has exactly num_parameters elements\n",
        "        assert len(params_0) == num_parameters, f\"Expected {num_parameters} elements in params_0, got {len(params_0)}.\"\n",
        "\n",
        "        # Initialize a callback dictionary\n",
        "        callback_dict = {\n",
        "            \"prev_vector\": None,\n",
        "            \"iters\": 0,\n",
        "            \"cost_history\": [],\n",
        "        }\n",
        "\n",
        "        # Minimize the cost function using scipy\n",
        "        res = minimize(\n",
        "            cost_func,\n",
        "            params_0,\n",
        "            args=(coefficients, labels, ansatz, obs, estimator, pm, callback_dict),\n",
        "            method='cobyla',\n",
        "            options={'maxiter': 1}\n",
        "        )\n",
        "\n",
        "        # Print the results after convergence\n",
        "        print(res)\n",
        "\n",
        "        # Save the results from different runs\n",
        "        res_list.append(res)\n",
        "        cost_history_list.append(callback_dict[\"cost_history\"])\n",
        "\n",
        "    # Display the results of all iterations\n",
        "    for i, res in enumerate(res_list):\n",
        "        print(f\"\\nResults of iteration {i + 1}:\")\n",
        "        print(res)\n",
        "        print(f\"Cost history: {cost_history_list[i]}\")\n",
        "\n",
        "    session.close()\n"
      ],
      "metadata": {
        "colab": {
          "base_uri": "https://localhost:8080/"
        },
        "id": "6yY6ezZjl_D5",
        "outputId": "c10253b2-da97-4cc7-d15c-2bc427f3837f"
      },
      "execution_count": 237,
      "outputs": [
        {
          "output_type": "stream",
          "name": "stderr",
          "text": [
            "<ipython-input-237-96356edbbd6b>:90: DeprecationWarning: The 'session' keyword arguments are deprecated as of qiskit-ibm-runtime 0.24.0 and will be removed no sooner than 3 months after the release date. Please use the 'mode' parameter instead.\n",
            "  estimator = EstimatorV2(session=session)\n"
          ]
        },
        {
          "output_type": "stream",
          "name": "stdout",
          "text": [
            "\n",
            "Iteration 1:\n",
            "<bound method RuntimeJobV2.result of <RuntimeJobV2('cstpfyqsgar0008byrrg', 'estimator')>>\n",
            "PrimitiveResult([PubResult(data=DataBin(evs=np.ndarray(<shape=(1,), dtype=float64>), stds=np.ndarray(<shape=(1,), dtype=float64>), ensemble_standard_error=np.ndarray(<shape=(1,), dtype=float64>), shape=(1,)), metadata={'shots': 4096, 'target_precision': 0.015625, 'circuit_metadata': {}, 'resilience': {}, 'num_randomizations': 32})], metadata={'dynamical_decoupling': {'enable': False, 'sequence_type': 'XX', 'extra_slack_distribution': 'middle', 'scheduling_method': 'alap'}, 'twirling': {'enable_gates': False, 'enable_measure': True, 'num_randomizations': 'auto', 'shots_per_randomization': 'auto', 'interleave_randomizations': True, 'strategy': 'active-accum'}, 'resilience': {'measure_mitigation': True, 'zne_mitigation': False, 'pec_mitigation': False}, 'version': 2})\n",
            "PubResult(data=DataBin(evs=np.ndarray(<shape=(1,), dtype=float64>), stds=np.ndarray(<shape=(1,), dtype=float64>), ensemble_standard_error=np.ndarray(<shape=(1,), dtype=float64>), shape=(1,)), metadata={'shots': 4096, 'target_precision': 0.015625, 'circuit_metadata': {}, 'resilience': {}, 'num_randomizations': 32})\n",
            "DataBin(evs=np.ndarray(<shape=(1,), dtype=float64>), stds=np.ndarray(<shape=(1,), dtype=float64>), ensemble_standard_error=np.ndarray(<shape=(1,), dtype=float64>), shape=(1,))\n",
            "[-0.03169399]\n",
            "===\n",
            "cossst [1.03169399]\n",
            "<bound method RuntimeJobV2.result of <RuntimeJobV2('cstpg78sgar0008byrsg', 'estimator')>>\n",
            "PrimitiveResult([PubResult(data=DataBin(evs=np.ndarray(<shape=(1,), dtype=float64>), stds=np.ndarray(<shape=(1,), dtype=float64>), ensemble_standard_error=np.ndarray(<shape=(1,), dtype=float64>), shape=(1,)), metadata={'shots': 4096, 'target_precision': 0.015625, 'circuit_metadata': {}, 'resilience': {}, 'num_randomizations': 32})], metadata={'dynamical_decoupling': {'enable': False, 'sequence_type': 'XX', 'extra_slack_distribution': 'middle', 'scheduling_method': 'alap'}, 'twirling': {'enable_gates': False, 'enable_measure': True, 'num_randomizations': 'auto', 'shots_per_randomization': 'auto', 'interleave_randomizations': True, 'strategy': 'active-accum'}, 'resilience': {'measure_mitigation': True, 'zne_mitigation': False, 'pec_mitigation': False}, 'version': 2})\n",
            "PubResult(data=DataBin(evs=np.ndarray(<shape=(1,), dtype=float64>), stds=np.ndarray(<shape=(1,), dtype=float64>), ensemble_standard_error=np.ndarray(<shape=(1,), dtype=float64>), shape=(1,)), metadata={'shots': 4096, 'target_precision': 0.015625, 'circuit_metadata': {}, 'resilience': {}, 'num_randomizations': 32})\n",
            "DataBin(evs=np.ndarray(<shape=(1,), dtype=float64>), stds=np.ndarray(<shape=(1,), dtype=float64>), ensemble_standard_error=np.ndarray(<shape=(1,), dtype=float64>), shape=(1,))\n",
            "[0.0357906]\n",
            "===\n",
            "cossst [1.99590339]\n",
            "callback_dict {'prev_vector': array([ 2.35424372,  2.88551096,  2.09689979, -2.96909992,  1.86711054,\n",
            "       -1.41609565,  1.16253189,  2.91590285, -2.82626191, -1.8502375 ,\n",
            "        2.17602456,  1.20434439,  0.66558703, -1.74672476,  1.41705756,\n",
            "       -1.59696714, -1.62902771, -0.01713537, -1.28243051, -0.54106907]), 'iters': 1, 'cost_history': [array([1.99590339])]}\n",
            "cost [1.99590339]\n",
            " message: Maximum number of function evaluations has been exceeded.\n",
            " success: False\n",
            "  status: 2\n",
            "     fun: 1.9959033907804398\n",
            "       x: [ 2.354e+00  2.886e+00 ... -1.282e+00 -5.411e-01]\n",
            "    nfev: 1\n",
            "   maxcv: 0.0\n",
            "\n",
            "Results of iteration 1:\n",
            " message: Maximum number of function evaluations has been exceeded.\n",
            " success: False\n",
            "  status: 2\n",
            "     fun: 1.9959033907804398\n",
            "       x: [ 2.354e+00  2.886e+00 ... -1.282e+00 -5.411e-01]\n",
            "    nfev: 1\n",
            "   maxcv: 0.0\n",
            "Cost history: [array([1.99590339])]\n"
          ]
        }
      ]
    },
    {
      "cell_type": "code",
      "source": [
        "# Display the results of all iterations\n",
        "for i, res in enumerate(res_list):\n",
        "    print(f\"\\nResults of iteration {i + 1}:\")\n",
        "    print(res)\n",
        "    print(f\"Cost history: {cost_history_list[i]}\")\n",
        "\n",
        "    # Access and print the optimal parameters\n",
        "    optimal_params = res.x\n",
        "    print(f\"Optimal parameters for iteration {i + 1}: {len(optimal_params)}\")\n",
        "# res_length = len(res_list)\n",
        "# optimal_params= res_list[res_length-1].x\n",
        "# print(\"optimal_params\",optimal_params)"
      ],
      "metadata": {
        "colab": {
          "base_uri": "https://localhost:8080/"
        },
        "id": "h5NQpaFHvg2V",
        "outputId": "1a03a0c8-0b33-4423-f007-614e00179cd4"
      },
      "execution_count": 238,
      "outputs": [
        {
          "output_type": "stream",
          "name": "stdout",
          "text": [
            "\n",
            "Results of iteration 1:\n",
            " message: Maximum number of function evaluations has been exceeded.\n",
            " success: False\n",
            "  status: 2\n",
            "     fun: 1.9959033907804398\n",
            "       x: [ 2.354e+00  2.886e+00 ... -1.282e+00 -5.411e-01]\n",
            "    nfev: 1\n",
            "   maxcv: 0.0\n",
            "Cost history: [array([1.99590339])]\n",
            "Optimal parameters for iteration 1: 20\n"
          ]
        }
      ]
    },
    {
      "cell_type": "code",
      "source": [
        "parameters = optimal_params[5:]\n",
        "parameters"
      ],
      "metadata": {
        "colab": {
          "base_uri": "https://localhost:8080/"
        },
        "id": "mVTp3o6vdfZl",
        "outputId": "b1f3d37c-bdd6-4ee5-976e-027d41f4f235"
      },
      "execution_count": 239,
      "outputs": [
        {
          "output_type": "execute_result",
          "data": {
            "text/plain": [
              "array([-1.41609565,  1.16253189,  2.91590285, -2.82626191, -1.8502375 ,\n",
              "        2.17602456,  1.20434439,  0.66558703, -1.74672476,  1.41705756,\n",
              "       -1.59696714, -1.62902771, -0.01713537, -1.28243051, -0.54106907])"
            ]
          },
          "metadata": {},
          "execution_count": 239
        }
      ]
    },
    {
      "cell_type": "code",
      "source": [
        "from matplotlib import pyplot as plt\n",
        "from IPython.display import clear_output\n",
        "\n",
        "objective_func_vals = []\n",
        "plt.rcParams[\"figure.figsize\"] = (12, 6)\n",
        "\n",
        "\n",
        "def callback_graph(weights, obj_func_eval):\n",
        "    clear_output(wait=True)\n",
        "    objective_func_vals.append(obj_func_eval)\n",
        "    plt.title(\"Objective function value against iteration\")\n",
        "    plt.xlabel(\"Iteration\")\n",
        "    plt.ylabel(\"Objective function value\")\n",
        "    plt.plot(range(len(objective_func_vals)), objective_func_vals)\n",
        "    plt.show()"
      ],
      "metadata": {
        "id": "30D7nxL8jzuR"
      },
      "execution_count": 240,
      "outputs": []
    },
    {
      "cell_type": "code",
      "source": [
        "\n",
        "import time\n",
        "from qiskit_machine_learning.algorithms.classifiers import VQC\n",
        "optimizer = COBYLA(maxiter=50)\n",
        "vqc = VQC(\n",
        "    sampler=sampler,\n",
        "    initial_point=optimal_params[5:],\n",
        "  #  [ -0.93266144, -1.38222682, -1.53636453, -0.40734041, -1.46831766, 0.69203852,\n",
        "  #   0.39505883, -2.74813689, 2.97627575, -0.80923609, 1.66314389, -0.42909159, -0.37534606, 2.82581914, 1.54308034],\n",
        "\n",
        "# [\n",
        "    # -1.83112985,  0.3842518 ,  2.05317414, -1.38829545, -2.07207094,\n",
        "      #  -2.46959344, -0.79690994, -0.31004391,  1.09250039,  2.41571836,\n",
        "      #   1.12234235, -1.97334503, -1.0971897 ,  2.5392068 ,  2.39732562,\n",
        "      #   1.8363635 , -1.99341018, -3.00972829,  0.81296558, -1.45411104],\n",
        "    # estimator=estimator,\n",
        "    feature_map=feature_map,\n",
        "    ansatz=ansatz,\n",
        "    optimizer=optimizer,\n",
        "    callback=callback_graph,\n",
        ")\n",
        "\n",
        "# Estimator(session=session)\n",
        "#     cost_func = lambda params: estimator.run([(isa_circuit, isa_observables, [params])]).result()[0].data.evs[0]\n",
        "#     result = optimizer.minimize(cost_func, x0=init_point)    session.close()\n",
        "# end_time = time.time()\n",
        "\n",
        "# clear objective value history\n",
        "objective_func_vals = []\n",
        "\n",
        "# start = time.time()\n",
        "vqc.fit(train_features, train_labels)\n",
        "# elapsed = time.time() - start\n",
        "\n",
        "# print(f\"Training time: {round(elapsed)} seconds\")"
      ],
      "metadata": {
        "colab": {
          "base_uri": "https://localhost:8080/",
          "height": 527
        },
        "id": "dAvRLOq-Z1Zq",
        "outputId": "6a514295-385d-4c4f-8f27-8c8022f5f099"
      },
      "execution_count": 241,
      "outputs": [
        {
          "output_type": "display_data",
          "data": {
            "text/plain": [
              "<Figure size 1200x600 with 1 Axes>"
            ],
            "image/png": "[encoded data removed]"
          },
          "metadata": {}
        },
        {
          "output_type": "execute_result",
          "data": {
            "text/plain": [
              "<qiskit_machine_learning.algorithms.classifiers.vqc.VQC at 0x7a6fd14d77c0>"
            ]
          },
          "metadata": {},
          "execution_count": 241
        }
      ]
    },
    {
      "cell_type": "code",
      "source": [
        "train_score_q4 = vqc.score(train_features, train_labels)\n",
        "test_score_q4 = vqc.score(test_features, test_labels)\n",
        "\n",
        "print(f\"Quantum VQC on the training dataset: {train_score_q4:.2f}\")\n",
        "print(f\"Quantum VQC on the test dataset:     {test_score_q4:.2f}\")"
      ],
      "metadata": {
        "colab": {
          "base_uri": "https://localhost:8080/"
        },
        "id": "ueXBajhkZ7KH",
        "outputId": "d586b3d3-8410-4df0-e193-cc4b09e487c9"
      },
      "execution_count": 242,
      "outputs": [
        {
          "output_type": "stream",
          "name": "stdout",
          "text": [
            "Quantum VQC on the training dataset: 0.60\n",
            "Quantum VQC on the test dataset:     0.50\n"
          ]
        }
      ]
    },
    {
      "cell_type": "code",
      "source": [
        "len(optimal_params[5:])"
      ],
      "metadata": {
        "colab": {
          "base_uri": "https://localhost:8080/"
        },
        "id": "zdSX5ui-tfA3",
        "outputId": "e63e9003-73fa-479c-a0fd-abf879f71c01"
      },
      "execution_count": 99,
      "outputs": [
        {
          "output_type": "execute_result",
          "data": {
            "text/plain": [
              "15"
            ]
          },
          "metadata": {},
          "execution_count": 99
        }
      ]
    },
    {
      "cell_type": "code",
      "source": [
        "fig, ax = plt.subplots(1, 1, figsize=(7,5))\n",
        "ax.set_title('Cost history')\n",
        "ax.set_ylabel('Cost')\n",
        "ax.set_xlabel('Iterations')\n",
        "\n",
        "for i, cost_history in enumerate(cost_history_list):\n",
        "    ax.plot(range(len(cost_history)), cost_history, marker='o', linestyle='-', label=f'Run {i+1}')\n",
        "\n",
        "# Add a legend\n",
        "ax.legend()\n",
        "\n",
        "# Display the plot\n",
        "plt.show()\n"
      ],
      "metadata": {
        "colab": {
          "base_uri": "https://localhost:8080/",
          "height": 487
        },
        "id": "GEi0a17LdKzk",
        "outputId": "dca0c527-862c-47f8-972e-99ba8685ab42"
      },
      "execution_count": 48,
      "outputs": [
        {
          "output_type": "display_data",
          "data": {
            "text/plain": [
              "<Figure size 700x500 with 1 Axes>"
            ],
            "image/png": "[encoded data removed]"
          },
          "metadata": {}
        }
      ]
    },
    {
      "cell_type": "code",
      "source": [
        "cost_history_list"
      ],
      "metadata": {
        "colab": {
          "base_uri": "https://localhost:8080/"
        },
        "id": "973LLveDndfJ",
        "outputId": "0799c95d-8ff4-4ff7-f755-57c5d6157cc7"
      },
      "execution_count": null,
      "outputs": [
        {
          "output_type": "execute_result",
          "data": {
            "text/plain": [
              "[[178.7773762985321,\n",
              "  176.4225298288458,\n",
              "  189.47975263340993,\n",
              "  177.68630267377648,\n",
              "  177.77222989440403,\n",
              "  176.94198203685133,\n",
              "  177.35334193008532,\n",
              "  175.63326116853494,\n",
              "  176.96262606762335,\n",
              "  176.20167279483329],\n",
              " [186.2357848996985,\n",
              "  208.1724058989503,\n",
              "  193.25995384162215,\n",
              "  174.9176465127523,\n",
              "  211.0916186910706,\n",
              "  228.96553711159757,\n",
              "  175.52651553967252,\n",
              "  173.84460661907997,\n",
              "  176.47382752838945,\n",
              "  174.4898952772055],\n",
              " [184.6303741346062,\n",
              "  203.05709000801428,\n",
              "  176.18642801590443,\n",
              "  266.47501743038976,\n",
              "  177.71875259922263,\n",
              "  176.06392839576196,\n",
              "  175.85005350442864,\n",
              "  176.55449886339977,\n",
              "  174.07196374899127,\n",
              "  175.16528317541494],\n",
              " [184.8999525648693,\n",
              "  177.52994936262715,\n",
              "  177.77199239634584,\n",
              "  177.24929759574556,\n",
              "  175.9474422806287,\n",
              "  176.93257579414714,\n",
              "  174.39226002110408,\n",
              "  175.51616117194328,\n",
              "  174.8228605940595,\n",
              "  174.92041696547852],\n",
              " [175.73255480060743,\n",
              "  215.32016133688967,\n",
              "  182.43164278805557,\n",
              "  190.93029991696596,\n",
              "  240.72640108238662,\n",
              "  206.19670813929008,\n",
              "  177.0371627699221,\n",
              "  175.33875781423538,\n",
              "  175.01733415195892,\n",
              "  175.3110366754431]]"
            ]
          },
          "metadata": {},
          "execution_count": 65
        }
      ]
    },
    {
      "cell_type": "code",
      "source": [],
      "metadata": {
        "colab": {
          "base_uri": "https://localhost:8080/"
        },
        "id": "3V22FE2NjRs0",
        "outputId": "a2617087-45e7-4099-c2b8-a530588e2bee"
      },
      "execution_count": 42,
      "outputs": [
        {
          "output_type": "stream",
          "name": "stdout",
          "text": [
            "[<IBMBackend('ibm_brisbane')>, <IBMBackend('ibm_kyoto')>, <IBMBackend('ibm_osaka')>, <IBMBackend('ibm_sherbrooke')>]\n"
          ]
        }
      ]
    },
    {
      "cell_type": "code",
      "source": [
        "import numpy as np\n",
        "from qiskit import QuantumCircuit\n",
        "# Retrieve the initial parameters\n",
        "num_params = 20\n",
        "\n",
        "# Define the shape of the array (5D array with 'num_params' elements in each dimension)\n",
        "shape = tuple([num_params] * 5)\n",
        "\n",
        "# Generate random parameters\n",
        "params_nd_array = np.random.uniform(low=-np.pi, high=np.pi, size=shape)\n",
        "\n",
        "for it, params_0 in enumerate(params_nd_array):\n",
        "\n",
        "    print('Iteration number: ', it)\n",
        "\n",
        "    # Initialize a callback dictionary\n",
        "    callback_dict = {\n",
        "        \"prev_vector\": None,\n",
        "        \"iters\": 0,\n",
        "        \"cost_history\": [],\n",
        "    }\n",
        "def test_VQC(list_coefficients, list_labels, ansatz, obs, opt_params, estimator, pm):\n",
        "    \"\"\"Return the performance of the classifier\n",
        "\n",
        "    Parameters:\n",
        "        list_coefficients (list): List of arrays of complex coefficients\n",
        "        list_labels (list): List of labels\n",
        "        ansatz (QuantumCircuit): Parameterized ansatz circuit\n",
        "        obs (SparsePauliOp): Observable\n",
        "        opt_params (ndarray): Array of optimized parameters\n",
        "        estimator (EstimatorV2): Statevector estimator\n",
        "        pm (PassManager): Pass manager for transpilation\n",
        "\n",
        "    Returns:\n",
        "        list: List of test results\n",
        "    \"\"\"\n",
        "    cost = 0\n",
        "    for amplitudes,label in zip(list_coefficients, list_labels):\n",
        "        qc = QuantumCircuit(num_qubits)\n",
        "        # Amplitude embedding\n",
        "        qc.append(feature_map, range(num_qubits))\n",
        "        # Compose initial state + ansatz\n",
        "        classifier = qc.compose(ansatz)\n",
        "        # Transpile classifier\n",
        "        transpiled_classifier = pm.run(classifier)\n",
        "        # Transpile observable\n",
        "        transpiled_obs = obs.apply_layout(layout=transpiled_classifier.layout)\n",
        "        # Run estimator\n",
        "        pub = (transpiled_classifier, transpiled_obs, params_0)\n",
        "        job = estimator.run([pub])\n",
        "        # Get result\n",
        "        result = job.result()[0].data.evs\n",
        "        # Compute cost function (cumulative)\n",
        "        cost += np.abs(result - label)\n",
        "\n",
        "    return cost\n",
        "\n",
        "# with Session(service=service, backend=backend) as session:\n",
        "#      estimator = Estimator(session=session)\n",
        "#      cost_func = lambda params: estimator.run([(isa_circuit, isa_observables, [params])]).result()[0].data.evs[0]\n",
        "#      result = optimizer.minimize(cost_func, x0=init_point)\n",
        "#      session.close()\n",
        "\n",
        "def compute_performance(result_list, list_labels):\n",
        "    \"\"\"Return the performance of the classifier\n",
        "\n",
        "    Parameters:\n",
        "        result_list (list): List of results\n",
        "        list_labels (list): List of labels\n",
        "\n",
        "    Returns:\n",
        "        float: Performance of the classifier\n",
        "    \"\"\"\n",
        "    if isinstance(result_list, float):\n",
        "        result_list = [result_list]  # Convert single result to list\n",
        "\n",
        "    # Calculate the mean absolute error (MAE)\n",
        "    absolute_errors = [np.abs(result - label) for result, label in zip(result_list, list_labels)]\n",
        "    performance = np.mean(absolute_errors)\n",
        "\n",
        "    return performance"
      ],
      "metadata": {
        "colab": {
          "base_uri": "https://localhost:8080/"
        },
        "id": "lU0ifaZrniym",
        "outputId": "04b52483-8780-4db3-f480-1bf9ba09cc14"
      },
      "execution_count": 49,
      "outputs": [
        {
          "output_type": "stream",
          "name": "stdout",
          "text": [
            "Iteration number:  0\n",
            "Iteration number:  1\n",
            "Iteration number:  2\n",
            "Iteration number:  3\n",
            "Iteration number:  4\n",
            "Iteration number:  5\n",
            "Iteration number:  6\n",
            "Iteration number:  7\n",
            "Iteration number:  8\n",
            "Iteration number:  9\n",
            "Iteration number:  10\n",
            "Iteration number:  11\n",
            "Iteration number:  12\n",
            "Iteration number:  13\n",
            "Iteration number:  14\n",
            "Iteration number:  15\n",
            "Iteration number:  16\n",
            "Iteration number:  17\n",
            "Iteration number:  18\n",
            "Iteration number:  19\n"
          ]
        }
      ]
    },
    {
      "cell_type": "code",
      "source": [
        "fig, ax = plt.subplots(1, 1, figsize=(7,5))\n",
        "ax.set_title('Cost on test data')\n",
        "ax.set_ylabel('Cost')\n",
        "ax.set_xlabel('State index')\n",
        "\n",
        "ax.plot(labels, 'k-', linewidth=3, alpha=0.6, label='Labels')\n",
        "\n",
        "for index in range(len(res_list)):\n",
        "    opt_params = res_list[index].x\n",
        "    print(coefficients, labels, ansatz, obs, opt_params, estimator, pm)\n",
        "    results_test = test_VQC(coefficients, labels, ansatz, obs, opt_params, estimator, pm)\n",
        "    print(results_test)\n",
        "    print(f\"Performance for trial {index}: {compute_performance(results_test, labels)}\")\n",
        "    ax.plot(results_test, 'o--', label='Predictions trial '+str(index))\n",
        "\n",
        "ax.legend()"
      ],
      "metadata": {
        "colab": {
          "base_uri": "https://localhost:8080/",
          "height": 826
        },
        "id": "ww2wvSpin9z1",
        "outputId": "753da638-7b9b-469d-ebd4-9fba195f00a0"
      },
      "execution_count": 50,
      "outputs": [
        {
          "output_type": "error",
          "ename": "KeyboardInterrupt",
          "evalue": "",
          "traceback": [
            "\u001b[0;31m---------------------------------------------------------------------------\u001b[0m",
            "\u001b[0;31mKeyboardInterrupt\u001b[0m                         Traceback (most recent call last)",
            "\u001b[0;32m<ipython-input-50-70b72be811b4>\u001b[0m in \u001b[0;36m<cell line: 8>\u001b[0;34m()\u001b[0m\n\u001b[1;32m      9\u001b[0m     \u001b[0mopt_params\u001b[0m \u001b[0;34m=\u001b[0m \u001b[0mres_list\u001b[0m\u001b[0;34m[\u001b[0m\u001b[0mindex\u001b[0m\u001b[0;34m]\u001b[0m\u001b[0;34m.\u001b[0m\u001b[0mx\u001b[0m\u001b[0;34m\u001b[0m\u001b[0;34m\u001b[0m\u001b[0m\n\u001b[1;32m     10\u001b[0m     \u001b[0mprint\u001b[0m\u001b[0;34m(\u001b[0m\u001b[0mcoefficients\u001b[0m\u001b[0;34m,\u001b[0m \u001b[0mlabels\u001b[0m\u001b[0;34m,\u001b[0m \u001b[0mansatz\u001b[0m\u001b[0;34m,\u001b[0m \u001b[0mobs\u001b[0m\u001b[0;34m,\u001b[0m \u001b[0mopt_params\u001b[0m\u001b[0;34m,\u001b[0m \u001b[0mestimator\u001b[0m\u001b[0;34m,\u001b[0m \u001b[0mpm\u001b[0m\u001b[0;34m)\u001b[0m\u001b[0;34m\u001b[0m\u001b[0;34m\u001b[0m\u001b[0m\n\u001b[0;32m---> 11\u001b[0;31m     \u001b[0mresults_test\u001b[0m \u001b[0;34m=\u001b[0m \u001b[0mtest_VQC\u001b[0m\u001b[0;34m(\u001b[0m\u001b[0mcoefficients\u001b[0m\u001b[0;34m,\u001b[0m \u001b[0mlabels\u001b[0m\u001b[0;34m,\u001b[0m \u001b[0mansatz\u001b[0m\u001b[0;34m,\u001b[0m \u001b[0mobs\u001b[0m\u001b[0;34m,\u001b[0m \u001b[0mopt_params\u001b[0m\u001b[0;34m,\u001b[0m \u001b[0mestimator\u001b[0m\u001b[0;34m,\u001b[0m \u001b[0mpm\u001b[0m\u001b[0;34m)\u001b[0m\u001b[0;34m\u001b[0m\u001b[0;34m\u001b[0m\u001b[0m\n\u001b[0m\u001b[1;32m     12\u001b[0m     \u001b[0mprint\u001b[0m\u001b[0;34m(\u001b[0m\u001b[0mresults_test\u001b[0m\u001b[0;34m)\u001b[0m\u001b[0;34m\u001b[0m\u001b[0;34m\u001b[0m\u001b[0m\n\u001b[1;32m     13\u001b[0m     \u001b[0mprint\u001b[0m\u001b[0;34m(\u001b[0m\u001b[0;34mf\"Performance for trial {index}: {compute_performance(results_test, labels)}\"\u001b[0m\u001b[0;34m)\u001b[0m\u001b[0;34m\u001b[0m\u001b[0;34m\u001b[0m\u001b[0m\n",
            "\u001b[0;32m<ipython-input-49-6c171946bfc6>\u001b[0m in \u001b[0;36mtest_VQC\u001b[0;34m(list_coefficients, list_labels, ansatz, obs, opt_params, estimator, pm)\u001b[0m\n\u001b[1;32m     50\u001b[0m         \u001b[0mjob\u001b[0m \u001b[0;34m=\u001b[0m \u001b[0mestimator\u001b[0m\u001b[0;34m.\u001b[0m\u001b[0mrun\u001b[0m\u001b[0;34m(\u001b[0m\u001b[0;34m[\u001b[0m\u001b[0mpub\u001b[0m\u001b[0;34m]\u001b[0m\u001b[0;34m)\u001b[0m\u001b[0;34m\u001b[0m\u001b[0;34m\u001b[0m\u001b[0m\n\u001b[1;32m     51\u001b[0m         \u001b[0;31m# Get result\u001b[0m\u001b[0;34m\u001b[0m\u001b[0;34m\u001b[0m\u001b[0m\n\u001b[0;32m---> 52\u001b[0;31m         \u001b[0mresult\u001b[0m \u001b[0;34m=\u001b[0m \u001b[0mjob\u001b[0m\u001b[0;34m.\u001b[0m\u001b[0mresult\u001b[0m\u001b[0;34m(\u001b[0m\u001b[0;34m)\u001b[0m\u001b[0;34m[\u001b[0m\u001b[0;36m0\u001b[0m\u001b[0;34m]\u001b[0m\u001b[0;34m.\u001b[0m\u001b[0mdata\u001b[0m\u001b[0;34m.\u001b[0m\u001b[0mevs\u001b[0m\u001b[0;34m\u001b[0m\u001b[0;34m\u001b[0m\u001b[0m\n\u001b[0m\u001b[1;32m     53\u001b[0m         \u001b[0;31m# Compute cost function (cumulative)\u001b[0m\u001b[0;34m\u001b[0m\u001b[0;34m\u001b[0m\u001b[0m\n\u001b[1;32m     54\u001b[0m         \u001b[0mcost\u001b[0m \u001b[0;34m+=\u001b[0m \u001b[0mnp\u001b[0m\u001b[0;34m.\u001b[0m\u001b[0mabs\u001b[0m\u001b[0;34m(\u001b[0m\u001b[0mresult\u001b[0m \u001b[0;34m-\u001b[0m \u001b[0mlabel\u001b[0m\u001b[0;34m)\u001b[0m\u001b[0;34m\u001b[0m\u001b[0;34m\u001b[0m\u001b[0m\n",
            "\u001b[0;32m/usr/local/lib/python3.10/dist-packages/qiskit/primitives/primitive_job.py\u001b[0m in \u001b[0;36mresult\u001b[0;34m(self)\u001b[0m\n\u001b[1;32m     49\u001b[0m     \u001b[0;32mdef\u001b[0m \u001b[0mresult\u001b[0m\u001b[0;34m(\u001b[0m\u001b[0mself\u001b[0m\u001b[0;34m)\u001b[0m \u001b[0;34m->\u001b[0m \u001b[0mResultT\u001b[0m\u001b[0;34m:\u001b[0m\u001b[0;34m\u001b[0m\u001b[0;34m\u001b[0m\u001b[0m\n\u001b[1;32m     50\u001b[0m         \u001b[0mself\u001b[0m\u001b[0;34m.\u001b[0m\u001b[0m_check_submitted\u001b[0m\u001b[0;34m(\u001b[0m\u001b[0;34m)\u001b[0m\u001b[0;34m\u001b[0m\u001b[0;34m\u001b[0m\u001b[0m\n\u001b[0;32m---> 51\u001b[0;31m         \u001b[0;32mreturn\u001b[0m \u001b[0mself\u001b[0m\u001b[0;34m.\u001b[0m\u001b[0m_future\u001b[0m\u001b[0;34m.\u001b[0m\u001b[0mresult\u001b[0m\u001b[0;34m(\u001b[0m\u001b[0;34m)\u001b[0m\u001b[0;34m\u001b[0m\u001b[0;34m\u001b[0m\u001b[0m\n\u001b[0m\u001b[1;32m     52\u001b[0m \u001b[0;34m\u001b[0m\u001b[0m\n\u001b[1;32m     53\u001b[0m     \u001b[0;32mdef\u001b[0m \u001b[0mstatus\u001b[0m\u001b[0;34m(\u001b[0m\u001b[0mself\u001b[0m\u001b[0;34m)\u001b[0m \u001b[0;34m->\u001b[0m \u001b[0mJobStatus\u001b[0m\u001b[0;34m:\u001b[0m\u001b[0;34m\u001b[0m\u001b[0;34m\u001b[0m\u001b[0m\n",
            "\u001b[0;32m/usr/lib/python3.10/concurrent/futures/_base.py\u001b[0m in \u001b[0;36mresult\u001b[0;34m(self, timeout)\u001b[0m\n\u001b[1;32m    451\u001b[0m                     \u001b[0;32mreturn\u001b[0m \u001b[0mself\u001b[0m\u001b[0;34m.\u001b[0m\u001b[0m__get_result\u001b[0m\u001b[0;34m(\u001b[0m\u001b[0;34m)\u001b[0m\u001b[0;34m\u001b[0m\u001b[0;34m\u001b[0m\u001b[0m\n\u001b[1;32m    452\u001b[0m \u001b[0;34m\u001b[0m\u001b[0m\n\u001b[0;32m--> 453\u001b[0;31m                 \u001b[0mself\u001b[0m\u001b[0;34m.\u001b[0m\u001b[0m_condition\u001b[0m\u001b[0;34m.\u001b[0m\u001b[0mwait\u001b[0m\u001b[0;34m(\u001b[0m\u001b[0mtimeout\u001b[0m\u001b[0;34m)\u001b[0m\u001b[0;34m\u001b[0m\u001b[0;34m\u001b[0m\u001b[0m\n\u001b[0m\u001b[1;32m    454\u001b[0m \u001b[0;34m\u001b[0m\u001b[0m\n\u001b[1;32m    455\u001b[0m                 \u001b[0;32mif\u001b[0m \u001b[0mself\u001b[0m\u001b[0;34m.\u001b[0m\u001b[0m_state\u001b[0m \u001b[0;32min\u001b[0m \u001b[0;34m[\u001b[0m\u001b[0mCANCELLED\u001b[0m\u001b[0;34m,\u001b[0m \u001b[0mCANCELLED_AND_NOTIFIED\u001b[0m\u001b[0;34m]\u001b[0m\u001b[0;34m:\u001b[0m\u001b[0;34m\u001b[0m\u001b[0;34m\u001b[0m\u001b[0m\n",
            "\u001b[0;32m/usr/lib/python3.10/threading.py\u001b[0m in \u001b[0;36mwait\u001b[0;34m(self, timeout)\u001b[0m\n\u001b[1;32m    318\u001b[0m         \u001b[0;32mtry\u001b[0m\u001b[0;34m:\u001b[0m    \u001b[0;31m# restore state no matter what (e.g., KeyboardInterrupt)\u001b[0m\u001b[0;34m\u001b[0m\u001b[0;34m\u001b[0m\u001b[0m\n\u001b[1;32m    319\u001b[0m             \u001b[0;32mif\u001b[0m \u001b[0mtimeout\u001b[0m \u001b[0;32mis\u001b[0m \u001b[0;32mNone\u001b[0m\u001b[0;34m:\u001b[0m\u001b[0;34m\u001b[0m\u001b[0;34m\u001b[0m\u001b[0m\n\u001b[0;32m--> 320\u001b[0;31m                 \u001b[0mwaiter\u001b[0m\u001b[0;34m.\u001b[0m\u001b[0macquire\u001b[0m\u001b[0;34m(\u001b[0m\u001b[0;34m)\u001b[0m\u001b[0;34m\u001b[0m\u001b[0;34m\u001b[0m\u001b[0m\n\u001b[0m\u001b[1;32m    321\u001b[0m                 \u001b[0mgotit\u001b[0m \u001b[0;34m=\u001b[0m \u001b[0;32mTrue\u001b[0m\u001b[0;34m\u001b[0m\u001b[0;34m\u001b[0m\u001b[0m\n\u001b[1;32m    322\u001b[0m             \u001b[0;32melse\u001b[0m\u001b[0;34m:\u001b[0m\u001b[0;34m\u001b[0m\u001b[0;34m\u001b[0m\u001b[0m\n",
            "\u001b[0;31mKeyboardInterrupt\u001b[0m: "
          ]
        },
        {
          "output_type": "display_data",
          "data": {
            "text/plain": [
              "<Figure size 700x500 with 1 Axes>"
            ],
            "image/png": "[encoded data removed]"
          },
          "metadata": {}
        }
      ]
    },
    {
      "cell_type": "code",
      "source": [
        "\n",
        "import time\n",
        "from qiskit_machine_learning.algorithms.classifiers import VQC\n",
        "optimizer = COBYLA(maxiter=50)\n",
        "vqc = VQC(\n",
        "    sampler=sampler,\n",
        "    initial_point=\n",
        "    # optimal_params[5:],\n",
        " [ 0.65362848,  2.4520776 , -1.10915866,  1.7601695 , -2.42820737,\n",
        "        1.77859775,  0.38398913,  0.52451907,  0.87348626,  1.32315532,\n",
        "       -0.70526495, -2.26305384,  0.08918845, -0.429911  , -2.76315824],\n",
        "# [\n",
        "    # -1.83112985,  0.3842518 ,  2.05317414, -1.38829545, -2.07207094,\n",
        "      #  -2.46959344, -0.79690994, -0.31004391,  1.09250039,  2.41571836,\n",
        "      #   1.12234235, -1.97334503, -1.0971897 ,  2.5392068 ,  2.39732562,\n",
        "      #   1.8363635 , -1.99341018, -3.00972829,  0.81296558, -1.45411104],\n",
        "    # estimator=estimator,\n",
        "    feature_map=feature_map,\n",
        "    ansatz=ansatz,\n",
        "    optimizer=optimizer,\n",
        "    callback=callback_graph,\n",
        ")\n",
        "\n",
        "# Estimator(session=session)\n",
        "#     cost_func = lambda params: estimator.run([(isa_circuit, isa_observables, [params])]).result()[0].data.evs[0]\n",
        "#     result = optimizer.minimize(cost_func, x0=init_point)    session.close()\n",
        "# end_time = time.time()\n",
        "\n",
        "# clear objective value history\n",
        "objective_func_vals = []\n",
        "\n",
        "start = time.time()\n",
        "vqc.fit(train_features, train_labels)\n",
        "elapsed = time.time() - start\n",
        "\n",
        "print(f\"Training time: {round(elapsed)} seconds\")"
      ],
      "metadata": {
        "colab": {
          "base_uri": "https://localhost:8080/",
          "height": 478
        },
        "id": "Ee3oT58QpmIK",
        "outputId": "4df2e976-54d3-4990-d94d-a4d643a93262"
      },
      "execution_count": 194,
      "outputs": [
        {
          "output_type": "error",
          "ename": "KeyError",
          "evalue": "0",
          "traceback": [
            "\u001b[0;31m---------------------------------------------------------------------------\u001b[0m",
            "\u001b[0;31mKeyError\u001b[0m                                  Traceback (most recent call last)",
            "\u001b[0;32m/usr/local/lib/python3.10/dist-packages/pandas/core/indexes/base.py\u001b[0m in \u001b[0;36mget_loc\u001b[0;34m(self, key)\u001b[0m\n\u001b[1;32m   3652\u001b[0m         \u001b[0;32mtry\u001b[0m\u001b[0;34m:\u001b[0m\u001b[0;34m\u001b[0m\u001b[0;34m\u001b[0m\u001b[0m\n\u001b[0;32m-> 3653\u001b[0;31m             \u001b[0;32mreturn\u001b[0m \u001b[0mself\u001b[0m\u001b[0;34m.\u001b[0m\u001b[0m_engine\u001b[0m\u001b[0;34m.\u001b[0m\u001b[0mget_loc\u001b[0m\u001b[0;34m(\u001b[0m\u001b[0mcasted_key\u001b[0m\u001b[0;34m)\u001b[0m\u001b[0;34m\u001b[0m\u001b[0;34m\u001b[0m\u001b[0m\n\u001b[0m\u001b[1;32m   3654\u001b[0m         \u001b[0;32mexcept\u001b[0m \u001b[0mKeyError\u001b[0m \u001b[0;32mas\u001b[0m \u001b[0merr\u001b[0m\u001b[0;34m:\u001b[0m\u001b[0;34m\u001b[0m\u001b[0;34m\u001b[0m\u001b[0m\n",
            "\u001b[0;32m/usr/local/lib/python3.10/dist-packages/pandas/_libs/index.pyx\u001b[0m in \u001b[0;36mpandas._libs.index.IndexEngine.get_loc\u001b[0;34m()\u001b[0m\n",
            "\u001b[0;32m/usr/local/lib/python3.10/dist-packages/pandas/_libs/index.pyx\u001b[0m in \u001b[0;36mpandas._libs.index.IndexEngine.get_loc\u001b[0;34m()\u001b[0m\n",
            "\u001b[0;32mpandas/_libs/hashtable_class_helper.pxi\u001b[0m in \u001b[0;36mpandas._libs.hashtable.Int64HashTable.get_item\u001b[0;34m()\u001b[0m\n",
            "\u001b[0;32mpandas/_libs/hashtable_class_helper.pxi\u001b[0m in \u001b[0;36mpandas._libs.hashtable.Int64HashTable.get_item\u001b[0;34m()\u001b[0m\n",
            "\u001b[0;31mKeyError\u001b[0m: 0",
            "\nThe above exception was the direct cause of the following exception:\n",
            "\u001b[0;31mKeyError\u001b[0m                                  Traceback (most recent call last)",
            "\u001b[0;32m<ipython-input-194-c1d194e703d2>\u001b[0m in \u001b[0;36m<cell line: 32>\u001b[0;34m()\u001b[0m\n\u001b[1;32m     30\u001b[0m \u001b[0;34m\u001b[0m\u001b[0m\n\u001b[1;32m     31\u001b[0m \u001b[0mstart\u001b[0m \u001b[0;34m=\u001b[0m \u001b[0mtime\u001b[0m\u001b[0;34m.\u001b[0m\u001b[0mtime\u001b[0m\u001b[0;34m(\u001b[0m\u001b[0;34m)\u001b[0m\u001b[0;34m\u001b[0m\u001b[0;34m\u001b[0m\u001b[0m\n\u001b[0;32m---> 32\u001b[0;31m \u001b[0mvqc\u001b[0m\u001b[0;34m.\u001b[0m\u001b[0mfit\u001b[0m\u001b[0;34m(\u001b[0m\u001b[0mtrain_features\u001b[0m\u001b[0;34m,\u001b[0m \u001b[0mtrain_labels\u001b[0m\u001b[0;34m)\u001b[0m\u001b[0;34m\u001b[0m\u001b[0;34m\u001b[0m\u001b[0m\n\u001b[0m\u001b[1;32m     33\u001b[0m \u001b[0melapsed\u001b[0m \u001b[0;34m=\u001b[0m \u001b[0mtime\u001b[0m\u001b[0;34m.\u001b[0m\u001b[0mtime\u001b[0m\u001b[0;34m(\u001b[0m\u001b[0;34m)\u001b[0m \u001b[0;34m-\u001b[0m \u001b[0mstart\u001b[0m\u001b[0;34m\u001b[0m\u001b[0;34m\u001b[0m\u001b[0m\n\u001b[1;32m     34\u001b[0m \u001b[0;34m\u001b[0m\u001b[0m\n",
            "\u001b[0;32m/usr/local/lib/python3.10/dist-packages/qiskit_machine_learning/algorithms/trainable_model.py\u001b[0m in \u001b[0;36mfit\u001b[0;34m(self, X, y)\u001b[0m\n\u001b[1;32m    197\u001b[0m             \u001b[0mself\u001b[0m\u001b[0;34m.\u001b[0m\u001b[0m_fit_result\u001b[0m \u001b[0;34m=\u001b[0m \u001b[0;32mNone\u001b[0m\u001b[0;34m\u001b[0m\u001b[0;34m\u001b[0m\u001b[0m\n\u001b[1;32m    198\u001b[0m \u001b[0;34m\u001b[0m\u001b[0m\n\u001b[0;32m--> 199\u001b[0;31m         \u001b[0mself\u001b[0m\u001b[0;34m.\u001b[0m\u001b[0m_fit_result\u001b[0m \u001b[0;34m=\u001b[0m \u001b[0mself\u001b[0m\u001b[0;34m.\u001b[0m\u001b[0m_fit_internal\u001b[0m\u001b[0;34m(\u001b[0m\u001b[0mX\u001b[0m\u001b[0;34m,\u001b[0m \u001b[0my\u001b[0m\u001b[0;34m)\u001b[0m\u001b[0;34m\u001b[0m\u001b[0;34m\u001b[0m\u001b[0m\n\u001b[0m\u001b[1;32m    200\u001b[0m         \u001b[0;32mreturn\u001b[0m \u001b[0mself\u001b[0m\u001b[0;34m\u001b[0m\u001b[0;34m\u001b[0m\u001b[0m\n\u001b[1;32m    201\u001b[0m \u001b[0;34m\u001b[0m\u001b[0m\n",
            "\u001b[0;32m/usr/local/lib/python3.10/dist-packages/qiskit_machine_learning/algorithms/classifiers/vqc.py\u001b[0m in \u001b[0;36m_fit_internal\u001b[0;34m(self, X, y)\u001b[0m\n\u001b[1;32m    157\u001b[0m             \u001b[0mTrained\u001b[0m \u001b[0mclassifier\u001b[0m\u001b[0;34m.\u001b[0m\u001b[0;34m\u001b[0m\u001b[0;34m\u001b[0m\u001b[0m\n\u001b[1;32m    158\u001b[0m         \"\"\"\n\u001b[0;32m--> 159\u001b[0;31m         \u001b[0mX\u001b[0m\u001b[0;34m,\u001b[0m \u001b[0my\u001b[0m \u001b[0;34m=\u001b[0m \u001b[0mself\u001b[0m\u001b[0;34m.\u001b[0m\u001b[0m_validate_input\u001b[0m\u001b[0;34m(\u001b[0m\u001b[0mX\u001b[0m\u001b[0;34m,\u001b[0m \u001b[0my\u001b[0m\u001b[0;34m)\u001b[0m\u001b[0;34m\u001b[0m\u001b[0;34m\u001b[0m\u001b[0m\n\u001b[0m\u001b[1;32m    160\u001b[0m         \u001b[0mnum_classes\u001b[0m \u001b[0;34m=\u001b[0m \u001b[0mself\u001b[0m\u001b[0;34m.\u001b[0m\u001b[0m_num_classes\u001b[0m\u001b[0;34m\u001b[0m\u001b[0;34m\u001b[0m\u001b[0m\n\u001b[1;32m    161\u001b[0m \u001b[0;34m\u001b[0m\u001b[0m\n",
            "\u001b[0;32m/usr/local/lib/python3.10/dist-packages/qiskit_machine_learning/algorithms/classifiers/neural_network_classifier.py\u001b[0m in \u001b[0;36m_validate_input\u001b[0;34m(self, X, y)\u001b[0m\n\u001b[1;32m    183\u001b[0m                 \u001b[0my\u001b[0m \u001b[0;34m=\u001b[0m \u001b[0mcast\u001b[0m\u001b[0;34m(\u001b[0m\u001b[0mspmatrix\u001b[0m\u001b[0;34m,\u001b[0m \u001b[0my\u001b[0m\u001b[0;34m)\u001b[0m\u001b[0;34m.\u001b[0m\u001b[0mtoarray\u001b[0m\u001b[0;34m(\u001b[0m\u001b[0;34m)\u001b[0m  \u001b[0;31m# cast is required by mypy\u001b[0m\u001b[0;34m\u001b[0m\u001b[0;34m\u001b[0m\u001b[0m\n\u001b[1;32m    184\u001b[0m \u001b[0;34m\u001b[0m\u001b[0m\n\u001b[0;32m--> 185\u001b[0;31m             \u001b[0;32mif\u001b[0m \u001b[0misinstance\u001b[0m\u001b[0;34m(\u001b[0m\u001b[0my\u001b[0m\u001b[0;34m[\u001b[0m\u001b[0;36m0\u001b[0m\u001b[0;34m]\u001b[0m\u001b[0;34m,\u001b[0m \u001b[0mstr\u001b[0m\u001b[0;34m)\u001b[0m\u001b[0;34m:\u001b[0m\u001b[0;34m\u001b[0m\u001b[0;34m\u001b[0m\u001b[0m\n\u001b[0m\u001b[1;32m    186\u001b[0m                 \u001b[0my\u001b[0m \u001b[0;34m=\u001b[0m \u001b[0mself\u001b[0m\u001b[0;34m.\u001b[0m\u001b[0m_encode_categorical_labels\u001b[0m\u001b[0;34m(\u001b[0m\u001b[0my\u001b[0m\u001b[0;34m)\u001b[0m\u001b[0;34m\u001b[0m\u001b[0;34m\u001b[0m\u001b[0m\n\u001b[1;32m    187\u001b[0m             \u001b[0;32melif\u001b[0m \u001b[0mself\u001b[0m\u001b[0;34m.\u001b[0m\u001b[0m_one_hot\u001b[0m \u001b[0;32mand\u001b[0m \u001b[0;32mnot\u001b[0m \u001b[0mself\u001b[0m\u001b[0;34m.\u001b[0m\u001b[0m_validate_one_hot_targets\u001b[0m\u001b[0;34m(\u001b[0m\u001b[0my\u001b[0m\u001b[0;34m,\u001b[0m \u001b[0mraise_on_failure\u001b[0m\u001b[0;34m=\u001b[0m\u001b[0;32mFalse\u001b[0m\u001b[0;34m)\u001b[0m\u001b[0;34m:\u001b[0m\u001b[0;34m\u001b[0m\u001b[0;34m\u001b[0m\u001b[0m\n",
            "\u001b[0;32m/usr/local/lib/python3.10/dist-packages/pandas/core/series.py\u001b[0m in \u001b[0;36m__getitem__\u001b[0;34m(self, key)\u001b[0m\n\u001b[1;32m   1005\u001b[0m \u001b[0;34m\u001b[0m\u001b[0m\n\u001b[1;32m   1006\u001b[0m         \u001b[0;32melif\u001b[0m \u001b[0mkey_is_scalar\u001b[0m\u001b[0;34m:\u001b[0m\u001b[0;34m\u001b[0m\u001b[0;34m\u001b[0m\u001b[0m\n\u001b[0;32m-> 1007\u001b[0;31m             \u001b[0;32mreturn\u001b[0m \u001b[0mself\u001b[0m\u001b[0;34m.\u001b[0m\u001b[0m_get_value\u001b[0m\u001b[0;34m(\u001b[0m\u001b[0mkey\u001b[0m\u001b[0;34m)\u001b[0m\u001b[0;34m\u001b[0m\u001b[0;34m\u001b[0m\u001b[0m\n\u001b[0m\u001b[1;32m   1008\u001b[0m \u001b[0;34m\u001b[0m\u001b[0m\n\u001b[1;32m   1009\u001b[0m         \u001b[0;32mif\u001b[0m \u001b[0mis_hashable\u001b[0m\u001b[0;34m(\u001b[0m\u001b[0mkey\u001b[0m\u001b[0;34m)\u001b[0m\u001b[0;34m:\u001b[0m\u001b[0;34m\u001b[0m\u001b[0;34m\u001b[0m\u001b[0m\n",
            "\u001b[0;32m/usr/local/lib/python3.10/dist-packages/pandas/core/series.py\u001b[0m in \u001b[0;36m_get_value\u001b[0;34m(self, label, takeable)\u001b[0m\n\u001b[1;32m   1114\u001b[0m \u001b[0;34m\u001b[0m\u001b[0m\n\u001b[1;32m   1115\u001b[0m         \u001b[0;31m# Similar to Index.get_value, but we do not fall back to positional\u001b[0m\u001b[0;34m\u001b[0m\u001b[0;34m\u001b[0m\u001b[0m\n\u001b[0;32m-> 1116\u001b[0;31m         \u001b[0mloc\u001b[0m \u001b[0;34m=\u001b[0m \u001b[0mself\u001b[0m\u001b[0;34m.\u001b[0m\u001b[0mindex\u001b[0m\u001b[0;34m.\u001b[0m\u001b[0mget_loc\u001b[0m\u001b[0;34m(\u001b[0m\u001b[0mlabel\u001b[0m\u001b[0;34m)\u001b[0m\u001b[0;34m\u001b[0m\u001b[0;34m\u001b[0m\u001b[0m\n\u001b[0m\u001b[1;32m   1117\u001b[0m \u001b[0;34m\u001b[0m\u001b[0m\n\u001b[1;32m   1118\u001b[0m         \u001b[0;32mif\u001b[0m \u001b[0mis_integer\u001b[0m\u001b[0;34m(\u001b[0m\u001b[0mloc\u001b[0m\u001b[0;34m)\u001b[0m\u001b[0;34m:\u001b[0m\u001b[0;34m\u001b[0m\u001b[0;34m\u001b[0m\u001b[0m\n",
            "\u001b[0;32m/usr/local/lib/python3.10/dist-packages/pandas/core/indexes/base.py\u001b[0m in \u001b[0;36mget_loc\u001b[0;34m(self, key)\u001b[0m\n\u001b[1;32m   3653\u001b[0m             \u001b[0;32mreturn\u001b[0m \u001b[0mself\u001b[0m\u001b[0;34m.\u001b[0m\u001b[0m_engine\u001b[0m\u001b[0;34m.\u001b[0m\u001b[0mget_loc\u001b[0m\u001b[0;34m(\u001b[0m\u001b[0mcasted_key\u001b[0m\u001b[0;34m)\u001b[0m\u001b[0;34m\u001b[0m\u001b[0;34m\u001b[0m\u001b[0m\n\u001b[1;32m   3654\u001b[0m         \u001b[0;32mexcept\u001b[0m \u001b[0mKeyError\u001b[0m \u001b[0;32mas\u001b[0m \u001b[0merr\u001b[0m\u001b[0;34m:\u001b[0m\u001b[0;34m\u001b[0m\u001b[0;34m\u001b[0m\u001b[0m\n\u001b[0;32m-> 3655\u001b[0;31m             \u001b[0;32mraise\u001b[0m \u001b[0mKeyError\u001b[0m\u001b[0;34m(\u001b[0m\u001b[0mkey\u001b[0m\u001b[0;34m)\u001b[0m \u001b[0;32mfrom\u001b[0m \u001b[0merr\u001b[0m\u001b[0;34m\u001b[0m\u001b[0;34m\u001b[0m\u001b[0m\n\u001b[0m\u001b[1;32m   3656\u001b[0m         \u001b[0;32mexcept\u001b[0m \u001b[0mTypeError\u001b[0m\u001b[0;34m:\u001b[0m\u001b[0;34m\u001b[0m\u001b[0;34m\u001b[0m\u001b[0m\n\u001b[1;32m   3657\u001b[0m             \u001b[0;31m# If we have a listlike key, _check_indexing_error will raise\u001b[0m\u001b[0;34m\u001b[0m\u001b[0;34m\u001b[0m\u001b[0m\n",
            "\u001b[0;31mKeyError\u001b[0m: 0"
          ]
        }
      ]
    },
    {
      "cell_type": "code",
      "source": [
        "train_score_q4 = vqc.score(train_features, train_labels)\n",
        "test_score_q4 = vqc.score(test_features, test_labels)\n",
        "\n",
        "print(f\"Quantum VQC on the training dataset: {train_score_q4:.2f}\")\n",
        "print(f\"Quantum VQC on the test dataset:     {test_score_q4:.2f}\")"
      ],
      "metadata": {
        "colab": {
          "base_uri": "https://localhost:8080/"
        },
        "id": "BX_NS49As3Oi",
        "outputId": "ffe6c732-5106-4602-92f7-202b11ad025c"
      },
      "execution_count": 102,
      "outputs": [
        {
          "output_type": "stream",
          "name": "stdout",
          "text": [
            "Quantum VQC on the training dataset: 0.60\n",
            "Quantum VQC on the test dataset:     0.70\n"
          ]
        }
      ]
    },
    {
      "cell_type": "code",
      "source": [
        "Quantum VQC on the training dataset: 0.61\n",
        "Quantum VQC on the test dataset:     0.65"
      ],
      "metadata": {
        "id": "hnXOZaz7s7G5"
      },
      "execution_count": null,
      "outputs": []
    },
    {
      "cell_type": "code",
      "source": [],
      "metadata": {
        "id": "1om-FrzHs7KF"
      },
      "execution_count": null,
      "outputs": []
    },
    {
      "cell_type": "code",
      "source": [
        "from qiskit.circuit import Parameter\n",
        "\n",
        "def count_parameters(ansatz):\n",
        "    \"\"\"Count the number of unique parameters in a QuantumCircuit.\"\"\"\n",
        "    parameters = set()\n",
        "    for param in ansatz.parameters:\n",
        "        if isinstance(param, Parameter):\n",
        "            parameters.add(str(param))\n",
        "    return len(parameters)\n",
        "\n",
        "# Example usage:\n",
        "\n",
        "# ansatz = EfficientSU2(num_qubits=3, reps=2)  # Example ansatz circuit\n",
        "num_parameters = count_parameters(ansatz)\n",
        "# shape = tuple([num_parameters] * 5)\n",
        "\n",
        "# Generate random parameters\n",
        "shape = (15, 15, 15, 15, 15)\n",
        "\n",
        "# Generate random parameters\n",
        "params_5d_array = [np.random.uniform(low=-np.pi, high=np.pi, size=num_parameters).tolist() for _ in range(5)]\n",
        "\n",
        "print(f\"Number of parameters in ansatz: {num_parameters}\")\n",
        "# params_0_list = np.random.uniform(low=-np.pi, high=np.pi, size=3)\n",
        "print(params_5d_array)\n",
        "# Intialize the lists to store the results from different runs\n",
        "cost_history_list = []\n",
        "res_list = []\n",
        "\n",
        "# # Retrieve the initial parameters\n",
        "# params_0_list = np.load(\"params_0_list.npy\")\n",
        "\n",
        "# params_0_list = np.random.uniform(low=-np.pi, high=np.pi, size=)\n",
        "\n",
        "for it, params_0 in enumerate(params_5d_array):\n",
        "\n",
        "    print('Iteration number: ', it)\n",
        "    # print(params_0)\n",
        "    # Initialize a callback dictionary\n",
        "    callback_dict = {\n",
        "        \"prev_vector\": None,\n",
        "        \"iters\": 0,\n",
        "        \"cost_history\": [],\n",
        "    }\n",
        "\n",
        "    # Minimize the cost function using scipy\n",
        "    res = minimize(\n",
        "        cost_func,\n",
        "        params_0,\n",
        "        args=(coefficients, labels, ansatz, obs, estimator, pm, callback_dict),\n",
        "        method=\"cobyla\", # Classical optimizer\n",
        "        options={'maxiter': 200}) # Maximum number of iterations\n",
        "\n",
        "    # Print the results after convergence\n",
        "    print(res)\n",
        "\n",
        "    # Save the results from different runs\n",
        "    res_list.append(res)\n",
        "    cost_history_list.append(callback_dict[\"cost_history\"])\n"
      ],
      "metadata": {
        "colab": {
          "base_uri": "https://localhost:8080/",
          "height": 510
        },
        "id": "u91jCxWpPgzH",
        "outputId": "3d8440d2-f9d3-44af-e6d4-517cd394d748"
      },
      "execution_count": null,
      "outputs": [
        {
          "output_type": "stream",
          "name": "stdout",
          "text": [
            "Number of parameters in ansatz: 15\n",
            "[[-3.014063980710116, 1.4933670189043031, 0.9926299429658005, 1.6661543906604726, -1.7793868233559378, 2.403533121207694, 2.1825066008663967, 3.135067636908974, -0.3079825832936378, 2.961351178238563, 3.1055772433670104, -1.4505156284629115, -2.8178138324212916, -1.1039448577419186, -2.8576493173219677], [-2.9552568115463806, 0.6319671431761331, -2.164876089734341, -2.9981697104124443, -0.7621831343397916, -2.452914654315363, 2.8573826318544793, -2.010434622614879, 0.1254240974925449, 2.1002640439726363, 1.4267181188385356, -1.037023835842834, 2.7666225114537584, 0.3136909429545729, 2.426615203268083], [-1.3149600412433762, -1.5475519081449225, 2.41533477213531, 1.6952068123011292, -1.7973266227453937, 2.9596902887989867, 0.19759229983819981, -0.1411679843054956, -0.09047759070651251, 0.05550486775504915, -0.044453852160131646, -0.2992512095090989, -1.5872460647108344, 2.916776639613137, -0.6917649390721521], [2.7530431561870694, -0.48816657281907894, 0.9740915203188054, 0.3842430489610287, 1.9698715124109665, 1.3695343982319486, -0.7493700585549545, 0.1797243041081762, 1.1731574187169134, -2.069637260325126, -2.210080226940429, 2.2834411078642347, -0.14599089570829626, -2.041960863576632, -0.7866736403886216], [0.2351933543910678, -1.8681961104548794, -1.2513674743013838, 2.0230969219438, 0.8481345821806987, -1.3053649267365168, 2.0437570568219794, 2.302957620482868, 0.4222597474481087, -2.897077132612929, 2.7312769402317514, 2.5230948949552072, -2.0611746670384306, 2.6054193422659644, 2.459430775505001]]\n",
            "Iteration number:  0\n"
          ]
        },
        {
          "output_type": "error",
          "ename": "ValueError",
          "evalue": "Length of ('x[0]', 'x[1]', 'x[2]', 'x[3]', 'x[4]', 'θ[0]', 'θ[1]', 'θ[2]', 'θ[3]', 'θ[4]', 'θ[5]', 'θ[6]', 'θ[7]', 'θ[8]', 'θ[9]', 'θ[10]', 'θ[11]', 'θ[12]', 'θ[13]', 'θ[14]') inconsistent with last dimension of [-3.01406398  1.49336702  0.99262994  1.66615439 -1.77938682  2.40353312\n  2.1825066   3.13506764 -0.30798258  2.96135118  3.10557724 -1.45051563\n -2.81781383 -1.10394486 -2.85764932]",
          "traceback": [
            "\u001b[0;31m---------------------------------------------------------------------------\u001b[0m",
            "\u001b[0;31mValueError\u001b[0m                                Traceback (most recent call last)",
            "\u001b[0;32m<ipython-input-37-fb11427587ff>\u001b[0m in \u001b[0;36m<cell line: 35>\u001b[0;34m()\u001b[0m\n\u001b[1;32m     45\u001b[0m \u001b[0;34m\u001b[0m\u001b[0m\n\u001b[1;32m     46\u001b[0m     \u001b[0;31m# Minimize the cost function using scipy\u001b[0m\u001b[0;34m\u001b[0m\u001b[0;34m\u001b[0m\u001b[0m\n\u001b[0;32m---> 47\u001b[0;31m     res = minimize(\n\u001b[0m\u001b[1;32m     48\u001b[0m         \u001b[0mcost_func\u001b[0m\u001b[0;34m,\u001b[0m\u001b[0;34m\u001b[0m\u001b[0;34m\u001b[0m\u001b[0m\n\u001b[1;32m     49\u001b[0m         \u001b[0mparams_0\u001b[0m\u001b[0;34m,\u001b[0m\u001b[0;34m\u001b[0m\u001b[0;34m\u001b[0m\u001b[0m\n",
            "\u001b[0;32m/usr/local/lib/python3.10/dist-packages/scipy/optimize/_minimize.py\u001b[0m in \u001b[0;36mminimize\u001b[0;34m(fun, x0, args, method, jac, hess, hessp, bounds, constraints, tol, callback, options)\u001b[0m\n\u001b[1;32m    714\u001b[0m                             **options)\n\u001b[1;32m    715\u001b[0m     \u001b[0;32melif\u001b[0m \u001b[0mmeth\u001b[0m \u001b[0;34m==\u001b[0m \u001b[0;34m'cobyla'\u001b[0m\u001b[0;34m:\u001b[0m\u001b[0;34m\u001b[0m\u001b[0;34m\u001b[0m\u001b[0m\n\u001b[0;32m--> 716\u001b[0;31m         res = _minimize_cobyla(fun, x0, args, constraints, callback=callback,\n\u001b[0m\u001b[1;32m    717\u001b[0m                                bounds=bounds, **options)\n\u001b[1;32m    718\u001b[0m     \u001b[0;32melif\u001b[0m \u001b[0mmeth\u001b[0m \u001b[0;34m==\u001b[0m \u001b[0;34m'slsqp'\u001b[0m\u001b[0;34m:\u001b[0m\u001b[0;34m\u001b[0m\u001b[0;34m\u001b[0m\u001b[0m\n",
            "\u001b[0;32m/usr/local/lib/python3.10/dist-packages/scipy/optimize/_cobyla_py.py\u001b[0m in \u001b[0;36mwrapper\u001b[0;34m(*args, **kwargs)\u001b[0m\n\u001b[1;32m     33\u001b[0m     \u001b[0;32mdef\u001b[0m \u001b[0mwrapper\u001b[0m\u001b[0;34m(\u001b[0m\u001b[0;34m*\u001b[0m\u001b[0margs\u001b[0m\u001b[0;34m,\u001b[0m \u001b[0;34m**\u001b[0m\u001b[0mkwargs\u001b[0m\u001b[0;34m)\u001b[0m\u001b[0;34m:\u001b[0m\u001b[0;34m\u001b[0m\u001b[0;34m\u001b[0m\u001b[0m\n\u001b[1;32m     34\u001b[0m         \u001b[0;32mwith\u001b[0m \u001b[0m_module_lock\u001b[0m\u001b[0;34m:\u001b[0m\u001b[0;34m\u001b[0m\u001b[0;34m\u001b[0m\u001b[0m\n\u001b[0;32m---> 35\u001b[0;31m             \u001b[0;32mreturn\u001b[0m \u001b[0mfunc\u001b[0m\u001b[0;34m(\u001b[0m\u001b[0;34m*\u001b[0m\u001b[0margs\u001b[0m\u001b[0;34m,\u001b[0m \u001b[0;34m**\u001b[0m\u001b[0mkwargs\u001b[0m\u001b[0;34m)\u001b[0m\u001b[0;34m\u001b[0m\u001b[0;34m\u001b[0m\u001b[0m\n\u001b[0m\u001b[1;32m     36\u001b[0m     \u001b[0;32mreturn\u001b[0m \u001b[0mwrapper\u001b[0m\u001b[0;34m\u001b[0m\u001b[0;34m\u001b[0m\u001b[0m\n\u001b[1;32m     37\u001b[0m \u001b[0;34m\u001b[0m\u001b[0m\n",
            "\u001b[0;32m/usr/local/lib/python3.10/dist-packages/scipy/optimize/_cobyla_py.py\u001b[0m in \u001b[0;36m_minimize_cobyla\u001b[0;34m(fun, x0, args, constraints, rhobeg, tol, maxiter, disp, catol, callback, bounds, **unknown_options)\u001b[0m\n\u001b[1;32m    276\u001b[0m         \u001b[0;32mreturn\u001b[0m \u001b[0;32mNone\u001b[0m\u001b[0;34m\u001b[0m\u001b[0;34m\u001b[0m\u001b[0m\n\u001b[1;32m    277\u001b[0m \u001b[0;34m\u001b[0m\u001b[0m\n\u001b[0;32m--> 278\u001b[0;31m     \u001b[0msf\u001b[0m \u001b[0;34m=\u001b[0m \u001b[0m_prepare_scalar_function\u001b[0m\u001b[0;34m(\u001b[0m\u001b[0mfun\u001b[0m\u001b[0;34m,\u001b[0m \u001b[0mx0\u001b[0m\u001b[0;34m,\u001b[0m \u001b[0margs\u001b[0m\u001b[0;34m=\u001b[0m\u001b[0margs\u001b[0m\u001b[0;34m,\u001b[0m \u001b[0mjac\u001b[0m\u001b[0;34m=\u001b[0m\u001b[0m_jac\u001b[0m\u001b[0;34m)\u001b[0m\u001b[0;34m\u001b[0m\u001b[0;34m\u001b[0m\u001b[0m\n\u001b[0m\u001b[1;32m    279\u001b[0m \u001b[0;34m\u001b[0m\u001b[0m\n\u001b[1;32m    280\u001b[0m     \u001b[0;32mdef\u001b[0m \u001b[0mcalcfc\u001b[0m\u001b[0;34m(\u001b[0m\u001b[0mx\u001b[0m\u001b[0;34m,\u001b[0m \u001b[0mcon\u001b[0m\u001b[0;34m)\u001b[0m\u001b[0;34m:\u001b[0m\u001b[0;34m\u001b[0m\u001b[0;34m\u001b[0m\u001b[0m\n",
            "\u001b[0;32m/usr/local/lib/python3.10/dist-packages/scipy/optimize/_optimize.py\u001b[0m in \u001b[0;36m_prepare_scalar_function\u001b[0;34m(fun, x0, jac, args, bounds, epsilon, finite_diff_rel_step, hess)\u001b[0m\n\u001b[1;32m    381\u001b[0m     \u001b[0;31m# ScalarFunction caches. Reuse of fun(x) during grad\u001b[0m\u001b[0;34m\u001b[0m\u001b[0;34m\u001b[0m\u001b[0m\n\u001b[1;32m    382\u001b[0m     \u001b[0;31m# calculation reduces overall function evaluations.\u001b[0m\u001b[0;34m\u001b[0m\u001b[0;34m\u001b[0m\u001b[0m\n\u001b[0;32m--> 383\u001b[0;31m     sf = ScalarFunction(fun, x0, args, grad, hess,\n\u001b[0m\u001b[1;32m    384\u001b[0m                         finite_diff_rel_step, bounds, epsilon=epsilon)\n\u001b[1;32m    385\u001b[0m \u001b[0;34m\u001b[0m\u001b[0m\n",
            "\u001b[0;32m/usr/local/lib/python3.10/dist-packages/scipy/optimize/_differentiable_functions.py\u001b[0m in \u001b[0;36m__init__\u001b[0;34m(self, fun, x0, args, grad, hess, finite_diff_rel_step, finite_diff_bounds, epsilon)\u001b[0m\n\u001b[1;32m    156\u001b[0m \u001b[0;34m\u001b[0m\u001b[0m\n\u001b[1;32m    157\u001b[0m         \u001b[0mself\u001b[0m\u001b[0;34m.\u001b[0m\u001b[0m_update_fun_impl\u001b[0m \u001b[0;34m=\u001b[0m \u001b[0mupdate_fun\u001b[0m\u001b[0;34m\u001b[0m\u001b[0;34m\u001b[0m\u001b[0m\n\u001b[0;32m--> 158\u001b[0;31m         \u001b[0mself\u001b[0m\u001b[0;34m.\u001b[0m\u001b[0m_update_fun\u001b[0m\u001b[0;34m(\u001b[0m\u001b[0;34m)\u001b[0m\u001b[0;34m\u001b[0m\u001b[0;34m\u001b[0m\u001b[0m\n\u001b[0m\u001b[1;32m    159\u001b[0m \u001b[0;34m\u001b[0m\u001b[0m\n\u001b[1;32m    160\u001b[0m         \u001b[0;31m# Gradient evaluation\u001b[0m\u001b[0;34m\u001b[0m\u001b[0;34m\u001b[0m\u001b[0m\n",
            "\u001b[0;32m/usr/local/lib/python3.10/dist-packages/scipy/optimize/_differentiable_functions.py\u001b[0m in \u001b[0;36m_update_fun\u001b[0;34m(self)\u001b[0m\n\u001b[1;32m    249\u001b[0m     \u001b[0;32mdef\u001b[0m \u001b[0m_update_fun\u001b[0m\u001b[0;34m(\u001b[0m\u001b[0mself\u001b[0m\u001b[0;34m)\u001b[0m\u001b[0;34m:\u001b[0m\u001b[0;34m\u001b[0m\u001b[0;34m\u001b[0m\u001b[0m\n\u001b[1;32m    250\u001b[0m         \u001b[0;32mif\u001b[0m \u001b[0;32mnot\u001b[0m \u001b[0mself\u001b[0m\u001b[0;34m.\u001b[0m\u001b[0mf_updated\u001b[0m\u001b[0;34m:\u001b[0m\u001b[0;34m\u001b[0m\u001b[0;34m\u001b[0m\u001b[0m\n\u001b[0;32m--> 251\u001b[0;31m             \u001b[0mself\u001b[0m\u001b[0;34m.\u001b[0m\u001b[0m_update_fun_impl\u001b[0m\u001b[0;34m(\u001b[0m\u001b[0;34m)\u001b[0m\u001b[0;34m\u001b[0m\u001b[0;34m\u001b[0m\u001b[0m\n\u001b[0m\u001b[1;32m    252\u001b[0m             \u001b[0mself\u001b[0m\u001b[0;34m.\u001b[0m\u001b[0mf_updated\u001b[0m \u001b[0;34m=\u001b[0m \u001b[0;32mTrue\u001b[0m\u001b[0;34m\u001b[0m\u001b[0;34m\u001b[0m\u001b[0m\n\u001b[1;32m    253\u001b[0m \u001b[0;34m\u001b[0m\u001b[0m\n",
            "\u001b[0;32m/usr/local/lib/python3.10/dist-packages/scipy/optimize/_differentiable_functions.py\u001b[0m in \u001b[0;36mupdate_fun\u001b[0;34m()\u001b[0m\n\u001b[1;32m    153\u001b[0m \u001b[0;34m\u001b[0m\u001b[0m\n\u001b[1;32m    154\u001b[0m         \u001b[0;32mdef\u001b[0m \u001b[0mupdate_fun\u001b[0m\u001b[0;34m(\u001b[0m\u001b[0;34m)\u001b[0m\u001b[0;34m:\u001b[0m\u001b[0;34m\u001b[0m\u001b[0;34m\u001b[0m\u001b[0m\n\u001b[0;32m--> 155\u001b[0;31m             \u001b[0mself\u001b[0m\u001b[0;34m.\u001b[0m\u001b[0mf\u001b[0m \u001b[0;34m=\u001b[0m \u001b[0mfun_wrapped\u001b[0m\u001b[0;34m(\u001b[0m\u001b[0mself\u001b[0m\u001b[0;34m.\u001b[0m\u001b[0mx\u001b[0m\u001b[0;34m)\u001b[0m\u001b[0;34m\u001b[0m\u001b[0;34m\u001b[0m\u001b[0m\n\u001b[0m\u001b[1;32m    156\u001b[0m \u001b[0;34m\u001b[0m\u001b[0m\n\u001b[1;32m    157\u001b[0m         \u001b[0mself\u001b[0m\u001b[0;34m.\u001b[0m\u001b[0m_update_fun_impl\u001b[0m \u001b[0;34m=\u001b[0m \u001b[0mupdate_fun\u001b[0m\u001b[0;34m\u001b[0m\u001b[0;34m\u001b[0m\u001b[0m\n",
            "\u001b[0;32m/usr/local/lib/python3.10/dist-packages/scipy/optimize/_differentiable_functions.py\u001b[0m in \u001b[0;36mfun_wrapped\u001b[0;34m(x)\u001b[0m\n\u001b[1;32m    135\u001b[0m             \u001b[0;31m# Overwriting results in undefined behaviour because\u001b[0m\u001b[0;34m\u001b[0m\u001b[0;34m\u001b[0m\u001b[0m\n\u001b[1;32m    136\u001b[0m             \u001b[0;31m# fun(self.x) will change self.x, with the two no longer linked.\u001b[0m\u001b[0;34m\u001b[0m\u001b[0;34m\u001b[0m\u001b[0m\n\u001b[0;32m--> 137\u001b[0;31m             \u001b[0mfx\u001b[0m \u001b[0;34m=\u001b[0m \u001b[0mfun\u001b[0m\u001b[0;34m(\u001b[0m\u001b[0mnp\u001b[0m\u001b[0;34m.\u001b[0m\u001b[0mcopy\u001b[0m\u001b[0;34m(\u001b[0m\u001b[0mx\u001b[0m\u001b[0;34m)\u001b[0m\u001b[0;34m,\u001b[0m \u001b[0;34m*\u001b[0m\u001b[0margs\u001b[0m\u001b[0;34m)\u001b[0m\u001b[0;34m\u001b[0m\u001b[0;34m\u001b[0m\u001b[0m\n\u001b[0m\u001b[1;32m    138\u001b[0m             \u001b[0;31m# Make sure the function returns a true scalar\u001b[0m\u001b[0;34m\u001b[0m\u001b[0;34m\u001b[0m\u001b[0m\n\u001b[1;32m    139\u001b[0m             \u001b[0;32mif\u001b[0m \u001b[0;32mnot\u001b[0m \u001b[0mnp\u001b[0m\u001b[0;34m.\u001b[0m\u001b[0misscalar\u001b[0m\u001b[0;34m(\u001b[0m\u001b[0mfx\u001b[0m\u001b[0;34m)\u001b[0m\u001b[0;34m:\u001b[0m\u001b[0;34m\u001b[0m\u001b[0;34m\u001b[0m\u001b[0m\n",
            "\u001b[0;32m<ipython-input-24-0cde28a192ca>\u001b[0m in \u001b[0;36mcost_func\u001b[0;34m(params, list_coefficients, list_labels, ansatz, obs, estimator, pm, callback_dict)\u001b[0m\n\u001b[1;32m     32\u001b[0m         \u001b[0;31m# Run estimator\u001b[0m\u001b[0;34m\u001b[0m\u001b[0;34m\u001b[0m\u001b[0m\n\u001b[1;32m     33\u001b[0m         \u001b[0mpub\u001b[0m \u001b[0;34m=\u001b[0m \u001b[0;34m(\u001b[0m\u001b[0mtranspiled_classifier\u001b[0m\u001b[0;34m,\u001b[0m \u001b[0mtranspiled_obs\u001b[0m\u001b[0;34m,\u001b[0m \u001b[0mparams\u001b[0m\u001b[0;34m)\u001b[0m\u001b[0;34m\u001b[0m\u001b[0;34m\u001b[0m\u001b[0m\n\u001b[0;32m---> 34\u001b[0;31m         \u001b[0mjob\u001b[0m \u001b[0;34m=\u001b[0m \u001b[0mestimator\u001b[0m\u001b[0;34m.\u001b[0m\u001b[0mrun\u001b[0m\u001b[0;34m(\u001b[0m\u001b[0;34m[\u001b[0m\u001b[0mpub\u001b[0m\u001b[0;34m]\u001b[0m\u001b[0;34m)\u001b[0m\u001b[0;34m\u001b[0m\u001b[0;34m\u001b[0m\u001b[0m\n\u001b[0m\u001b[1;32m     35\u001b[0m         \u001b[0;31m# Get result\u001b[0m\u001b[0;34m\u001b[0m\u001b[0;34m\u001b[0m\u001b[0m\n\u001b[1;32m     36\u001b[0m         \u001b[0mresult\u001b[0m \u001b[0;34m=\u001b[0m \u001b[0mjob\u001b[0m\u001b[0;34m.\u001b[0m\u001b[0mresult\u001b[0m\u001b[0;34m(\u001b[0m\u001b[0;34m)\u001b[0m\u001b[0;34m[\u001b[0m\u001b[0;36m0\u001b[0m\u001b[0;34m]\u001b[0m\u001b[0;34m.\u001b[0m\u001b[0mdata\u001b[0m\u001b[0;34m.\u001b[0m\u001b[0mevs\u001b[0m\u001b[0;34m\u001b[0m\u001b[0;34m\u001b[0m\u001b[0m\n",
            "\u001b[0;32m/usr/local/lib/python3.10/dist-packages/qiskit/primitives/statevector_estimator.py\u001b[0m in \u001b[0;36mrun\u001b[0;34m(self, pubs, precision)\u001b[0m\n\u001b[1;32m    130\u001b[0m         \u001b[0;32mif\u001b[0m \u001b[0mprecision\u001b[0m \u001b[0;32mis\u001b[0m \u001b[0;32mNone\u001b[0m\u001b[0;34m:\u001b[0m\u001b[0;34m\u001b[0m\u001b[0;34m\u001b[0m\u001b[0m\n\u001b[1;32m    131\u001b[0m             \u001b[0mprecision\u001b[0m \u001b[0;34m=\u001b[0m \u001b[0mself\u001b[0m\u001b[0;34m.\u001b[0m\u001b[0m_default_precision\u001b[0m\u001b[0;34m\u001b[0m\u001b[0;34m\u001b[0m\u001b[0m\n\u001b[0;32m--> 132\u001b[0;31m         \u001b[0mcoerced_pubs\u001b[0m \u001b[0;34m=\u001b[0m \u001b[0;34m[\u001b[0m\u001b[0mEstimatorPub\u001b[0m\u001b[0;34m.\u001b[0m\u001b[0mcoerce\u001b[0m\u001b[0;34m(\u001b[0m\u001b[0mpub\u001b[0m\u001b[0;34m,\u001b[0m \u001b[0mprecision\u001b[0m\u001b[0;34m)\u001b[0m \u001b[0;32mfor\u001b[0m \u001b[0mpub\u001b[0m \u001b[0;32min\u001b[0m \u001b[0mpubs\u001b[0m\u001b[0;34m]\u001b[0m\u001b[0;34m\u001b[0m\u001b[0;34m\u001b[0m\u001b[0m\n\u001b[0m\u001b[1;32m    133\u001b[0m \u001b[0;34m\u001b[0m\u001b[0m\n\u001b[1;32m    134\u001b[0m         \u001b[0mjob\u001b[0m \u001b[0;34m=\u001b[0m \u001b[0mPrimitiveJob\u001b[0m\u001b[0;34m(\u001b[0m\u001b[0mself\u001b[0m\u001b[0;34m.\u001b[0m\u001b[0m_run\u001b[0m\u001b[0;34m,\u001b[0m \u001b[0mcoerced_pubs\u001b[0m\u001b[0;34m)\u001b[0m\u001b[0;34m\u001b[0m\u001b[0;34m\u001b[0m\u001b[0m\n",
            "\u001b[0;32m/usr/local/lib/python3.10/dist-packages/qiskit/primitives/statevector_estimator.py\u001b[0m in \u001b[0;36m<listcomp>\u001b[0;34m(.0)\u001b[0m\n\u001b[1;32m    130\u001b[0m         \u001b[0;32mif\u001b[0m \u001b[0mprecision\u001b[0m \u001b[0;32mis\u001b[0m \u001b[0;32mNone\u001b[0m\u001b[0;34m:\u001b[0m\u001b[0;34m\u001b[0m\u001b[0;34m\u001b[0m\u001b[0m\n\u001b[1;32m    131\u001b[0m             \u001b[0mprecision\u001b[0m \u001b[0;34m=\u001b[0m \u001b[0mself\u001b[0m\u001b[0;34m.\u001b[0m\u001b[0m_default_precision\u001b[0m\u001b[0;34m\u001b[0m\u001b[0;34m\u001b[0m\u001b[0m\n\u001b[0;32m--> 132\u001b[0;31m         \u001b[0mcoerced_pubs\u001b[0m \u001b[0;34m=\u001b[0m \u001b[0;34m[\u001b[0m\u001b[0mEstimatorPub\u001b[0m\u001b[0;34m.\u001b[0m\u001b[0mcoerce\u001b[0m\u001b[0;34m(\u001b[0m\u001b[0mpub\u001b[0m\u001b[0;34m,\u001b[0m \u001b[0mprecision\u001b[0m\u001b[0;34m)\u001b[0m \u001b[0;32mfor\u001b[0m \u001b[0mpub\u001b[0m \u001b[0;32min\u001b[0m \u001b[0mpubs\u001b[0m\u001b[0;34m]\u001b[0m\u001b[0;34m\u001b[0m\u001b[0;34m\u001b[0m\u001b[0m\n\u001b[0m\u001b[1;32m    133\u001b[0m \u001b[0;34m\u001b[0m\u001b[0m\n\u001b[1;32m    134\u001b[0m         \u001b[0mjob\u001b[0m \u001b[0;34m=\u001b[0m \u001b[0mPrimitiveJob\u001b[0m\u001b[0;34m(\u001b[0m\u001b[0mself\u001b[0m\u001b[0;34m.\u001b[0m\u001b[0m_run\u001b[0m\u001b[0;34m,\u001b[0m \u001b[0mcoerced_pubs\u001b[0m\u001b[0;34m)\u001b[0m\u001b[0;34m\u001b[0m\u001b[0;34m\u001b[0m\u001b[0m\n",
            "\u001b[0;32m/usr/local/lib/python3.10/dist-packages/qiskit/primitives/containers/estimator_pub.py\u001b[0m in \u001b[0;36mcoerce\u001b[0;34m(cls, pub, precision)\u001b[0m\n\u001b[1;32m    153\u001b[0m             \u001b[0;32mif\u001b[0m \u001b[0;32mnot\u001b[0m \u001b[0misinstance\u001b[0m\u001b[0;34m(\u001b[0m\u001b[0mvalues\u001b[0m\u001b[0;34m,\u001b[0m \u001b[0;34m(\u001b[0m\u001b[0mBindingsArray\u001b[0m\u001b[0;34m,\u001b[0m \u001b[0mMapping\u001b[0m\u001b[0;34m)\u001b[0m\u001b[0;34m)\u001b[0m\u001b[0;34m:\u001b[0m\u001b[0;34m\u001b[0m\u001b[0;34m\u001b[0m\u001b[0m\n\u001b[1;32m    154\u001b[0m                 \u001b[0mvalues\u001b[0m \u001b[0;34m=\u001b[0m \u001b[0;34m{\u001b[0m\u001b[0mtuple\u001b[0m\u001b[0;34m(\u001b[0m\u001b[0mcircuit\u001b[0m\u001b[0;34m.\u001b[0m\u001b[0mparameters\u001b[0m\u001b[0;34m)\u001b[0m\u001b[0;34m:\u001b[0m \u001b[0mvalues\u001b[0m\u001b[0;34m}\u001b[0m\u001b[0;34m\u001b[0m\u001b[0;34m\u001b[0m\u001b[0m\n\u001b[0;32m--> 155\u001b[0;31m             \u001b[0mparameter_values\u001b[0m \u001b[0;34m=\u001b[0m \u001b[0mBindingsArray\u001b[0m\u001b[0;34m.\u001b[0m\u001b[0mcoerce\u001b[0m\u001b[0;34m(\u001b[0m\u001b[0mvalues\u001b[0m\u001b[0;34m)\u001b[0m\u001b[0;34m\u001b[0m\u001b[0;34m\u001b[0m\u001b[0m\n\u001b[0m\u001b[1;32m    156\u001b[0m         \u001b[0;32melse\u001b[0m\u001b[0;34m:\u001b[0m\u001b[0;34m\u001b[0m\u001b[0;34m\u001b[0m\u001b[0m\n\u001b[1;32m    157\u001b[0m             \u001b[0mparameter_values\u001b[0m \u001b[0;34m=\u001b[0m \u001b[0;32mNone\u001b[0m\u001b[0;34m\u001b[0m\u001b[0;34m\u001b[0m\u001b[0m\n",
            "\u001b[0;32m/usr/local/lib/python3.10/dist-packages/qiskit/primitives/containers/bindings_array.py\u001b[0m in \u001b[0;36mcoerce\u001b[0;34m(cls, bindings_array)\u001b[0m\n\u001b[1;32m    298\u001b[0m             \u001b[0mbindings_array\u001b[0m \u001b[0;34m=\u001b[0m \u001b[0mcls\u001b[0m\u001b[0;34m(\u001b[0m\u001b[0;34m)\u001b[0m\u001b[0;34m\u001b[0m\u001b[0;34m\u001b[0m\u001b[0m\n\u001b[1;32m    299\u001b[0m         \u001b[0;32melif\u001b[0m \u001b[0misinstance\u001b[0m\u001b[0;34m(\u001b[0m\u001b[0mbindings_array\u001b[0m\u001b[0;34m,\u001b[0m \u001b[0m_Mapping\u001b[0m\u001b[0;34m)\u001b[0m\u001b[0;34m:\u001b[0m\u001b[0;34m\u001b[0m\u001b[0;34m\u001b[0m\u001b[0m\n\u001b[0;32m--> 300\u001b[0;31m             \u001b[0mbindings_array\u001b[0m \u001b[0;34m=\u001b[0m \u001b[0mcls\u001b[0m\u001b[0;34m(\u001b[0m\u001b[0mdata\u001b[0m\u001b[0;34m=\u001b[0m\u001b[0mbindings_array\u001b[0m\u001b[0;34m)\u001b[0m\u001b[0;34m\u001b[0m\u001b[0;34m\u001b[0m\u001b[0m\n\u001b[0m\u001b[1;32m    301\u001b[0m         \u001b[0;32melif\u001b[0m \u001b[0misinstance\u001b[0m\u001b[0;34m(\u001b[0m\u001b[0mbindings_array\u001b[0m\u001b[0;34m,\u001b[0m \u001b[0mBindingsArray\u001b[0m\u001b[0;34m)\u001b[0m\u001b[0;34m:\u001b[0m\u001b[0;34m\u001b[0m\u001b[0;34m\u001b[0m\u001b[0m\n\u001b[1;32m    302\u001b[0m             \u001b[0;32mreturn\u001b[0m \u001b[0mbindings_array\u001b[0m\u001b[0;34m\u001b[0m\u001b[0;34m\u001b[0m\u001b[0m\n",
            "\u001b[0;32m/usr/local/lib/python3.10/dist-packages/qiskit/primitives/containers/bindings_array.py\u001b[0m in \u001b[0;36m__init__\u001b[0;34m(self, data, shape)\u001b[0m\n\u001b[1;32m    128\u001b[0m         \u001b[0mself\u001b[0m\u001b[0;34m.\u001b[0m\u001b[0m_num_parameters\u001b[0m \u001b[0;34m=\u001b[0m \u001b[0;32mNone\u001b[0m\u001b[0;34m\u001b[0m\u001b[0;34m\u001b[0m\u001b[0m\n\u001b[1;32m    129\u001b[0m \u001b[0;34m\u001b[0m\u001b[0m\n\u001b[0;32m--> 130\u001b[0;31m         \u001b[0mself\u001b[0m\u001b[0;34m.\u001b[0m\u001b[0mvalidate\u001b[0m\u001b[0;34m(\u001b[0m\u001b[0;34m)\u001b[0m\u001b[0;34m\u001b[0m\u001b[0;34m\u001b[0m\u001b[0m\n\u001b[0m\u001b[1;32m    131\u001b[0m \u001b[0;34m\u001b[0m\u001b[0m\n\u001b[1;32m    132\u001b[0m     \u001b[0;32mdef\u001b[0m \u001b[0m__getitem__\u001b[0m\u001b[0;34m(\u001b[0m\u001b[0mself\u001b[0m\u001b[0;34m,\u001b[0m \u001b[0margs\u001b[0m\u001b[0;34m)\u001b[0m \u001b[0;34m->\u001b[0m \u001b[0mBindingsArray\u001b[0m\u001b[0;34m:\u001b[0m\u001b[0;34m\u001b[0m\u001b[0;34m\u001b[0m\u001b[0m\n",
            "\u001b[0;32m/usr/local/lib/python3.10/dist-packages/qiskit/primitives/containers/bindings_array.py\u001b[0m in \u001b[0;36mvalidate\u001b[0;34m(self)\u001b[0m\n\u001b[1;32m    310\u001b[0m             \u001b[0mval\u001b[0m \u001b[0;34m=\u001b[0m \u001b[0mself\u001b[0m\u001b[0;34m.\u001b[0m\u001b[0m_data\u001b[0m\u001b[0;34m[\u001b[0m\u001b[0mparameters\u001b[0m\u001b[0;34m]\u001b[0m \u001b[0;34m=\u001b[0m \u001b[0m_standardize_shape\u001b[0m\u001b[0;34m(\u001b[0m\u001b[0mval\u001b[0m\u001b[0;34m,\u001b[0m \u001b[0mself\u001b[0m\u001b[0;34m.\u001b[0m\u001b[0m_shape\u001b[0m\u001b[0;34m)\u001b[0m\u001b[0;34m\u001b[0m\u001b[0;34m\u001b[0m\u001b[0m\n\u001b[1;32m    311\u001b[0m             \u001b[0;32mif\u001b[0m \u001b[0mlen\u001b[0m\u001b[0;34m(\u001b[0m\u001b[0mparameters\u001b[0m\u001b[0;34m)\u001b[0m \u001b[0;34m!=\u001b[0m \u001b[0mval\u001b[0m\u001b[0;34m.\u001b[0m\u001b[0mshape\u001b[0m\u001b[0;34m[\u001b[0m\u001b[0;34m-\u001b[0m\u001b[0;36m1\u001b[0m\u001b[0;34m]\u001b[0m\u001b[0;34m:\u001b[0m\u001b[0;34m\u001b[0m\u001b[0;34m\u001b[0m\u001b[0m\n\u001b[0;32m--> 312\u001b[0;31m                 raise ValueError(\n\u001b[0m\u001b[1;32m    313\u001b[0m                     \u001b[0;34mf\"Length of {parameters} inconsistent with last dimension of {val}\"\u001b[0m\u001b[0;34m\u001b[0m\u001b[0;34m\u001b[0m\u001b[0m\n\u001b[1;32m    314\u001b[0m                 )\n",
            "\u001b[0;31mValueError\u001b[0m: Length of ('x[0]', 'x[1]', 'x[2]', 'x[3]', 'x[4]', 'θ[0]', 'θ[1]', 'θ[2]', 'θ[3]', 'θ[4]', 'θ[5]', 'θ[6]', 'θ[7]', 'θ[8]', 'θ[9]', 'θ[10]', 'θ[11]', 'θ[12]', 'θ[13]', 'θ[14]') inconsistent with last dimension of [-3.01406398  1.49336702  0.99262994  1.66615439 -1.77938682  2.40353312\n  2.1825066   3.13506764 -0.30798258  2.96135118  3.10557724 -1.45051563\n -2.81781383 -1.10394486 -2.85764932]"
          ]
        }
      ]
    },
    {
      "cell_type": "code",
      "source": [
        "import time\n",
        "from qiskit_machine_learning.algorithms.classifiers import VQC\n",
        "optimizer = COBYLA(maxiter=10)\n",
        "vqc = VQC(\n",
        "    sampler=sampler,\n",
        "    # estimator=estimator,\n",
        "    feature_map=feature_map,\n",
        "    ansatz=ansatz,\n",
        "    optimizer=optimizer,\n",
        "    callback=callback_graph,\n",
        ")\n",
        "\n",
        "# Estimator(session=session)\n",
        "#     cost_func = lambda params: estimator.run([(isa_circuit, isa_observables, [params])]).result()[0].data.evs[0]\n",
        "#     result = optimizer.minimize(cost_func, x0=init_point)    session.close()\n",
        "# end_time = time.time()\n",
        "\n",
        "# clear objective value history\n",
        "objective_func_vals = []\n",
        "\n",
        "start = time.time()\n",
        "vqc.fit(train_features, train_labels)\n",
        "elapsed = time.time() - start\n",
        "\n",
        "print(f\"Training time: {round(elapsed)} seconds\")"
      ],
      "metadata": {
        "id": "sMYeWBnFJta8",
        "colab": {
          "base_uri": "https://localhost:8080/",
          "height": 580
        },
        "outputId": "165349e5-8cbe-4f0e-eff2-d878a2f5abd2"
      },
      "execution_count": null,
      "outputs": [
        {
          "output_type": "display_data",
          "data": {
            "text/plain": [
              "<Figure size 1200x600 with 1 Axes>"
            ],
            "image/png": "[encoded data removed]"
          },
          "metadata": {}
        },
        {
          "output_type": "stream",
          "name": "stdout",
          "text": [
            "Training time: 41 seconds\n"
          ]
        }
      ]
    },
    {
      "cell_type": "code",
      "source": [
        "train_score_q4 = vqc.score(train_features, train_labels)\n",
        "test_score_q4 = vqc.score(test_features, test_labels)\n",
        "\n",
        "print(f\"Quantum VQC on the training dataset: {train_score_q4:.2f}\")\n",
        "print(f\"Quantum VQC on the test dataset:     {test_score_q4:.2f}\")"
      ],
      "metadata": {
        "colab": {
          "base_uri": "https://localhost:8080/"
        },
        "id": "7aWYbtFdPhG4",
        "outputId": "37a0e68b-ee91-4495-d12c-54b4999763e2"
      },
      "execution_count": null,
      "outputs": [
        {
          "output_type": "stream",
          "name": "stdout",
          "text": [
            "Quantum VQC on the training dataset: 0.58\n",
            "Quantum VQC on the test dataset:     0.56\n"
          ]
        }
      ]
    },
    {
      "cell_type": "code",
      "source": [
        "from sklearn.model_selection import train_test_split\n",
        "from sklearn.linear_model import LogisticRegression\n",
        "from sklearn.metrics import accuracy_score\n",
        "\n",
        "# Assuming 'features' and 'labels' are your data arrays or DataFrames\n",
        "# Split the data into training and testing sets\n",
        "# train_features, test_features, train_labels, test_labels = train_test_split(\n",
        "#     features, labels, train_size=0.8, random_state=algorithm_globals.random_seed\n",
        "# )\n",
        "\n",
        "# Initialize the classifier (Logistic Regression in this example)\n",
        "classifier = LogisticRegression()\n",
        "\n",
        "# Train the classifier on the training data\n",
        "classifier.fit(train_features, train_labels)\n",
        "\n",
        "# Predict on both training and testing data\n",
        "train_predictions = classifier.predict(train_features)\n",
        "test_predictions = classifier.predict(test_features)\n",
        "\n",
        "# Calculate accuracy for both training and testing sets\n",
        "train_accuracy = accuracy_score(train_labels, train_predictions)\n",
        "test_accuracy = accuracy_score(test_labels, test_predictions)\n",
        "\n",
        "print(f\"Training Accuracy: {train_accuracy}\")\n",
        "print(f\"Testing Accuracy: {test_accuracy}\")\n",
        "\n",
        "# You can add more evaluation metrics as needed\n"
      ],
      "metadata": {
        "id": "yghoCGs5KWn5",
        "colab": {
          "base_uri": "https://localhost:8080/"
        },
        "outputId": "3c1eb5e7-0831-4818-d437-3e7bc70fea2e"
      },
      "execution_count": 37,
      "outputs": [
        {
          "output_type": "stream",
          "name": "stdout",
          "text": [
            "Training Accuracy: 0.7625\n",
            "Testing Accuracy: 0.55\n"
          ]
        }
      ]
    },
    {
      "cell_type": "code",
      "source": [],
      "metadata": {
        "id": "-NEHRpDpKWqH"
      },
      "execution_count": null,
      "outputs": []
    },
    {
      "cell_type": "code",
      "source": [],
      "metadata": {
        "id": "xZt3HVx4KWsl"
      },
      "execution_count": null,
      "outputs": []
    },
    {
      "cell_type": "code",
      "source": [
        "# # from qiskit_machine_learning.datasets import ad_hoc_data\n",
        "\n",
        "# # Considering Two class problem Orange vs Blue ball and 2D input feature dataset\n",
        "# feature_dim = 2\n",
        "\n",
        "# # Splliting data to Train and Test - Train size 20, Test size 10\n",
        "# train_data, train_labels, test_data, test_labels = ad_hoc_data(\n",
        "#     training_size=20,\n",
        "#     test_size=10,\n",
        "#     n=feature_dim,\n",
        "#     gap=0.3,\n",
        "#     plot_data=True\n",
        "# )"
      ],
      "metadata": {
        "id": "DAIWIa3yJPzy"
      },
      "execution_count": null,
      "outputs": []
    },
    {
      "cell_type": "code",
      "source": [
        "from qiskit_machine_learning.algorithms.classifiers import VQC\n",
        "from qiskit_algorithms.optimizers import COBYLA\n",
        "import qiskit_machine_learning as qkml\n",
        "\n",
        "# Define your optimizer (e.g., COBYLA with maxiter=10)\n",
        "optimizer = COBYLA(maxiter=10)\n",
        "\n",
        "# Initialize VQC with required parameters\n",
        "vqc = VQC(\n",
        "    optimizer=optimizer,\n",
        "    feature_map=feature_map,\n",
        "    ansatz=ansatz,\n",
        "    callback=callback_graph  # Optional callback function\n",
        ")\n",
        "\n",
        "# Save the Qiskit Runtime program\n",
        "program_id = qkml.runtime.save(vqc)\n",
        "print(f\"Program ID: {program_id}\")\n"
      ],
      "metadata": {
        "id": "g0FqwNeVJP13",
        "colab": {
          "base_uri": "https://localhost:8080/",
          "height": 198
        },
        "outputId": "5fc1ecc0-0c45-4792-ee0d-10ade0890d1d"
      },
      "execution_count": null,
      "outputs": [
        {
          "output_type": "error",
          "ename": "AttributeError",
          "evalue": "module 'qiskit_machine_learning' has no attribute 'runtime'",
          "traceback": [
            "\u001b[0;31m---------------------------------------------------------------------------\u001b[0m",
            "\u001b[0;31mAttributeError\u001b[0m                            Traceback (most recent call last)",
            "\u001b[0;32m<ipython-input-362-1cdd8b191469>\u001b[0m in \u001b[0;36m<cell line: 17>\u001b[0;34m()\u001b[0m\n\u001b[1;32m     15\u001b[0m \u001b[0;34m\u001b[0m\u001b[0m\n\u001b[1;32m     16\u001b[0m \u001b[0;31m# Save the Qiskit Runtime program\u001b[0m\u001b[0;34m\u001b[0m\u001b[0;34m\u001b[0m\u001b[0m\n\u001b[0;32m---> 17\u001b[0;31m \u001b[0mprogram_id\u001b[0m \u001b[0;34m=\u001b[0m \u001b[0mqkml\u001b[0m\u001b[0;34m.\u001b[0m\u001b[0mruntime\u001b[0m\u001b[0;34m.\u001b[0m\u001b[0msave\u001b[0m\u001b[0;34m(\u001b[0m\u001b[0mvqc\u001b[0m\u001b[0;34m)\u001b[0m\u001b[0;34m\u001b[0m\u001b[0;34m\u001b[0m\u001b[0m\n\u001b[0m\u001b[1;32m     18\u001b[0m \u001b[0mprint\u001b[0m\u001b[0;34m(\u001b[0m\u001b[0;34mf\"Program ID: {program_id}\"\u001b[0m\u001b[0;34m)\u001b[0m\u001b[0;34m\u001b[0m\u001b[0;34m\u001b[0m\u001b[0m\n",
            "\u001b[0;31mAttributeError\u001b[0m: module 'qiskit_machine_learning' has no attribute 'runtime'"
          ]
        }
      ]
    },
    {
      "cell_type": "code",
      "source": [],
      "metadata": {
        "id": "5-W2MFzLJP4R"
      },
      "execution_count": null,
      "outputs": []
    },
    {
      "cell_type": "code",
      "source": [],
      "metadata": {
        "id": "C52wEYgYJP60"
      },
      "execution_count": null,
      "outputs": []
    },
    {
      "cell_type": "markdown",
      "source": [
        "### Implement Apmplitude Embedding for encoding quantum state"
      ],
      "metadata": {
        "id": "y22Z6cRZBMhQ"
      }
    },
    {
      "cell_type": "code",
      "source": [
        "\n",
        "# # Checking different row by changing the index\n",
        "# index_credit = 2  # checking 2nd row coefficient\n",
        "# amplitudes = coefficients[index_credit]\n",
        "\n",
        "# # Build the amplitude embedding\n",
        "# qc = QuantumCircuit(num_qubits)\n",
        "# qc.initialize(amplitudes, range(num_qubits))\n",
        "# # qc.measure_all()\n",
        "\n",
        "# # # Draw the amplitude embedding circuit\n",
        "# # qc.draw(output=\"mpl\")"
      ],
      "metadata": {
        "id": "Qf1xrxA8BAxd"
      },
      "execution_count": null,
      "outputs": []
    },
    {
      "cell_type": "code",
      "source": [],
      "metadata": {
        "id": "mxc_gX5vCHnf"
      },
      "execution_count": null,
      "outputs": []
    }
  ]
}