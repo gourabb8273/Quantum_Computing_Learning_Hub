{
  "nbformat": 4,
  "nbformat_minor": 0,
  "metadata": {
    "colab": {
      "provenance": []
    },
    "kernelspec": {
      "name": "python3",
      "display_name": "Python 3"
    },
    "language_info": {
      "name": "python"
    }
  },
  "cells": [
    {
      "cell_type": "code",
      "execution_count": 1,
      "metadata": {
        "colab": {
          "base_uri": "https://localhost:8080/"
        },
        "id": "Q8YxDT7gY6_d",
        "outputId": "fe5f6921-4d8a-4801-9b5f-ab82a0459b67"
      },
      "outputs": [
        {
          "output_type": "stream",
          "name": "stdout",
          "text": [
            "\u001b[2K     \u001b[90m━━━━━━━━━━━━━━━━━━━━━━━━━━━━━━━━━━━━━━━━\u001b[0m \u001b[32m18.7/18.7 MB\u001b[0m \u001b[31m32.6 MB/s\u001b[0m eta \u001b[36m0:00:00\u001b[0m\n",
            "\u001b[2K     \u001b[90m━━━━━━━━━━━━━━━━━━━━━━━━━━━━━━━━━━━━━━━━\u001b[0m \u001b[32m139.2/139.2 kB\u001b[0m \u001b[31m9.9 MB/s\u001b[0m eta \u001b[36m0:00:00\u001b[0m\n",
            "\u001b[2K     \u001b[90m━━━━━━━━━━━━━━━━━━━━━━━━━━━━━━━━━━━━━━━━\u001b[0m \u001b[32m77.1/77.1 kB\u001b[0m \u001b[31m4.5 MB/s\u001b[0m eta \u001b[36m0:00:00\u001b[0m\n",
            "\u001b[2K     \u001b[90m━━━━━━━━━━━━━━━━━━━━━━━━━━━━━━━━━━━━━━━━\u001b[0m \u001b[32m102.4/102.4 kB\u001b[0m \u001b[31m4.7 MB/s\u001b[0m eta \u001b[36m0:00:00\u001b[0m\n",
            "\u001b[2K     \u001b[90m━━━━━━━━━━━━━━━━━━━━━━━━━━━━━━━━━━━━━━━━\u001b[0m \u001b[32m3.4/3.4 MB\u001b[0m \u001b[31m21.0 MB/s\u001b[0m eta \u001b[36m0:00:00\u001b[0m\n",
            "\u001b[2K     \u001b[90m━━━━━━━━━━━━━━━━━━━━━━━━━━━━━━━━━━━━━━━━\u001b[0m \u001b[32m6.7/6.7 MB\u001b[0m \u001b[31m23.4 MB/s\u001b[0m eta \u001b[36m0:00:00\u001b[0m\n",
            "\u001b[2K     \u001b[90m━━━━━━━━━━━━━━━━━━━━━━━━━━━━━━━━━━━━━━━━\u001b[0m \u001b[32m105.3/105.3 kB\u001b[0m \u001b[31m5.3 MB/s\u001b[0m eta \u001b[36m0:00:00\u001b[0m\n",
            "\u001b[2K     \u001b[90m━━━━━━━━━━━━━━━━━━━━━━━━━━━━━━━━━━━━━━━━\u001b[0m \u001b[32m10.3/10.3 MB\u001b[0m \u001b[31m45.7 MB/s\u001b[0m eta \u001b[36m0:00:00\u001b[0m\n",
            "\u001b[2K     \u001b[90m━━━━━━━━━━━━━━━━━━━━━━━━━━━━━━━━━━━━━━━━\u001b[0m \u001b[32m45.5/45.5 kB\u001b[0m \u001b[31m3.1 MB/s\u001b[0m eta \u001b[36m0:00:00\u001b[0m\n",
            "\u001b[2K     \u001b[90m━━━━━━━━━━━━━━━━━━━━━━━━━━━━━━━━━━━━━━━━\u001b[0m \u001b[32m223.7/223.7 kB\u001b[0m \u001b[31m12.2 MB/s\u001b[0m eta \u001b[36m0:00:00\u001b[0m\n",
            "\u001b[2K     \u001b[90m━━━━━━━━━━━━━━━━━━━━━━━━━━━━━━━━━━━━━━━━\u001b[0m \u001b[32m142.5/142.5 kB\u001b[0m \u001b[31m2.0 MB/s\u001b[0m eta \u001b[36m0:00:00\u001b[0m\n",
            "\u001b[2K     \u001b[90m━━━━━━━━━━━━━━━━━━━━━━━━━━━━━━━━━━━━━━━━\u001b[0m \u001b[32m305.6/305.6 kB\u001b[0m \u001b[31m18.4 MB/s\u001b[0m eta \u001b[36m0:00:00\u001b[0m\n",
            "\u001b[?25h"
          ]
        }
      ],
      "source": [
        "!pip install -q dwave-ocean-sdk"
      ]
    },
    {
      "cell_type": "code",
      "source": [
        "import pandas as pd, numpy as np\n",
        "# from ortools.sat.python import cp_model # MILP\n",
        "#inputs\n",
        "nodes = pd.read_excel('route_inputs.xlsx', sheet_name='nodes')\n",
        "paths = pd.read_excel('route_inputs.xlsx', sheet_name='paths')\n",
        "n_nodes = len(nodes)\n",
        "n_paths = len(paths)\n",
        "print('Nodes =====')\n",
        "print(nodes)\n",
        "print('Paths =====')\n",
        "print(paths)"
      ],
      "metadata": {
        "colab": {
          "base_uri": "https://localhost:8080/"
        },
        "id": "tqgU0C2AZAiG",
        "outputId": "a4ad11ff-a6d4-4860-e553-5b9e81b04e5c"
      },
      "execution_count": 90,
      "outputs": [
        {
          "output_type": "stream",
          "name": "stdout",
          "text": [
            "Nodes =====\n",
            "   node   description\n",
            "0     1        origin\n",
            "1     2  middle point\n",
            "2     3  middle point\n",
            "3     4  middle point\n",
            "4     5  middle point\n",
            "5     6  middle point\n",
            "6     7   destination\n",
            "Paths =====\n",
            "   node_from  node_to  distance\n",
            "0          1        2       220\n",
            "1          1        3       150\n",
            "2          2        4       650\n",
            "3          2        5       900\n",
            "4          4        7       500\n",
            "5          5        7       400\n",
            "6          3        6       500\n",
            "7          6        7       400\n",
            "8          1        5       640\n"
          ]
        }
      ]
    },
    {
      "cell_type": "code",
      "source": [
        "import pandas as pd\n",
        "import networkx as nx\n",
        "import matplotlib.pyplot as plt\n",
        "# Create a graph object\n",
        "G = nx.Graph()\n",
        "\n",
        "# Add nodes to the graph\n",
        "for _, node in nodes.iterrows():\n",
        "    G.add_node(node['node'], label=node['description'])\n",
        "\n",
        "# Add edges to the graph\n",
        "for _, path in paths.iterrows():\n",
        "    G.add_edge(path['node_from'], path['node_to'], weight=path['distance'])\n",
        "\n",
        "# Draw the graph\n",
        "pos = nx.spring_layout(G)  # Position nodes using Fruchterman-Reingold force-directed algorithm\n",
        "nx.draw(G, pos, with_labels=True, node_size=1000, node_color='skyblue', font_size=10, font_weight='bold')\n",
        "edge_labels = {(edge[0], edge[1]): G.edges[edge]['weight'] for edge in G.edges}\n",
        "nx.draw_networkx_edge_labels(G, pos, edge_labels=edge_labels, font_color='red')\n",
        "\n",
        "# Show the graph\n",
        "plt.title('Route Graph')\n",
        "plt.show()"
      ],
      "metadata": {
        "colab": {
          "base_uri": "https://localhost:8080/",
          "height": 539
        },
        "id": "TO1AqZawZGlw",
        "outputId": "058bec34-a81a-4060-e5af-75ccd2ec1e42"
      },
      "execution_count": 91,
      "outputs": [
        {
          "output_type": "display_data",
          "data": {
            "text/plain": [
              "<Figure size 640x480 with 1 Axes>"
            ],
            "image/png": "[encoded data removed]"
          },
          "metadata": {}
        }
      ]
    },
    {
      "cell_type": "code",
      "source": [
        "x = np.zeros(n_paths).tolist() #it has index of the paths like x[0] for first index i.e. node 1 to 2\n",
        "x"
      ],
      "metadata": {
        "colab": {
          "base_uri": "https://localhost:8080/"
        },
        "id": "_JUvqXnhZLuT",
        "outputId": "2f47b42a-ba17-45a2-8498-23b81a9b6ace"
      },
      "execution_count": 92,
      "outputs": [
        {
          "output_type": "execute_result",
          "data": {
            "text/plain": [
              "[0.0, 0.0, 0.0, 0.0, 0.0, 0.0, 0.0, 0.0, 0.0]"
            ]
          },
          "metadata": {},
          "execution_count": 92
        }
      ]
    },
    {
      "cell_type": "code",
      "source": [
        "from dimod import Binary\n",
        "import neal\n",
        "import dimod\n",
        "from dwave.system import DWaveSampler, EmbeddingComposite, FixedEmbeddingComposite, LeapHybridDQMSampler, LeapHybridCQMSampler\n",
        "\n",
        "x = {}\n",
        "\n",
        "for p in paths.index:\n",
        "    x[p] = Binary('x_{}'.format(p))  # Use underscore instead of brackets for naming\n",
        "\n",
        "print(x) # each index of x like x[[0]] goes 0 to 1 binary variable hence x[[0]](0..1)\n",
        " # x[[0]](0..1) means we are taking about index one where node 1 to 2 distance 220 this x[0] value can be 0 or 1\n",
        "print(x[0])"
      ],
      "metadata": {
        "colab": {
          "base_uri": "https://localhost:8080/"
        },
        "id": "G6ZAvNstZOhX",
        "outputId": "c050866c-b2d0-4e40-89c5-36fd4ade081a"
      },
      "execution_count": 93,
      "outputs": [
        {
          "output_type": "stream",
          "name": "stdout",
          "text": [
            "{0: BinaryQuadraticModel({'x_0': 1.0}, {}, 0.0, 'BINARY'), 1: BinaryQuadraticModel({'x_1': 1.0}, {}, 0.0, 'BINARY'), 2: BinaryQuadraticModel({'x_2': 1.0}, {}, 0.0, 'BINARY'), 3: BinaryQuadraticModel({'x_3': 1.0}, {}, 0.0, 'BINARY'), 4: BinaryQuadraticModel({'x_4': 1.0}, {}, 0.0, 'BINARY'), 5: BinaryQuadraticModel({'x_5': 1.0}, {}, 0.0, 'BINARY'), 6: BinaryQuadraticModel({'x_6': 1.0}, {}, 0.0, 'BINARY'), 7: BinaryQuadraticModel({'x_7': 1.0}, {}, 0.0, 'BINARY'), 8: BinaryQuadraticModel({'x_8': 1.0}, {}, 0.0, 'BINARY')}\n",
            "BinaryQuadraticModel({'x_0': 1.0}, {}, 0.0, 'BINARY')\n"
          ]
        }
      ]
    },
    {
      "cell_type": "code",
      "source": [
        "#objective function\n",
        "objFun = sum([x[p] * paths.distance[p] for p in paths.index])\n",
        "print(objFun) # sum of multiplication of each path and weightage"
      ],
      "metadata": {
        "colab": {
          "base_uri": "https://localhost:8080/"
        },
        "id": "jG8Dh7EOBL52",
        "outputId": "5f93e47f-97f1-468b-deeb-82af6aa1862f"
      },
      "execution_count": 94,
      "outputs": [
        {
          "output_type": "stream",
          "name": "stdout",
          "text": [
            "BinaryQuadraticModel({'x_0': 220.0, 'x_1': 150.0, 'x_2': 650.0, 'x_3': 900.0, 'x_4': 500.0, 'x_5': 400.0, 'x_6': 500.0, 'x_7': 400.0, 'x_8': 640.0}, {}, 0.0, 'BINARY')\n"
          ]
        }
      ]
    },
    {
      "cell_type": "code",
      "source": [
        "cqm = dimod.ConstrainedQuadraticModel()"
      ],
      "metadata": {
        "id": "izso03VqVDyr"
      },
      "execution_count": 95,
      "outputs": []
    },
    {
      "cell_type": "code",
      "source": [
        "cqm.set_objective(objFun)"
      ],
      "metadata": {
        "id": "7Qw4CfHkVa3J"
      },
      "execution_count": 96,
      "outputs": []
    },
    {
      "cell_type": "code",
      "source": [
        "#filtering origin and destination node\n",
        "node_origin = int(nodes.node[nodes.description=='origin'].iloc[0])\n",
        "node_destination = int(nodes.node[nodes.description=='destination'].iloc[0])\n",
        "print(\"========Nodes======= \\n\",nodes)\n",
        "print(\"node_origin\",node_origin)\n",
        "print(\"node_destination\",node_destination)"
      ],
      "metadata": {
        "colab": {
          "base_uri": "https://localhost:8080/"
        },
        "id": "otAVRjgAVgJl",
        "outputId": "5b287fc9-5650-46b2-d6e5-a51970fb17fe"
      },
      "execution_count": 97,
      "outputs": [
        {
          "output_type": "stream",
          "name": "stdout",
          "text": [
            "========Nodes======= \n",
            "    node   description\n",
            "0     1        origin\n",
            "1     2  middle point\n",
            "2     3  middle point\n",
            "3     4  middle point\n",
            "4     5  middle point\n",
            "5     6  middle point\n",
            "6     7   destination\n",
            "node_origin 1\n",
            "node_destination 7\n"
          ]
        }
      ]
    },
    {
      "cell_type": "code",
      "source": [
        "print(paths)\n",
        "# node which are going from first node or origin node\n",
        "print(\"===path from origin value===\\n\",paths[paths.node_from==node_origin]) #node which are going from origin node\n",
        "print(\"===path from origin index ==\\n\", paths.index[paths.node_from==node_origin]) #get the index which are going from origin node\n",
        "print(\"-------------------\")\n",
        "print(\"===path to Destination value===\\n\",paths[paths.node_to==node_destination]) #node which are going from origin node\n",
        "print(\"===path to Destination index ==\\n\", paths.index[paths.node_to==node_destination]) #get the index which are going from origin node"
      ],
      "metadata": {
        "colab": {
          "base_uri": "https://localhost:8080/"
        },
        "id": "0Kdy122cVivs",
        "outputId": "b97b02b8-f8df-4cfc-a806-7d03f51815ce"
      },
      "execution_count": 98,
      "outputs": [
        {
          "output_type": "stream",
          "name": "stdout",
          "text": [
            "   node_from  node_to  distance\n",
            "0          1        2       220\n",
            "1          1        3       150\n",
            "2          2        4       650\n",
            "3          2        5       900\n",
            "4          4        7       500\n",
            "5          5        7       400\n",
            "6          3        6       500\n",
            "7          6        7       400\n",
            "8          1        5       640\n",
            "===path from origin value===\n",
            "    node_from  node_to  distance\n",
            "0          1        2       220\n",
            "1          1        3       150\n",
            "8          1        5       640\n",
            "===path from origin index ==\n",
            " Index([0, 1, 8], dtype='int64')\n",
            "-------------------\n",
            "===path to Destination value===\n",
            "    node_from  node_to  distance\n",
            "4          4        7       500\n",
            "5          5        7       400\n",
            "7          6        7       400\n",
            "===path to Destination index ==\n",
            " Index([4, 5, 7], dtype='int64')\n"
          ]
        }
      ]
    },
    {
      "cell_type": "code",
      "source": [
        "#constraint where node to destination node should be 1 and node from origin should be 1\n",
        "cqm.add_constraint(sum([x[p] for p in paths.index[paths.node_from==node_origin]]) == 1, label=\"xyz\") # here p is 0 and 1 index where edge from origin node\n",
        "cqm.add_constraint(sum([x[p] for p in paths.index[paths.node_to==node_destination]]) == 1, label=\"abc\") # here p is 4 5 and 7 index where edge to destination node"
      ],
      "metadata": {
        "colab": {
          "base_uri": "https://localhost:8080/",
          "height": 35
        },
        "id": "-aOONiacVlQB",
        "outputId": "0c7d879e-eabd-4ddd-aec4-2815d15686ff"
      },
      "execution_count": 99,
      "outputs": [
        {
          "output_type": "execute_result",
          "data": {
            "text/plain": [
              "'abc'"
            ],
            "application/vnd.google.colaboratory.intrinsic+json": {
              "type": "string"
            }
          },
          "metadata": {},
          "execution_count": 99
        }
      ]
    },
    {
      "cell_type": "code",
      "source": [
        "#constraint sum(x, in) == sum(x, out) sum of edge going to node should be equal to sum of edge going from node\n",
        "print(\"all middle point \\n\",nodes[nodes.description=='middle point']) # all middle point node index\n",
        "print(\"all middle point node index\\n\",nodes.node[nodes.description=='middle point']) # all middle point node index\n",
        "for node in nodes.node[nodes.description=='middle point']:\n",
        "    sum_in = sum([x[p] for p in paths.index[paths.node_to==node]])\n",
        "    sum_out = sum([x[p] for p in paths.index[paths.node_from==node]])\n",
        "    constraint_label = f\"Sum_in_out_{node}\"\n",
        "    cqm.add_constraint(sum_in - sum_out == 0, label=constraint_label)"
      ],
      "metadata": {
        "colab": {
          "base_uri": "https://localhost:8080/"
        },
        "id": "qH2drfQcVwbf",
        "outputId": "2f37fec9-0637-415a-918e-fa587b9537b9"
      },
      "execution_count": 100,
      "outputs": [
        {
          "output_type": "stream",
          "name": "stdout",
          "text": [
            "all middle point \n",
            "    node   description\n",
            "1     2  middle point\n",
            "2     3  middle point\n",
            "3     4  middle point\n",
            "4     5  middle point\n",
            "5     6  middle point\n",
            "all middle point node index\n",
            " 1    2\n",
            "2    3\n",
            "3    4\n",
            "4    5\n",
            "5    6\n",
            "Name: node, dtype: int64\n"
          ]
        }
      ]
    },
    {
      "cell_type": "code",
      "source": [
        "from collections import Counter\n",
        "#solve\n",
        "DWavesampler=EmbeddingComposite(DWaveSampler(solver='Advantage_system6.4',token='DEV-081b757ac8fa9601e4fd99a1710375235deaa0c4')) # using Dwave system\n",
        "# Create an instance of the LeapHybridCQMSampler\n",
        "sampler = LeapHybridCQMSampler(token='DEV-081b757ac8fa9601e4fd99a1710375235deaa0c4')\n",
        "\n",
        "# Sample from the CQM\n",
        "sample = sampler.sample_cqm(cqm, label=\"Example - TSP Optimization\")\n",
        "# sample.record\n",
        "# energies = sample.data_vectors['energy']\n",
        "# mit = max(energies) # taking optimum or minimum energy solution\n",
        "# print(mit)\n",
        "\n",
        "# Collect energy values and their occurrences\n",
        "energies_occurrences = Counter(sample.data_vectors['energy'])\n",
        "# Find the energy with the highest count (mode)\n",
        "most_common_energy = energies_occurrences.most_common(1)[0][0]\n",
        "print(\"Most common energy:\", most_common_energy)\n",
        "mit=most_common_energy\n",
        "mit\n",
        "\n",
        "# #print\n",
        "# print('status =', solver.StatusName(status))\n",
        "# print('OF =', solver.ObjectiveValue())\n",
        "\n",
        "# paths['activated'] = 0\n",
        "# for p in paths.index:\n",
        "#     paths.activated[p] = solver.Value(x[p]) # assigning the optimal binary value\n",
        "# print(paths)\n",
        "# # show only activated path\n",
        "# paths[paths.activated==1]"
      ],
      "metadata": {
        "colab": {
          "base_uri": "https://localhost:8080/"
        },
        "id": "8I6ndud8V3GP",
        "outputId": "4e8d136f-dea6-4668-f964-d4c667cee8e4"
      },
      "execution_count": 108,
      "outputs": [
        {
          "output_type": "stream",
          "name": "stdout",
          "text": [
            "Most common energy: 1040.0\n"
          ]
        },
        {
          "output_type": "execute_result",
          "data": {
            "text/plain": [
              "1040.0"
            ]
          },
          "metadata": {},
          "execution_count": 108
        }
      ]
    },
    {
      "cell_type": "code",
      "source": [
        "energies"
      ],
      "metadata": {
        "colab": {
          "base_uri": "https://localhost:8080/"
        },
        "id": "M-Noq2QhX_jw",
        "outputId": "59175975-bbbf-489b-e23b-27f38b91de2c"
      },
      "execution_count": 102,
      "outputs": [
        {
          "output_type": "execute_result",
          "data": {
            "text/plain": [
              "array([1040., 1040.,    0., 1040., 1040., 1040., 1040., 1040., 1040.,\n",
              "          0., 1040., 1040., 1040., 1040.,    0., 1040., 1040., 1040.,\n",
              "       1040., 1040., 1040., 1040., 1040., 1040., 1040., 1040., 1040.,\n",
              "          0., 1040., 1040., 1050.,  220., 1040., 1040., 1040., 1040.,\n",
              "       1040., 1040., 1040., 1040., 1040., 1040., 1040., 1040., 1040.,\n",
              "       1040., 1040., 1040., 1040., 1040., 1040., 1040., 1040., 1040.,\n",
              "       1040., 1040., 1040., 1040., 1040., 1040., 1040., 1040., 1040.,\n",
              "       1040., 1040., 1040., 1040., 1040., 1040., 1040., 1040., 1040.,\n",
              "       1040., 1040., 1040., 1040., 1040., 1040., 1040., 1040., 1040.,\n",
              "       1040., 1040., 1040., 1040., 1040., 1040., 1040., 1040., 1040.,\n",
              "       1040., 1040., 1040., 1040., 1040., 1040., 1040., 1040., 1040.,\n",
              "       1040., 1040., 1040., 1050., 1050.,    0.,    0.,  150.,  150.,\n",
              "        150.,  150.,  150.,  150.,  220.,  220.,  400.,  400.,  400.,\n",
              "        400.,  550.,  550.,  550.,  550.,  550.,  620.,  620.,  620.,\n",
              "        620.,  620.])"
            ]
          },
          "metadata": {},
          "execution_count": 102
        }
      ]
    },
    {
      "cell_type": "code",
      "source": [
        "X_list =[]\n",
        "i=1\n",
        "for sample, energy, num_occ in sample.data(['sample', 'energy', 'num_occurrences']):\n",
        "  if (energy==mit and  i > 0):\n",
        "     X_list.append(list(sample.values()))\n",
        "     i=i-1\n",
        "\n",
        "print(X_list)"
      ],
      "metadata": {
        "colab": {
          "base_uri": "https://localhost:8080/"
        },
        "id": "GWIjs7czWbG3",
        "outputId": "3e4fc754-e969-4abc-ab85-0b3c9ab40fd8"
      },
      "execution_count": 109,
      "outputs": [
        {
          "output_type": "stream",
          "name": "stdout",
          "text": [
            "[[0.0, 0.0, 0.0, 0.0, 0.0, 1.0, 0.0, 0.0, 1.0]]\n"
          ]
        }
      ]
    },
    {
      "cell_type": "code",
      "source": [
        "\n",
        "paths['activated'] = 0\n",
        "print(paths)"
      ],
      "metadata": {
        "colab": {
          "base_uri": "https://localhost:8080/"
        },
        "id": "Ap4gPpGzXpDW",
        "outputId": "f1b855ca-314e-45b7-8d67-e642d2344239"
      },
      "execution_count": 110,
      "outputs": [
        {
          "output_type": "stream",
          "name": "stdout",
          "text": [
            "   node_from  node_to  distance  activated\n",
            "0          1        2       220          0\n",
            "1          1        3       150          0\n",
            "2          2        4       650          0\n",
            "3          2        5       900          0\n",
            "4          4        7       500          0\n",
            "5          5        7       400          0\n",
            "6          3        6       500          0\n",
            "7          6        7       400          0\n",
            "8          1        5       640          0\n"
          ]
        }
      ]
    },
    {
      "cell_type": "code",
      "source": [
        "X_list"
      ],
      "metadata": {
        "colab": {
          "base_uri": "https://localhost:8080/"
        },
        "id": "O_DagCLqZJBD",
        "outputId": "d26e0a8e-4dae-469a-d68f-38db3207d340"
      },
      "execution_count": 111,
      "outputs": [
        {
          "output_type": "execute_result",
          "data": {
            "text/plain": [
              "[[0.0, 0.0, 0.0, 0.0, 0.0, 1.0, 0.0, 0.0, 1.0]]"
            ]
          },
          "metadata": {},
          "execution_count": 111
        }
      ]
    },
    {
      "cell_type": "code",
      "source": [
        "for p in paths.index:\n",
        "    paths.activated[p] = X_list[0][p]  # Assigning the optimal binary value\n",
        "\n",
        "print(paths)\n",
        "# Show only activated paths\n",
        "activated_paths = paths[paths.activated == 1]\n",
        "print(activated_paths)\n"
      ],
      "metadata": {
        "colab": {
          "base_uri": "https://localhost:8080/"
        },
        "id": "COHeJ0l8WicN",
        "outputId": "ce24e034-340e-4f77-a50a-35d57e422982"
      },
      "execution_count": 112,
      "outputs": [
        {
          "output_type": "stream",
          "name": "stdout",
          "text": [
            "   node_from  node_to  distance  activated\n",
            "0          1        2       220          0\n",
            "1          1        3       150          0\n",
            "2          2        4       650          0\n",
            "3          2        5       900          0\n",
            "4          4        7       500          0\n",
            "5          5        7       400          1\n",
            "6          3        6       500          0\n",
            "7          6        7       400          0\n",
            "8          1        5       640          1\n",
            "   node_from  node_to  distance  activated\n",
            "5          5        7       400          1\n",
            "8          1        5       640          1\n"
          ]
        }
      ]
    },
    {
      "cell_type": "code",
      "source": [
        "# Finding shortes path in the graph\n",
        "for _, node in nodes.iterrows():\n",
        "    G.add_node(node['node'], label=node['description'])\n",
        "\n",
        "# Add edges to the graph\n",
        "for _, path in paths.iterrows():\n",
        "    edge_color = 'blue' if path['activated'] == 1 else 'grey'\n",
        "    G.add_edge(path['node_from'], path['node_to'], weight=path['distance'], color=edge_color)\n",
        "\n",
        "# Draw the graph\n",
        "pos = nx.spring_layout(G)  # Position nodes using Fruchterman-Reingold force-directed algorithm\n",
        "nx.draw(G, pos, with_labels=True, node_size=1000, font_size=10, font_weight='bold', edge_color=[G[u][v]['color'] for u, v in G.edges])\n",
        "edge_labels = {(edge[0], edge[1]): G.edges[edge]['weight'] for edge in G.edges}\n",
        "nx.draw_networkx_edge_labels(G, pos, edge_labels=edge_labels, font_color='red')\n",
        "\n",
        "# Show the graph\n",
        "plt.title('Route Graph')\n",
        "plt.show()"
      ],
      "metadata": {
        "colab": {
          "base_uri": "https://localhost:8080/",
          "height": 539
        },
        "id": "h5rT1jA8WyaA",
        "outputId": "8573afaa-2bab-4b8b-bf0b-1c2c2e30c005"
      },
      "execution_count": 113,
      "outputs": [
        {
          "output_type": "display_data",
          "data": {
            "text/plain": [
              "<Figure size 640x480 with 1 Axes>"
            ],
            "image/png": "[encoded data removed]"
          },
          "metadata": {}
        }
      ]
    },
    {
      "cell_type": "code",
      "source": [],
      "metadata": {
        "id": "zghyTgQJZPH9"
      },
      "execution_count": null,
      "outputs": []
    }
  ]
}