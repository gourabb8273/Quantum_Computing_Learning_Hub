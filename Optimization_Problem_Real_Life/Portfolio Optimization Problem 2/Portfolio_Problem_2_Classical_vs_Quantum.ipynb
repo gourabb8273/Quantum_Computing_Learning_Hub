{
  "nbformat": 4,
  "nbformat_minor": 0,
  "metadata": {
    "colab": {
      "provenance": []
    },
    "kernelspec": {
      "name": "python3",
      "display_name": "Python 3"
    },
    "language_info": {
      "name": "python"
    }
  },
  "cells": [
    {
      "cell_type": "code",
      "execution_count": null,
      "metadata": {
        "id": "NBbFlIDns1rv"
      },
      "outputs": [],
      "source": [
        "!pip install -q dwave-ocean-sdk\n",
        "!pip install -q ortools"
      ]
    },
    {
      "cell_type": "markdown",
      "source": [
        "# Problem Statement\n",
        "A person named John wants to find best investment options, he has total budget 100,000 USD.\n",
        "There are 3 funds,\n",
        "* A) Fund A is low risk fund with historical gain of 5%\n",
        "* B) Fund B is medium risk fund with historical gain of 10%\n",
        "* c) Fund C is High risk fund with historical gain of 12%\n",
        "\n",
        "He wish to control the risk of his investment with maximum of 10% of his money in the investment with high risk fund and 20% with medium risk fund.\n",
        "***Maximize the return***\n",
        "\n",
        "**Mathematical Formulation**\n",
        "  **Variable**\n",
        "*    R1, R2, R3 are the return of investment A, B, C\n",
        "*    C1, C2, C3 are the investment capital in fund A, B, C\n",
        "\n",
        "  **Constraints**\n",
        "*    C1+C2+C3 = 100,000\n",
        "*    R1 = 0.05C1\n",
        "*    R2 = 0.10C2\n",
        "*    R3 = 0.12C3\n",
        "*    0<=C2<= 0.2*100,000\n",
        "*    0<=C3<= 0.1*100,000\n",
        "\n",
        "  **Objective Function**\n",
        "*    maximize R1+ R2 +R3"
      ],
      "metadata": {
        "id": "QL65bvELzM8X"
      }
    },
    {
      "cell_type": "markdown",
      "source": [
        "## Classical Solution using GLOP"
      ],
      "metadata": {
        "id": "_nNymoBFzNE5"
      }
    },
    {
      "cell_type": "code",
      "source": [
        "from ortools.linear_solver import pywraplp\n",
        "\n",
        "# Create the linear solver with the GLOP backend made by Google.\n",
        "solver = pywraplp.Solver.CreateSolver('GLOP')\n",
        "\n",
        "total_budget = 100000\n",
        "# Adding variables\n",
        "# capital of investment\n",
        "C1 = solver.IntVar(0, total_budget, 'C1')\n",
        "C2 = solver.IntVar(0, total_budget, 'C2')\n",
        "C3 = solver.IntVar(0, total_budget, 'C3')\n",
        "\n",
        "# return of investment\n",
        "R1 = solver.IntVar(0, total_budget, 'R1')\n",
        "R2 = solver.IntVar(0, total_budget, 'R2')\n",
        "R3 = solver.IntVar(0, total_budget, 'R3')\n",
        "\n",
        "# Defining the expressions for return of investment\n",
        "solver.Add(R1 == 0.05 * C1)  # Low risk fund has 5% gain historical per year\n",
        "solver.Add(R2 == 0.10 * C2)  # Medium Risk Fund has 10% gain per year\n",
        "solver.Add(R3 == 0.12 * C3)  # High risk fund has 12% gain per year\n",
        "\n",
        "# Total weighted return\n",
        "total_return = R1 + R2 + R3\n",
        "\n",
        "# Adding constraint: total allocation equals total budget\n",
        "solver.Add(C1 + C2 + C3 == total_budget)\n",
        "\n",
        "# Adding constraint: minimum allocation percentage for C2 and C3\n",
        "min_allocation_percentage = 0.05 * total_budget  # 5% of total budget\n",
        "solver.Add(C2 >= min_allocation_percentage)\n",
        "solver.Add(C3 >= min_allocation_percentage)\n",
        "\n",
        "# Adding constraint: maximum allocation percentage for C2 and C3\n",
        "max_allocation_percentage_C2 = 0.2 * total_budget  # 20% of total budget\n",
        "max_allocation_percentage_C3 = 0.1 * total_budget  # 10% of total budget\n",
        "solver.Add(C2 <= max_allocation_percentage_C2)\n",
        "solver.Add(C3 <= max_allocation_percentage_C3)\n",
        "\n",
        "# Maximize total return\n",
        "solver.Maximize(total_return)\n",
        "\n",
        "# Solve the problem\n",
        "result = solver.Solve()\n",
        "\n",
        "# Check if it is optimal\n",
        "if result == pywraplp.Solver.OPTIMAL:\n",
        "    print('Optimal Found')\n",
        "\n",
        "# Print the solution\n",
        "print('C1:', C1.solution_value())\n",
        "print('C2:', C2.solution_value())\n",
        "print('C3:', C3.solution_value())\n",
        "print('R1:', R1.solution_value())\n",
        "print('R2:', R2.solution_value())\n",
        "print('R3:', R3.solution_value())\n",
        "# Calculate return percentages\n",
        "return_percentage_C1 = (R1.solution_value() / C1.solution_value()) * 100\n",
        "return_percentage_C2 = (R2.solution_value() / C2.solution_value()) * 100\n",
        "return_percentage_C3 = (R3.solution_value() / C3.solution_value()) * 100\n",
        "total_return = R1.solution_value()+R2.solution_value()+R3.solution_value()\n",
        "print(\"Total return\",total_return )\n",
        "print('Return Percentage for C1:', return_percentage_C1, '%')\n",
        "print('Return Percentage for C2:', return_percentage_C2, '%')\n",
        "print('Return Percentage for C3:', return_percentage_C3, '%')"
      ],
      "metadata": {
        "colab": {
          "base_uri": "https://localhost:8080/"
        },
        "id": "w7zD_-76s4ex",
        "outputId": "458832f6-1c7a-4c96-f0cb-e2335ad309ee"
      },
      "execution_count": 57,
      "outputs": [
        {
          "output_type": "stream",
          "name": "stdout",
          "text": [
            "Optimal Found\n",
            "C1: 70000.0\n",
            "C2: 20000.0\n",
            "C3: 10000.0\n",
            "R1: 3500.0\n",
            "R2: 2000.0\n",
            "R3: 1200.0\n",
            "Total return 6700.0\n",
            "Return Percentage for C1: 5.0 %\n",
            "Return Percentage for C2: 10.0 %\n",
            "Return Percentage for C3: 12.0 %\n"
          ]
        }
      ]
    },
    {
      "cell_type": "code",
      "source": [
        "import dimod\n",
        "from dwave.system import LeapHybridCQMSampler\n",
        "\n",
        "# Define the total budget\n",
        "total_budget = 100000\n",
        "\n",
        "# Define the decision variables as binary variables\n",
        "C1_qc = dimod.Integer('C1_qc')\n",
        "C2_qc = dimod.Integer('C2_qc')\n",
        "C3_qc = dimod.Integer('C3_qc')\n",
        "R1_qc = dimod.Integer('R1_qc')\n",
        "R2_qc = dimod.Integer('R2_qc')\n",
        "R3_qc = dimod.Integer('R3_qc')\n",
        "\n",
        "# Total weighted return\n",
        "total_return_qc = R1_qc + R2_qc + R3_qc\n",
        "\n",
        "# Create a ConstrainedQuadraticModel\n",
        "cqm = dimod.ConstrainedQuadraticModel()\n",
        "\n",
        "# Adding objective function to be minimized or maximized\n",
        "cqm.set_objective(total_return_qc)\n",
        "\n",
        "# Adding constraints to the model\n",
        "# Defining the expressions for return of investment\n",
        "cqm.add_constraint((R1_qc - 0.05 * C1_qc) == 0, label=\"low risk constraint\")  # Low risk fund has 5% gain historical per year\n",
        "cqm.add_constraint((R2_qc - 0.10 * C2_qc) == 0, label=\"medium risk constraint\")  # Medium Risk Fund has 10% gain per year\n",
        "cqm.add_constraint((R3_qc - 0.12 * C3_qc) == 0, label=\"high risk constraint\")  # High risk fund has 12% gain per year\n",
        "\n",
        "\n",
        "# Adding constraint: total allocation equals total budget\n",
        "cqm.add_constraint(C1_qc + C2_qc + C3_qc == total_budget)\n",
        "\n",
        "# Adding constraint: minimum allocation percentage for C2 and C3\n",
        "min_allocation_percentage = 0.05 * total_budget  # 5% of total budget\n",
        "cqm.add_constraint(C2_qc >= min_allocation_percentage,label=\"C2 min allocation constraint\")\n",
        "cqm.add_constraint(C3_qc >= min_allocation_percentage,label=\"C3 min allocation constraint\")\n",
        "\n",
        "# Adding constraint: maximum allocation percentage for C2 and C3\n",
        "max_allocation_percentage_C2 = 0.2 * total_budget  # 20% of total budget\n",
        "max_allocation_percentage_C3 = 0.1 * total_budget  # 10% of total budget\n",
        "cqm.add_constraint(C2_qc <= max_allocation_percentage_C2,label=\"C2 max allocation constraint\")\n",
        "cqm.add_constraint(C3_qc <= max_allocation_percentage_C3,label=\"C3 max allocation constraint\")\n",
        "\n",
        "\n",
        "# Create an instance of the LeapHybridCQMSampler\n",
        "sampler = LeapHybridCQMSampler(token='DEV-081b757ac8fa9601e4fd99a1710375235deaa0c4')\n",
        "\n",
        "# Sample from the CQM\n",
        "sample = sampler.sample_cqm(cqm, label=\"Portfolio Optimization\")\n",
        "\n",
        "# Extract the optimal solution\n",
        "energies = sample.data_vectors['energy']\n",
        "optimal_energy = max(energies)\n",
        "optimal_samples = [sample for sample, energy in zip(sample.samples(), energies) if energy == optimal_energy]\n",
        "optimal_solution = optimal_samples[0]\n",
        "print(optimal_solution)\n",
        "\n",
        "# Print the solution\n",
        "print('C1:', optimal_solution['C1_qc'])\n",
        "print('C2:', optimal_solution['C2_qc'])\n",
        "print('C3:', optimal_solution['C3_qc'])\n",
        "print('R1:', optimal_solution['R1_qc'])\n",
        "print('R2:', optimal_solution['R2_qc'])\n",
        "print('R3:', optimal_solution['R3_qc'])\n",
        "\n",
        "\n",
        "# Calculate return percentages\n",
        "return_percentage_C1_qc = (optimal_solution['R1_qc'] / optimal_solution['C1_qc']) * 100\n",
        "return_percentage_C2_qc = (optimal_solution['R2_qc'] / optimal_solution['C2_qc']) * 100\n",
        "return_percentage_C3_qc = (optimal_solution['R3_qc'] / optimal_solution['C3_qc']) * 100\n",
        "total_return_qc = optimal_solution['R1_qc'] + optimal_solution['R2_qc'] + optimal_solution['R3_qc']\n",
        "\n",
        "print(\"Total return:\", total_return_qc)\n",
        "print('Return Percentage for C1:', return_percentage_C1_qc, '%')\n",
        "print('Return Percentage for C2:', return_percentage_C2_qc, '%')\n",
        "print('Return Percentage for C3:', return_percentage_C3_qc, '%')"
      ],
      "metadata": {
        "colab": {
          "base_uri": "https://localhost:8080/"
        },
        "id": "pK5skg-KvvMp",
        "outputId": "273cbac9-ead7-4280-d959-955c590725e2"
      },
      "execution_count": 60,
      "outputs": [
        {
          "output_type": "stream",
          "name": "stdout",
          "text": [
            "{'C1_qc': 71638.0, 'C2_qc': 18532.0, 'C3_qc': 9833.0, 'R1_qc': 3582.0, 'R2_qc': 1854.0, 'R3_qc': 1180.0}\n",
            "C1: 71638.0\n",
            "C2: 18532.0\n",
            "C3: 9833.0\n",
            "R1: 3582.0\n",
            "R2: 1854.0\n",
            "R3: 1180.0\n",
            "Total return: 6616.0\n",
            "Return Percentage for C1: 5.000139590720009 %\n",
            "Return Percentage for C2: 10.004316857327865 %\n",
            "Return Percentage for C3: 12.000406793450626 %\n"
          ]
        }
      ]
    },
    {
      "cell_type": "markdown",
      "source": [
        "## Comparison"
      ],
      "metadata": {
        "id": "Q7BArzHM6-kc"
      }
    },
    {
      "cell_type": "code",
      "source": [
        "# Print the solution\n",
        "print(\"=====================Classical Solution ============================\")\n",
        "print('C1:', C1.solution_value())\n",
        "print('C2:', C2.solution_value())\n",
        "print('C3:', C3.solution_value())\n",
        "print('R1:', R1.solution_value())\n",
        "print('R2:', R2.solution_value())\n",
        "print('R3:', R3.solution_value())\n",
        "# Calculate return percentages\n",
        "return_percentage_C1 = (R1.solution_value() / C1.solution_value()) * 100\n",
        "return_percentage_C2 = (R2.solution_value() / C2.solution_value()) * 100\n",
        "return_percentage_C3 = (R3.solution_value() / C3.solution_value()) * 100\n",
        "total_return = R1.solution_value()+R2.solution_value()+R3.solution_value()\n",
        "print(\"Total return\",total_return )\n",
        "print('Return Percentage for C1:', return_percentage_C1, '%')\n",
        "print('Return Percentage for C2:', return_percentage_C2, '%')\n",
        "print('Return Percentage for C3:', return_percentage_C3, '%')\n",
        "\n",
        "\n",
        "# Print the solution\n",
        "print(\"=====================Quantum Solution ============================\")\n",
        "# Print the solution\n",
        "print('C1:', optimal_solution['C1_qc'])\n",
        "print('C2:', optimal_solution['C2_qc'])\n",
        "print('C3:', optimal_solution['C3_qc'])\n",
        "print('R1:', optimal_solution['R1_qc'])\n",
        "print('R2:', optimal_solution['R2_qc'])\n",
        "print('R3:', optimal_solution['R3_qc'])\n",
        "\n",
        "# Calculate return percentages\n",
        "return_percentage_C1_qc = (optimal_solution['R1_qc'] / optimal_solution['C1_qc']) * 100\n",
        "return_percentage_C2_qc = (optimal_solution['R2_qc'] / optimal_solution['C2_qc']) * 100\n",
        "return_percentage_C3_qc = (optimal_solution['R3_qc'] / optimal_solution['C3_qc']) * 100\n",
        "total_return_qc = optimal_solution['R1_qc'] + optimal_solution['R2_qc'] + optimal_solution['R3_qc']\n",
        "\n",
        "print(\"Total return:\", total_return_qc)\n",
        "print('Return Percentage for C1:', return_percentage_C1_qc, '%')\n",
        "print('Return Percentage for C2:', return_percentage_C2_qc, '%')\n",
        "print('Return Percentage for C3:', return_percentage_C3_qc, '%')\n",
        "\n",
        "print(\"Return Difference QC - Classical\",total_return_qc - total_return)\n"
      ],
      "metadata": {
        "colab": {
          "base_uri": "https://localhost:8080/"
        },
        "id": "xlUnHB6V59we",
        "outputId": "41edb386-a448-4283-bca3-3a906dac05f0"
      },
      "execution_count": 61,
      "outputs": [
        {
          "output_type": "stream",
          "name": "stdout",
          "text": [
            "=====================Classical Solution ============================\n",
            "C1: 70000.0\n",
            "C2: 20000.0\n",
            "C3: 10000.0\n",
            "R1: 3500.0\n",
            "R2: 2000.0\n",
            "R3: 1200.0\n",
            "Total return 6700.0\n",
            "Return Percentage for C1: 5.0 %\n",
            "Return Percentage for C2: 10.0 %\n",
            "Return Percentage for C3: 12.0 %\n",
            "=====================Quantum Solution ============================\n",
            "C1: 71638.0\n",
            "C2: 18532.0\n",
            "C3: 9833.0\n",
            "R1: 3582.0\n",
            "R2: 1854.0\n",
            "R3: 1180.0\n",
            "Total return: 6616.0\n",
            "Return Percentage for C1: 5.000139590720009 %\n",
            "Return Percentage for C2: 10.004316857327865 %\n",
            "Return Percentage for C3: 12.000406793450626 %\n",
            "Return Difference QC - Classical -84.0\n"
          ]
        }
      ]
    },
    {
      "cell_type": "code",
      "source": [],
      "metadata": {
        "id": "1GepmH1A7Xpx"
      },
      "execution_count": null,
      "outputs": []
    }
  ]
}