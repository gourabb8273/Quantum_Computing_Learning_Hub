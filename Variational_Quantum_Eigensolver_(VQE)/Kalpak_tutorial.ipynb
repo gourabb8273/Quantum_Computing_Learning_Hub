{
 "cells": [
  {
   "cell_type": "code",
   "execution_count": 1,
   "id": "fc1fa06c-1595-4b39-a120-f63f0dbf6f63",
   "metadata": {},
   "outputs": [],
   "source": [
    "import warnings\n",
    "warnings.filterwarnings(\"ignore\")\n",
    "import matplotlib.pyplot as plt\n",
    "import numpy as np"
   ]
  },
  {
   "cell_type": "code",
   "execution_count": 2,
   "id": "7d7cdc24-fd8f-43b5-8c8a-4df0252a04d9",
   "metadata": {},
   "outputs": [],
   "source": [
    "from qiskit_nature.second_q.drivers import PySCFDriver\n",
    "\n",
    "# Create molecule\n",
    "driver = PySCFDriver(atom='H 0 0 0; H 0 0 0.735', basis='sto3g')"
   ]
  },
  {
   "cell_type": "code",
   "execution_count": 3,
   "id": "36992f2d-c7f2-4f03-afd3-a40fd960dcc0",
   "metadata": {},
   "outputs": [
    {
     "name": "stdout",
     "output_type": "stream",
     "text": [
      "Fermionic Operator\n",
      "number spin orbitals=4, number terms=36\n",
      "  -1.25633907300325 * ( +_0 -_0 )\n",
      "+ -0.47189600728114184 * ( +_1 -_1 )\n",
      "+ -1.25633907300325 * ( +_2 -_2 )\n",
      "+ -0.47189600728114184 * ( +_3 -_3 )\n",
      "+ 0.33785507740175813 * ( +_0 +_0 -_0 -_0 )\n",
      "+ 0.3322908651276482 * ( +_0 +_1 -_1 -_0 )\n",
      "+ 0.33785507740175813 * ( +_0 +_2 -_2 -_0 )\n",
      "+ 0.3322908651276482 * ( +_0 +_3 -_3 -_0 )\n",
      "+ 0.09046559989211572 * ( +_0 +_0 -_1 -_1 )\n",
      "+ 0.09046559989211572 * ( +_0 +_1 -_0 -_1 )\n",
      "+ 0.09046559989211572 * ( +_0 +_2 -_3 -_1 )\n",
      "+ 0.09046559989211572 * ( +_0 +_3 -_2 -_1 )\n",
      "+ 0.09046559989211572 * ( +_1 +_0 -_1 -_0 )\n",
      "+ 0.09046559989211572 * ( +_1 +_1 -_0 -_0 )\n",
      "+ 0.09046559989211572 * ( +_1 +_2 -_3 -_0 )\n",
      "+ 0.09046559989211572 * ( +_1 +_3 -_2 -_0 )\n",
      "+ 0.3322908651276482 * ( +_1 +_0 -_0 -_1 )\n",
      "+ 0.34928686136600884 * ( +_1 +_1 -_1 -_1 )\n",
      "+ 0.3322908651276482 * ( +_1 +_2 -_2 -_1 )\n",
      "+ 0.34928686136600884 * ( +_1 +_3 -_3 -_1 )\n",
      "+ 0.33785507740175813 * ( +_2 +_0 -_0 -_2 )\n",
      "+ 0.3322908651276482 * ( +_2 +_1 -_1 -_2 )\n",
      "+ 0.33785507740175813 * ( +_2 +_2 -_2 -_2 )\n",
      "+ 0.3322908651276482 * ( +_2 +_3 -_3 -_2 )\n",
      "+ 0.09046559989211572 * ( +_2 +_0 -_1 -_3 )\n",
      "+ 0.09046559989211572 * ( +_2 +_1 -_0 -_3 )\n",
      "+ 0.09046559989211572 * ( +_2 +_2 -_3 -_3 )\n",
      "+ 0.09046559989211572 * ( +_2 +_3 -_2 -_3 )\n",
      "+ 0.09046559989211572 * ( +_3 +_0 -_1 -_2 )\n",
      "+ 0.09046559989211572 * ( +_3 +_1 -_0 -_2 )\n",
      "+ 0.09046559989211572 * ( +_3 +_2 -_3 -_2 )\n",
      "+ 0.09046559989211572 * ( +_3 +_3 -_2 -_2 )\n",
      "+ 0.3322908651276482 * ( +_3 +_0 -_0 -_3 )\n",
      "+ 0.34928686136600884 * ( +_3 +_1 -_1 -_3 )\n",
      "+ 0.3322908651276482 * ( +_3 +_2 -_2 -_3 )\n",
      "+ 0.34928686136600884 * ( +_3 +_3 -_3 -_3 )\n"
     ]
    }
   ],
   "source": [
    "# Get second quantized Hamiltonian\n",
    "problem = driver.run()\n",
    "hamiltonian = problem.hamiltonian.second_q_op()\n",
    "print(hamiltonian)"
   ]
  },
  {
   "cell_type": "code",
   "execution_count": 4,
   "id": "d9f7f356-fbd7-4868-9a07-c5c5e5eda89b",
   "metadata": {},
   "outputs": [
    {
     "name": "stdout",
     "output_type": "stream",
     "text": [
      "SparsePauliOp(['IIII', 'IIIZ', 'IIZI', 'IZII', 'ZIII', 'IIZZ', 'IZIZ', 'ZIIZ', 'YYYY', 'XXYY', 'YYXX', 'XXXX', 'IZZI', 'ZIZI', 'ZZII'],\n",
      "              coeffs=[-0.81054798+0.j,  0.17218393+0.j, -0.22575349+0.j,  0.17218393+0.j,\n",
      " -0.22575349+0.j,  0.12091263+0.j,  0.16892754+0.j,  0.16614543+0.j,\n",
      "  0.0452328 +0.j,  0.0452328 +0.j,  0.0452328 +0.j,  0.0452328 +0.j,\n",
      "  0.16614543+0.j,  0.17464343+0.j,  0.12091263+0.j])\n"
     ]
    }
   ],
   "source": [
    "from qiskit_nature.second_q.mappers import JordanWignerMapper\n",
    "\n",
    "# Map to qubit Hamiltonian\n",
    "\n",
    "qubit_mapper = JordanWignerMapper()\n",
    "qubit_hamiltonian = qubit_mapper.map(hamiltonian)\n",
    "print(qubit_hamiltonian)"
   ]
  },
  {
   "cell_type": "code",
   "execution_count": 5,
   "id": "bd4eea1b-611c-4cb2-b87b-2b3e8a95435d",
   "metadata": {},
   "outputs": [
    {
     "name": "stdout",
     "output_type": "stream",
     "text": [
      "=== GROUND STATE ENERGY ===\n",
      " \n",
      "* Electronic ground state energy (Hartree): -1.857275030202\n",
      "  - computed part:      -1.857275030202\n",
      "~ Nuclear repulsion energy (Hartree): 0.719968994449\n",
      "> Total ground state energy (Hartree): -1.137306035753\n",
      " \n",
      "=== MEASURED OBSERVABLES ===\n",
      " \n",
      " \n",
      "=== DIPOLE MOMENTS ===\n",
      " \n",
      "~ Nuclear dipole moment (a.u.): [0.0  0.0  1.3889487]\n",
      " \n"
     ]
    }
   ],
   "source": [
    "from qiskit.algorithms.minimum_eigensolvers import NumPyMinimumEigensolver\n",
    "exact_solver = NumPyMinimumEigensolver()\n",
    "exact_job = exact_solver.compute_minimum_eigenvalue(qubit_hamiltonian)\n",
    "exact_result = problem.interpret(exact_job)\n",
    "print(exact_result)"
   ]
  },
  {
   "cell_type": "code",
   "execution_count": 6,
   "id": "b64ae127-0dba-4901-80c1-5499424d45e4",
   "metadata": {},
   "outputs": [],
   "source": [
    "from qiskit_nature.second_q.circuit.library import HartreeFock, UCCSD\n",
    "\n",
    "# Setup ansatz\n",
    "initial_state = HartreeFock(\n",
    "    num_spatial_orbitals=problem.num_spatial_orbitals, \n",
    "    num_particles=problem.num_particles, \n",
    "    qubit_mapper=qubit_mapper)\n",
    "\n",
    "ansatz = UCCSD(\n",
    "    num_spatial_orbitals=problem.num_spatial_orbitals, \n",
    "    num_particles=problem.num_particles, \n",
    "    qubit_mapper=qubit_mapper, \n",
    "    initial_state=initial_state)"
   ]
  },
  {
   "cell_type": "code",
   "execution_count": 8,
   "id": "970f41e5-a837-46a9-bf1d-d46765af8029",
   "metadata": {},
   "outputs": [
    {
     "data": {
      "text/html": [
       "<pre style=\"word-wrap: normal;white-space: pre;background: #fff0;line-height: 1.1;font-family: &quot;Courier New&quot;,Courier,monospace\">     ┌───┐┌───────────────────────────────┐┌───────────────────────────────┐»\n",
       "q_0: ┤ X ├┤0                              ├┤0                              ├»\n",
       "     └───┘│                               ││                               │»\n",
       "q_1: ─────┤1                              ├┤1                              ├»\n",
       "     ┌───┐│  exp(-it (IIXY + IIYX))(t[0]) ││  exp(-it (XYII + YXII))(t[1]) │»\n",
       "q_2: ┤ X ├┤2                              ├┤2                              ├»\n",
       "     └───┘│                               ││                               │»\n",
       "q_3: ─────┤3                              ├┤3                              ├»\n",
       "          └───────────────────────────────┘└───────────────────────────────┘»\n",
       "«     ┌─────────────────────────────────────────────────────────────────────────┐\n",
       "«q_0: ┤0                                                                        ├\n",
       "«     │                                                                         │\n",
       "«q_1: ┤1                                                                        ├\n",
       "«     │  exp(-it (YYXY + XYYY + XXXY + YXYY + XYXX + YYYX + YXXX + XXYX))(t[2]) │\n",
       "«q_2: ┤2                                                                        ├\n",
       "«     │                                                                         │\n",
       "«q_3: ┤3                                                                        ├\n",
       "«     └─────────────────────────────────────────────────────────────────────────┘</pre>"
      ],
      "text/plain": [
       "     ┌───┐┌───────────────────────────────┐┌───────────────────────────────┐»\n",
       "q_0: ┤ X ├┤0                              ├┤0                              ├»\n",
       "     └───┘│                               ││                               │»\n",
       "q_1: ─────┤1                              ├┤1                              ├»\n",
       "     ┌───┐│  exp(-it (IIXY + IIYX))(t[0]) ││  exp(-it (XYII + YXII))(t[1]) │»\n",
       "q_2: ┤ X ├┤2                              ├┤2                              ├»\n",
       "     └───┘│                               ││                               │»\n",
       "q_3: ─────┤3                              ├┤3                              ├»\n",
       "          └───────────────────────────────┘└───────────────────────────────┘»\n",
       "«     ┌─────────────────────────────────────────────────────────────────────────┐\n",
       "«q_0: ┤0                                                                        ├\n",
       "«     │                                                                         │\n",
       "«q_1: ┤1                                                                        ├\n",
       "«     │  exp(-it (YYXY + XYYY + XXXY + YXYY + XYXX + YYYX + YXXX + XXYX))(t[2]) │\n",
       "«q_2: ┤2                                                                        ├\n",
       "«     │                                                                         │\n",
       "«q_3: ┤3                                                                        ├\n",
       "«     └─────────────────────────────────────────────────────────────────────────┘"
      ]
     },
     "execution_count": 8,
     "metadata": {},
     "output_type": "execute_result"
    }
   ],
   "source": [
    "ansatz.decompose(reps=1).draw()"
   ]
  },
  {
   "cell_type": "code",
   "execution_count": 9,
   "id": "9854256d-765b-4231-88e6-e423bc06fc63",
   "metadata": {},
   "outputs": [],
   "source": [
    "from qiskit.algorithms.optimizers import COBYLA\n",
    "\n",
    "from qiskit.algorithms.minimum_eigensolvers import VQE,  MinimumEigensolverResult\n",
    "from qiskit.primitives import Estimator\n",
    "\n",
    "# Setup optimizer\n",
    "optimizer = COBYLA(maxiter=2500)\n",
    "\n",
    "# Setup callback\n",
    "energies = []\n",
    "def callback(nfev, x, fx, *args):\n",
    "    energies.append(fx)\n",
    "\n",
    "# Setup VQE\n",
    "estimator = Estimator()\n",
    "vqe_solver = VQE(estimator, ansatz, optimizer, callback=callback)"
   ]
  },
  {
   "cell_type": "code",
   "execution_count": 10,
   "id": "4a73a182-bb15-466e-9be6-97e10415fedb",
   "metadata": {},
   "outputs": [
    {
     "name": "stdout",
     "output_type": "stream",
     "text": [
      "=== GROUND STATE ENERGY ===\n",
      " \n",
      "* Electronic ground state energy (Hartree): -1.857275016169\n",
      "  - computed part:      -1.857275016169\n",
      "~ Nuclear repulsion energy (Hartree): 0.719968994449\n",
      "> Total ground state energy (Hartree): -1.13730602172\n",
      " \n",
      "=== MEASURED OBSERVABLES ===\n",
      " \n",
      " \n",
      "=== DIPOLE MOMENTS ===\n",
      " \n",
      "~ Nuclear dipole moment (a.u.): [0.0  0.0  1.3889487]\n",
      " \n"
     ]
    }
   ],
   "source": [
    "# Solve for the groundstate\n",
    "job = vqe_solver.compute_minimum_eigenvalue(qubit_hamiltonian)\n",
    "result = problem.interpret(job)\n",
    "print(result)"
   ]
  },
  {
   "cell_type": "code",
   "execution_count": 11,
   "id": "9a795f95-230c-43da-94db-9d42426671ec",
   "metadata": {},
   "outputs": [],
   "source": [
    "#store the vqe energies from callback in a list\n",
    "vqe_energies = []\n",
    "\n",
    "for energy in energies:\n",
    "    result = MinimumEigensolverResult()\n",
    "    result.eigenvalue = energy\n",
    "    vqe_energies.append(problem.interpret(result).total_energies[0])"
   ]
  },
  {
   "cell_type": "code",
   "execution_count": 12,
   "id": "8f4b609a-78b5-4067-bf47-3af14b4c1551",
   "metadata": {},
   "outputs": [
    {
     "data": {
      "image/png": "[encoded data removed]",
      "text/plain": [
       "<Figure size 640x480 with 1 Axes>"
      ]
     },
     "metadata": {},
     "output_type": "display_data"
    }
   ],
   "source": [
    "# Plot\n",
    "plt.plot(vqe_energies, label='VQE')\n",
    "plt.axhline(exact_result.total_energies[0], color='red', linestyle='dashed', label='Exact')\n",
    "\n",
    "plt.ylabel('Energy [Ha]', fontsize=20)\n",
    "plt.xlabel('Optimization steps', fontsize=20)\n",
    "\n",
    "plt.tick_params(which='both', labelsize=14)\n",
    "plt.legend(fontsize=16)\n",
    "plt.tight_layout()"
   ]
  },
  {
   "cell_type": "code",
   "execution_count": 13,
   "id": "5bc932d6-6a57-492f-a1f4-b9254f4ee56d",
   "metadata": {},
   "outputs": [
    {
     "name": "stdout",
     "output_type": "stream",
     "text": [
      "12\n"
     ]
    }
   ],
   "source": [
    "# Create LiH molecule\n",
    "driver = PySCFDriver(atom='Li 0 0 0; H 0 0 1.5', basis='sto3g')\n",
    "\n",
    "# Get second quantized Hamiltonian\n",
    "problem = driver.run()\n",
    "hamiltonian = problem.hamiltonian.second_q_op()\n",
    "\n",
    "# Map to qubit Hamiltonian\n",
    "qubit_mapper = JordanWignerMapper()\n",
    "qubit_hamiltonian = qubit_mapper.map(hamiltonian)\n",
    "print(qubit_hamiltonian.num_qubits)"
   ]
  },
  {
   "cell_type": "code",
   "execution_count": 14,
   "id": "965075de-a055-4875-9564-1baed4303d24",
   "metadata": {},
   "outputs": [
    {
     "name": "stdout",
     "output_type": "stream",
     "text": [
      "4\n"
     ]
    }
   ],
   "source": [
    "# Activate space transformer\n",
    "from qiskit_nature.second_q.transformers import ActiveSpaceTransformer\n",
    "\n",
    "active_space_transformer = ActiveSpaceTransformer(num_electrons=2, num_spatial_orbitals=2)\n",
    "as_problem = active_space_transformer.transform(problem)\n",
    "as_hamiltonian = qubit_mapper.map(as_problem.hamiltonian.second_q_op())\n",
    "print(as_hamiltonian.num_qubits)"
   ]
  },
  {
   "cell_type": "code",
   "execution_count": 15,
   "id": "f457849f-30fc-4bba-a281-39e44f2f1c9d",
   "metadata": {},
   "outputs": [
    {
     "name": "stdout",
     "output_type": "stream",
     "text": [
      "4\n"
     ]
    }
   ],
   "source": [
    "# Activate space transformer with specific orbitals\n",
    "from qiskit_nature.second_q.transformers import ActiveSpaceTransformer\n",
    "\n",
    "active_space_transformer = ActiveSpaceTransformer(num_electrons=2, num_spatial_orbitals=2,active_orbitals=[0, 4])\n",
    "as_problem = active_space_transformer.transform(problem)\n",
    "as_hamiltonian = qubit_mapper.map(as_problem.hamiltonian.second_q_op())\n",
    "print(as_hamiltonian.num_qubits)"
   ]
  },
  {
   "cell_type": "code",
   "execution_count": 16,
   "id": "32495f0c-fa82-4bd0-9497-53288375081e",
   "metadata": {},
   "outputs": [
    {
     "name": "stdout",
     "output_type": "stream",
     "text": [
      "{'nuclear_repulsion_energy': 1.05835442184, 'ActiveSpaceTransformer': -2.5698739591452}\n"
     ]
    }
   ],
   "source": [
    "print(as_problem.hamiltonian.constants)"
   ]
  },
  {
   "cell_type": "code",
   "execution_count": 17,
   "id": "1b667187-5d10-4a4b-8341-1a59476d0ae9",
   "metadata": {},
   "outputs": [
    {
     "name": "stdout",
     "output_type": "stream",
     "text": [
      "12\n"
     ]
    }
   ],
   "source": [
    "# Create molecule\n",
    "driver = PySCFDriver(atom='Li 0 0 0; H 0 0 1.5', basis='sto3g')\n",
    "\n",
    "# Get second quantized Hamiltonian\n",
    "problem = driver.run()\n",
    "hamiltonian = problem.hamiltonian.second_q_op()\n",
    "\n",
    "# Map to qubit Hamiltonian\n",
    "qubit_mapper = JordanWignerMapper()\n",
    "qubit_hamiltonian = qubit_mapper.map(hamiltonian)\n",
    "print(qubit_hamiltonian.num_qubits)"
   ]
  },
  {
   "cell_type": "code",
   "execution_count": 18,
   "id": "0ab575f7-5700-438f-8401-8759dd312e35",
   "metadata": {},
   "outputs": [
    {
     "name": "stdout",
     "output_type": "stream",
     "text": [
      "10\n"
     ]
    }
   ],
   "source": [
    "from qiskit_nature.second_q.transformers import FreezeCoreTransformer\n",
    "\n",
    "fc_transformer = FreezeCoreTransformer()\n",
    "\n",
    "fc_problem = fc_transformer.transform(problem)\n",
    "fc_hamiltonian = fc_problem.hamiltonian.second_q_op()\n",
    "# Map to qubit Hamiltonian\n",
    "qubit_mapper = JordanWignerMapper()\n",
    "qubit_hamiltonian = qubit_mapper.map(fc_hamiltonian)\n",
    "print(qubit_hamiltonian.num_qubits)"
   ]
  },
  {
   "cell_type": "code",
   "execution_count": 19,
   "id": "368c4f41-9601-4cd0-b6be-2bdfa8731b27",
   "metadata": {},
   "outputs": [
    {
     "name": "stdout",
     "output_type": "stream",
     "text": [
      "{'nuclear_repulsion_energy': 1.05835442184, 'FreezeCoreTransformer': -7.840306048794257}\n"
     ]
    }
   ],
   "source": [
    "print(fc_problem.hamiltonian.constants)"
   ]
  },
  {
   "cell_type": "code",
   "execution_count": 20,
   "id": "cc34963f-1999-49fc-b0be-d82d2c5cc1f8",
   "metadata": {},
   "outputs": [
    {
     "name": "stdout",
     "output_type": "stream",
     "text": [
      "6\n"
     ]
    }
   ],
   "source": [
    "fc_transformer = FreezeCoreTransformer(remove_orbitals=[4, 5]) # specify the orbitals to be frozen\n",
    "\n",
    "fc_problem = fc_transformer.transform(problem)\n",
    "fc_hamiltonian = fc_problem.hamiltonian.second_q_op()\n",
    "qubit_mapper = JordanWignerMapper()\n",
    "qubit_hamiltonian = qubit_mapper.map(fc_hamiltonian)\n",
    "print(qubit_hamiltonian.num_qubits)"
   ]
  },
  {
   "cell_type": "code",
   "execution_count": 21,
   "id": "9cab847a-92fa-49b1-b105-3c92b3811845",
   "metadata": {},
   "outputs": [],
   "source": [
    "driver = PySCFDriver(atom='H 0 0 0; H 0 0 0.735', basis='sto3g')\n",
    "es_problem = driver.run()\n",
    "hamiltonian = es_problem.hamiltonian\n",
    "second_q_op = hamiltonian.second_q_op()\n",
    "num_particles = es_problem.num_particles\n",
    "num_spatial_orbitals = es_problem.num_spatial_orbitals\n",
    "mapper = JordanWignerMapper()\n",
    "qubit_op = mapper.map(second_q_op)\n",
    "init_state = HartreeFock(num_spatial_orbitals, num_particles, mapper)\n",
    "ansatz = UCCSD(num_spatial_orbitals,num_particles, mapper, initial_state=init_state)"
   ]
  },
  {
   "cell_type": "code",
   "execution_count": 22,
   "id": "692ff17b-7e16-42a9-8ed4-135d791e2c01",
   "metadata": {},
   "outputs": [],
   "source": [
    "from qiskit_ibm_runtime import QiskitRuntimeService, Sampler, Estimator, Session, Options\n",
    "from qiskit.algorithms.minimum_eigensolvers import VQE\n",
    "from qiskit_ibm_provider import IBMProvider\n",
    "provider = IBMProvider()\n",
    "service = QiskitRuntimeService(channel=\"ibm_quantum\", instance='ibm-q/open/main') \n",
    "sim = service.get_backend('ibmq_qasm_simulator') # can be replaced with the device you want to use - example ibm_brisbane"
   ]
  },
  {
   "cell_type": "code",
   "execution_count": 23,
   "id": "72ddef3e-6e7e-423e-bc99-c5cab92b7d2b",
   "metadata": {},
   "outputs": [],
   "source": [
    "options = Options()\n",
    "options.execution.shots = 4000 ##number of shots\n",
    "optimizer = COBYLA()"
   ]
  },
  {
   "cell_type": "code",
   "execution_count": 24,
   "id": "bb1c31ca-f8fc-4637-ae13-1913f76bccb1",
   "metadata": {},
   "outputs": [],
   "source": [
    "with Session(service=service, backend=sim):\n",
    "    estimator = Estimator(options=options)\n",
    "    vqe = VQE(estimator,ansatz,optimizer)\n",
    "    result = vqe.compute_minimum_eigenvalue(qubit_op)\n",
    "freeze_core = es_problem.hamiltonian.constants\n",
    "energies = list(freeze_core.values())\n",
    "gse = result.optimal_value + energies[0]"
   ]
  },
  {
   "cell_type": "code",
   "execution_count": 25,
   "id": "4561465b-5cee-4c47-adac-4dbf61062ad1",
   "metadata": {},
   "outputs": [
    {
     "name": "stdout",
     "output_type": "stream",
     "text": [
      "{   'aux_operators_evaluated': None,\n",
      "    'cost_function_evals': 41,\n",
      "    'eigenvalue': -1.848105524701775,\n",
      "    'optimal_circuit': <qiskit_nature.second_q.circuit.library.ansatzes.uccsd.UCCSD object at 0x152f9d951690>,\n",
      "    'optimal_parameters': {   ParameterVectorElement(t[0]): 6.30049162601967,\n",
      "                              ParameterVectorElement(t[1]): -0.01818748485142203,\n",
      "                              ParameterVectorElement(t[2]): 3.077454558642367},\n",
      "    'optimal_point': array([ 6.30049163, -0.01818748,  3.07745456]),\n",
      "    'optimal_value': -1.848105524701775,\n",
      "    'optimizer_evals': None,\n",
      "    'optimizer_result': <qiskit.algorithms.optimizers.optimizer.OptimizerResult object at 0x152f9d951ab0>,\n",
      "    'optimizer_time': 192.16923356056213}\n"
     ]
    }
   ],
   "source": [
    "print(result)"
   ]
  },
  {
   "cell_type": "code",
   "execution_count": 26,
   "id": "af019eee-ad5d-4aa1-a8d0-1d153b5c5258",
   "metadata": {},
   "outputs": [
    {
     "name": "stdout",
     "output_type": "stream",
     "text": [
      "VQE Energy = -1.1281365302527955 Hartree\n"
     ]
    }
   ],
   "source": [
    "print(f\"VQE Energy = {gse} Hartree\")"
   ]
  },
  {
   "cell_type": "code",
   "execution_count": 27,
   "id": "a5ff34a9-56ff-426e-9f38-7e0a32fd7f10",
   "metadata": {},
   "outputs": [
    {
     "data": {
      "text/html": [
       "<h3>Version Information</h3><table><tr><th>Software</th><th>Version</th></tr><tr><td><code>qiskit</code></td><td>0.45.1</td></tr><tr><td><code>qiskit_algorithms</code></td><td>0.2.1</td></tr><tr><td><code>qiskit_aer</code></td><td>0.13.1</td></tr><tr><td><code>qiskit_nature</code></td><td>0.7.1</td></tr><tr><td><code>qiskit_ibm_provider</code></td><td>0.7.2</td></tr><tr><td><code>qiskit_ibm_runtime</code></td><td>0.16.1</td></tr><tr><th colspan='2'>System information</th></tr><tr><td>Python version</td><td>3.10.12</td></tr><tr><td>Python compiler</td><td>GCC 11.4.0</td></tr><tr><td>Python build</td><td>main, Nov 20 2023 15:14:05</td></tr><tr><td>OS</td><td>Linux</td></tr><tr><td>CPUs</td><td>8</td></tr><tr><td>Memory (Gb)</td><td>7.5273895263671875</td></tr><tr><td colspan='2'>Fri Feb 23 10:11:48 2024 IST</td></tr></table>"
      ],
      "text/plain": [
       "<IPython.core.display.HTML object>"
      ]
     },
     "metadata": {},
     "output_type": "display_data"
    }
   ],
   "source": [
    "import qiskit.tools.jupyter\n",
    "%qiskit_version_table"
   ]
  },
  {
   "cell_type": "code",
   "execution_count": null,
   "id": "20be0563-278b-40d2-b7ac-4f924418cca6",
   "metadata": {},
   "outputs": [],
   "source": []
  }
 ],
 "metadata": {
  "kernelspec": {
   "display_name": "Python 3 (ipykernel)",
   "language": "python",
   "name": "python3"
  },
  "language_info": {
   "codemirror_mode": {
    "name": "ipython",
    "version": 3
   },
   "file_extension": ".py",
   "mimetype": "text/x-python",
   "name": "python",
   "nbconvert_exporter": "python",
   "pygments_lexer": "ipython3",
   "version": "3.10.12"
  }
 },
 "nbformat": 4,
 "nbformat_minor": 5
}
